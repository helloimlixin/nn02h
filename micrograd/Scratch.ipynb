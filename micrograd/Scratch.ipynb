{
 "cells": [
  {
   "cell_type": "code",
   "id": "initial_id",
   "metadata": {
    "collapsed": true,
    "ExecuteTime": {
     "end_time": "2024-09-04T09:42:05.133338Z",
     "start_time": "2024-09-04T09:42:05.074228Z"
    }
   },
   "source": [
    "import math\n",
    "import numpy as np\n",
    "import matplotlib.pyplot as plt\n",
    "%matplotlib inline"
   ],
   "outputs": [],
   "execution_count": 101
  },
  {
   "metadata": {
    "ExecuteTime": {
     "end_time": "2024-09-04T09:42:05.140544Z",
     "start_time": "2024-09-04T09:42:05.135434Z"
    }
   },
   "cell_type": "code",
   "source": [
    "def f(x):\n",
    "    return 3 * x ** 2 - 4 * x + 5"
   ],
   "id": "328a2c0927fa5a2a",
   "outputs": [],
   "execution_count": 102
  },
  {
   "metadata": {
    "ExecuteTime": {
     "end_time": "2024-09-04T09:42:05.173421Z",
     "start_time": "2024-09-04T09:42:05.169415Z"
    }
   },
   "cell_type": "code",
   "source": "f(3.0)",
   "id": "6fae628ab01957d2",
   "outputs": [
    {
     "data": {
      "text/plain": [
       "20.0"
      ]
     },
     "execution_count": 103,
     "metadata": {},
     "output_type": "execute_result"
    }
   ],
   "execution_count": 103
  },
  {
   "metadata": {
    "ExecuteTime": {
     "end_time": "2024-09-04T09:42:05.213477Z",
     "start_time": "2024-09-04T09:42:05.198394Z"
    }
   },
   "cell_type": "code",
   "source": [
    "xs = np.arange(-5, 5, 0.25)\n",
    "ys = f(xs)\n",
    "ys"
   ],
   "id": "f89d0a3c0e7c0f03",
   "outputs": [
    {
     "data": {
      "text/plain": [
       "array([100.    ,  91.6875,  83.75  ,  76.1875,  69.    ,  62.1875,\n",
       "        55.75  ,  49.6875,  44.    ,  38.6875,  33.75  ,  29.1875,\n",
       "        25.    ,  21.1875,  17.75  ,  14.6875,  12.    ,   9.6875,\n",
       "         7.75  ,   6.1875,   5.    ,   4.1875,   3.75  ,   3.6875,\n",
       "         4.    ,   4.6875,   5.75  ,   7.1875,   9.    ,  11.1875,\n",
       "        13.75  ,  16.6875,  20.    ,  23.6875,  27.75  ,  32.1875,\n",
       "        37.    ,  42.1875,  47.75  ,  53.6875])"
      ]
     },
     "execution_count": 104,
     "metadata": {},
     "output_type": "execute_result"
    }
   ],
   "execution_count": 104
  },
  {
   "metadata": {
    "ExecuteTime": {
     "end_time": "2024-09-04T09:42:05.493927Z",
     "start_time": "2024-09-04T09:42:05.245505Z"
    }
   },
   "cell_type": "code",
   "source": "plt.plot(xs, ys)",
   "id": "2795ecdb67091496",
   "outputs": [
    {
     "data": {
      "text/plain": [
       "[<matplotlib.lines.Line2D at 0x23eefb8ebd0>]"
      ]
     },
     "execution_count": 105,
     "metadata": {},
     "output_type": "execute_result"
    },
    {
     "data": {
      "text/plain": [
       "<Figure size 640x480 with 1 Axes>"
      ],
      "image/png": "[encoded data removed]"
     },
     "metadata": {},
     "output_type": "display_data"
    }
   ],
   "execution_count": 105
  },
  {
   "metadata": {
    "ExecuteTime": {
     "end_time": "2024-09-04T09:42:05.539479Z",
     "start_time": "2024-09-04T09:42:05.534367Z"
    }
   },
   "cell_type": "code",
   "source": [
    "# compute the derivative of f by the definition of rate of change\n",
    "h = 0.000001\n",
    "x = 3.0\n",
    "slope = (f(x + h) - f(x)) / h # numerical approximation of the function slope at x\n",
    "slope"
   ],
   "id": "b75e4ec5286c15c4",
   "outputs": [
    {
     "data": {
      "text/plain": [
       "14.000003002223593"
      ]
     },
     "execution_count": 106,
     "metadata": {},
     "output_type": "execute_result"
    }
   ],
   "execution_count": 106
  },
  {
   "metadata": {
    "ExecuteTime": {
     "end_time": "2024-09-04T09:42:05.597745Z",
     "start_time": "2024-09-04T09:42:05.594269Z"
    }
   },
   "cell_type": "code",
   "source": [
    "# a more complex function\n",
    "a = 2.0\n",
    "b = -3.0\n",
    "c = 10.0\n",
    "d = a * b + c\n",
    "print(d)"
   ],
   "id": "8a214b12c79f2062",
   "outputs": [
    {
     "name": "stdout",
     "output_type": "stream",
     "text": [
      "4.0\n"
     ]
    }
   ],
   "execution_count": 107
  },
  {
   "metadata": {
    "ExecuteTime": {
     "end_time": "2024-09-04T09:42:05.636522Z",
     "start_time": "2024-09-04T09:42:05.632208Z"
    }
   },
   "cell_type": "code",
   "source": [
    "h = 0.0001\n",
    "\n",
    "d1 = a * b + c\n",
    "a += h\n",
    "d2 = a * b + c\n",
    "\n",
    "print(f'{d1}')\n",
    "print(f'{d2}')\n",
    "print(f'slope: {(d2 - d1) / h}') # it should just give you b"
   ],
   "id": "d9d9f09a6be5fe07",
   "outputs": [
    {
     "name": "stdout",
     "output_type": "stream",
     "text": [
      "4.0\n",
      "3.999699999999999\n",
      "slope: -3.000000000010772\n"
     ]
    }
   ],
   "execution_count": 108
  },
  {
   "metadata": {
    "ExecuteTime": {
     "end_time": "2024-09-04T09:42:05.685856Z",
     "start_time": "2024-09-04T09:42:05.682149Z"
    }
   },
   "cell_type": "code",
   "source": [
    "h = 0.0001\n",
    "\n",
    "d1 = a * b + c\n",
    "c += h\n",
    "d2 = a * b + c\n",
    "\n",
    "print(f'{d1}')\n",
    "print(f'{d2}')\n",
    "print(f'slope: {(d2 - d1) / h}') # it should just give you b"
   ],
   "id": "b21e59198cb3d6f4",
   "outputs": [
    {
     "name": "stdout",
     "output_type": "stream",
     "text": [
      "3.999699999999999\n",
      "3.9997999999999987\n",
      "slope: 0.9999999999976694\n"
     ]
    }
   ],
   "execution_count": 109
  },
  {
   "metadata": {},
   "cell_type": "markdown",
   "source": "## Let's Start to Build a Neural Network",
   "id": "880f4ffdaf0d18f1"
  },
  {
   "metadata": {
    "ExecuteTime": {
     "end_time": "2024-09-04T09:42:05.741927Z",
     "start_time": "2024-09-04T09:42:05.737661Z"
    }
   },
   "cell_type": "code",
   "source": [
    "class Value:\n",
    "    \n",
    "    def __init__(self, data, _children=(), _op='', label=''):\n",
    "        self._data = data\n",
    "        self._grad = 0.\n",
    "        self._prev = set(_children)\n",
    "        self._op = _op\n",
    "        self._label = label\n",
    "    \n",
    "    def __repr__(self):\n",
    "        # internal function to return the string representation of the object\n",
    "        return f'Value(data={self._data})'\n",
    "    \n",
    "    def __add__(self, other):\n",
    "        out = Value(self._data + other._data, (self, other), '+')\n",
    "        \n",
    "        return out\n",
    "\n",
    "    def __mul__(self, other):\n",
    "        out = Value(self._data * other._data, (self, other), 'x')\n",
    "        \n",
    "        return out\n",
    "        \n",
    "        return out"
   ],
   "id": "409bfe8fec1efc83",
   "outputs": [],
   "execution_count": 110
  },
  {
   "metadata": {
    "ExecuteTime": {
     "end_time": "2024-09-04T09:42:05.768593Z",
     "start_time": "2024-09-04T09:42:05.765998Z"
    }
   },
   "cell_type": "code",
   "source": [
    "a = Value(2.0, label='a')\n",
    "print(a)"
   ],
   "id": "bda5252adc529a10",
   "outputs": [
    {
     "name": "stdout",
     "output_type": "stream",
     "text": [
      "Value(data=2.0)\n"
     ]
    }
   ],
   "execution_count": 111
  },
  {
   "metadata": {
    "ExecuteTime": {
     "end_time": "2024-09-04T09:42:05.793872Z",
     "start_time": "2024-09-04T09:42:05.791365Z"
    }
   },
   "cell_type": "code",
   "source": "b = Value(-3.0, label='b')",
   "id": "6ee1eed3e1a4717b",
   "outputs": [],
   "execution_count": 112
  },
  {
   "metadata": {
    "ExecuteTime": {
     "end_time": "2024-09-04T09:42:05.806987Z",
     "start_time": "2024-09-04T09:42:05.804406Z"
    }
   },
   "cell_type": "code",
   "source": "e = a * b; e._label = 'e'",
   "id": "10eefabff1d8f7a6",
   "outputs": [],
   "execution_count": 113
  },
  {
   "metadata": {
    "ExecuteTime": {
     "end_time": "2024-09-04T09:42:05.815944Z",
     "start_time": "2024-09-04T09:42:05.813581Z"
    }
   },
   "cell_type": "code",
   "source": "c = Value(10.0, label='c')",
   "id": "1506af69f002ac77",
   "outputs": [],
   "execution_count": 114
  },
  {
   "metadata": {
    "ExecuteTime": {
     "end_time": "2024-09-04T09:42:05.826835Z",
     "start_time": "2024-09-04T09:42:05.824154Z"
    }
   },
   "cell_type": "code",
   "source": "print(a * b + c)",
   "id": "6825b4eb101e5a1c",
   "outputs": [
    {
     "name": "stdout",
     "output_type": "stream",
     "text": [
      "Value(data=4.0)\n"
     ]
    }
   ],
   "execution_count": 115
  },
  {
   "metadata": {
    "ExecuteTime": {
     "end_time": "2024-09-04T09:42:05.848924Z",
     "start_time": "2024-09-04T09:42:05.845573Z"
    }
   },
   "cell_type": "code",
   "source": "print((a.__mul__(b)).__add__(c))",
   "id": "811e60f5f8cc65d9",
   "outputs": [
    {
     "name": "stdout",
     "output_type": "stream",
     "text": [
      "Value(data=4.0)\n"
     ]
    }
   ],
   "execution_count": 116
  },
  {
   "metadata": {
    "ExecuteTime": {
     "end_time": "2024-09-04T09:42:05.876918Z",
     "start_time": "2024-09-04T09:42:05.874186Z"
    }
   },
   "cell_type": "code",
   "source": "d = e + c; d._label = 'd'",
   "id": "6b8da6781533dae9",
   "outputs": [],
   "execution_count": 117
  },
  {
   "metadata": {
    "ExecuteTime": {
     "end_time": "2024-09-04T09:42:05.902909Z",
     "start_time": "2024-09-04T09:42:05.898447Z"
    }
   },
   "cell_type": "code",
   "source": "d._prev",
   "id": "106b132da7d16303",
   "outputs": [
    {
     "data": {
      "text/plain": [
       "{Value(data=-6.0), Value(data=10.0)}"
      ]
     },
     "execution_count": 118,
     "metadata": {},
     "output_type": "execute_result"
    }
   ],
   "execution_count": 118
  },
  {
   "metadata": {
    "ExecuteTime": {
     "end_time": "2024-09-04T09:42:05.924237Z",
     "start_time": "2024-09-04T09:42:05.920218Z"
    }
   },
   "cell_type": "code",
   "source": "d._op",
   "id": "c1f807fa2fbc2db0",
   "outputs": [
    {
     "data": {
      "text/plain": [
       "'+'"
      ]
     },
     "execution_count": 119,
     "metadata": {},
     "output_type": "execute_result"
    }
   ],
   "execution_count": 119
  },
  {
   "metadata": {
    "ExecuteTime": {
     "end_time": "2024-09-04T09:42:05.966296Z",
     "start_time": "2024-09-04T09:42:05.960077Z"
    }
   },
   "cell_type": "code",
   "source": [
    "from graphviz import Digraph\n",
    "\n",
    "def trace(root):\n",
    "    # build a graph of all the nodes and edges starting from the root\n",
    "    nodes, edges = set(), set()\n",
    "    \n",
    "    def build(v):\n",
    "        if v not in nodes:\n",
    "            nodes.add(v)\n",
    "            for child in v._prev:\n",
    "                edges.add((child, v))\n",
    "                build(child)\n",
    "    build(root)\n",
    "    \n",
    "    return nodes, edges\n",
    "\n",
    "def draw_dot(root):\n",
    "    # render the graph in dot format\n",
    "    dot = Digraph(format('svg'),\n",
    "                  graph_attr={'rankdir': 'LR',\n",
    "                              'bgcolor': '#272822'}, # LR = left to right\n",
    "                  node_attr={'style': 'filled',\n",
    "                             'fillcolor': '#2e2e2e',\n",
    "                             'textcolor': 'white',\n",
    "                             'fontcolor': 'white',\n",
    "                             'fontname': 'monospace',\n",
    "                             'fontsize': '11',\n",
    "                             'color': 'white'},\n",
    "                  edge_attr={'color': 'white'})\n",
    "    \n",
    "    nodes, edges = trace(root)\n",
    "    \n",
    "    for node in nodes:\n",
    "        uid = str(id(node))\n",
    "        # for any value in the graph, create a <code>record</code> node (rectangular shape) for it\n",
    "        dot.node(name=uid, label=f'{ node._label} | data: {node._data: .4f} | grad: {node._grad: .4f} ', shape='record')\n",
    "        \n",
    "        if node._op:\n",
    "            # if the value is a result of some operations, create an op node for it\n",
    "            dot.node(name=uid + node._op, label=node._op)\n",
    "            # connect this _op node to the value node\n",
    "            dot.edge(uid + node._op, uid)\n",
    "    \n",
    "    for src, dst in edges:\n",
    "        # connect the source value node to the op node of the destination value node\n",
    "        dot.edge(str(id(src)), str(id(dst)) + dst._op)\n",
    "    \n",
    "    return dot"
   ],
   "id": "21be0e5d4b4bc7c1",
   "outputs": [],
   "execution_count": 120
  },
  {
   "metadata": {
    "ExecuteTime": {
     "end_time": "2024-09-04T09:42:06.124666Z",
     "start_time": "2024-09-04T09:42:05.983636Z"
    }
   },
   "cell_type": "code",
   "source": "draw_dot(d)",
   "id": "d8fdc1ff0ff3b352",
   "outputs": [
    {
     "data": {
      "image/svg+xml": "<?xml version=\"1.0\" encoding=\"UTF-8\" standalone=\"no\"?>\n<!DOCTYPE svg PUBLIC \"-//W3C//DTD SVG 1.1//EN\"\n \"http://www.w3.org/Graphics/SVG/1.1/DTD/svg11.dtd\">\n<!-- Generated by graphviz version 2.50.0 (0)\n -->\n<!-- Title: svg Pages: 1 -->\n<svg width=\"566pt\" height=\"188pt\"\n viewBox=\"0.00 0.00 566.00 188.00\" xmlns=\"http://www.w3.org/2000/svg\" xmlns:xlink=\"http://www.w3.org/1999/xlink\">\n<g id=\"graph0\" class=\"graph\" transform=\"scale(1 1) rotate(0) translate(4 184)\">\n<title>svg</title>\n<polygon fill=\"#272822\" stroke=\"transparent\" points=\"-4,4 -4,-184 562,-184 562,4 -4,4\"/>\n<!-- 2469334768528 -->\n<g id=\"node1\" class=\"node\">\n<title>2469334768528</title>\n<polygon fill=\"#2e2e2e\" stroke=\"white\" points=\"3,-119.5 3,-179.5 101,-179.5 101,-119.5 3,-119.5\"/>\n<text text-anchor=\"middle\" x=\"52\" y=\"-166.7\" font-family=\"monospace\" font-size=\"11.00\" fill=\"white\">a</text>\n<polyline fill=\"none\" stroke=\"white\" points=\"3,-159.5 101,-159.5 \"/>\n<text text-anchor=\"middle\" x=\"52\" y=\"-146.7\" font-family=\"monospace\" font-size=\"11.00\" fill=\"white\">data: 2.0000</text>\n<polyline fill=\"none\" stroke=\"white\" points=\"3,-139.5 101,-139.5 \"/>\n<text text-anchor=\"middle\" x=\"52\" y=\"-126.7\" font-family=\"monospace\" font-size=\"11.00\" fill=\"white\">grad: 0.0000</text>\n</g>\n<!-- 2469333201296x -->\n<g id=\"node6\" class=\"node\">\n<title>2469333201296x</title>\n<ellipse fill=\"#2e2e2e\" stroke=\"white\" cx=\"167\" cy=\"-109.5\" rx=\"27\" ry=\"18\"/>\n<text text-anchor=\"middle\" x=\"167\" y=\"-106.7\" font-family=\"monospace\" font-size=\"11.00\" fill=\"white\">x</text>\n</g>\n<!-- 2469334768528&#45;&gt;2469333201296x -->\n<g id=\"edge6\" class=\"edge\">\n<title>2469334768528&#45;&gt;2469333201296x</title>\n<path fill=\"none\" stroke=\"white\" d=\"M101.25,-132.42C112.05,-128.6 123.26,-124.63 133.25,-121.09\"/>\n<polygon fill=\"white\" stroke=\"white\" points=\"134.52,-124.35 142.78,-117.72 132.19,-117.76 134.52,-124.35\"/>\n</g>\n<!-- 2469360058064 -->\n<g id=\"node2\" class=\"node\">\n<title>2469360058064</title>\n<polygon fill=\"#2e2e2e\" stroke=\"white\" points=\"460,-39.5 460,-99.5 558,-99.5 558,-39.5 460,-39.5\"/>\n<text text-anchor=\"middle\" x=\"509\" y=\"-86.7\" font-family=\"monospace\" font-size=\"11.00\" fill=\"white\">d</text>\n<polyline fill=\"none\" stroke=\"white\" points=\"460,-79.5 558,-79.5 \"/>\n<text text-anchor=\"middle\" x=\"509\" y=\"-66.7\" font-family=\"monospace\" font-size=\"11.00\" fill=\"white\">data: 4.0000</text>\n<polyline fill=\"none\" stroke=\"white\" points=\"460,-59.5 558,-59.5 \"/>\n<text text-anchor=\"middle\" x=\"509\" y=\"-46.7\" font-family=\"monospace\" font-size=\"11.00\" fill=\"white\">grad: 0.0000</text>\n</g>\n<!-- 2469360058064+ -->\n<g id=\"node3\" class=\"node\">\n<title>2469360058064+</title>\n<ellipse fill=\"#2e2e2e\" stroke=\"white\" cx=\"397\" cy=\"-69.5\" rx=\"27\" ry=\"18\"/>\n<text text-anchor=\"middle\" x=\"397\" y=\"-66.7\" font-family=\"monospace\" font-size=\"11.00\" fill=\"white\">+</text>\n</g>\n<!-- 2469360058064+&#45;&gt;2469360058064 -->\n<g id=\"edge1\" class=\"edge\">\n<title>2469360058064+&#45;&gt;2469360058064</title>\n<path fill=\"none\" stroke=\"white\" d=\"M424.07,-69.5C431.82,-69.5 440.65,-69.5 449.6,-69.5\"/>\n<polygon fill=\"white\" stroke=\"white\" points=\"449.7,-73 459.7,-69.5 449.7,-66 449.7,-73\"/>\n</g>\n<!-- 2469334798160 -->\n<g id=\"node4\" class=\"node\">\n<title>2469334798160</title>\n<polygon fill=\"#2e2e2e\" stroke=\"white\" points=\"0,-40.5 0,-100.5 104,-100.5 104,-40.5 0,-40.5\"/>\n<text text-anchor=\"middle\" x=\"52\" y=\"-87.7\" font-family=\"monospace\" font-size=\"11.00\" fill=\"white\">b</text>\n<polyline fill=\"none\" stroke=\"white\" points=\"0,-80.5 104,-80.5 \"/>\n<text text-anchor=\"middle\" x=\"52\" y=\"-67.7\" font-family=\"monospace\" font-size=\"11.00\" fill=\"white\">data: &#45;3.0000</text>\n<polyline fill=\"none\" stroke=\"white\" points=\"0,-60.5 104,-60.5 \"/>\n<text text-anchor=\"middle\" x=\"52\" y=\"-47.7\" font-family=\"monospace\" font-size=\"11.00\" fill=\"white\">grad: 0.0000</text>\n</g>\n<!-- 2469334798160&#45;&gt;2469333201296x -->\n<g id=\"edge5\" class=\"edge\">\n<title>2469334798160&#45;&gt;2469333201296x</title>\n<path fill=\"none\" stroke=\"white\" d=\"M104.21,-88.17C113.97,-91.54 123.94,-94.98 132.94,-98.09\"/>\n<polygon fill=\"white\" stroke=\"white\" points=\"132.04,-101.48 142.64,-101.44 134.33,-94.87 132.04,-101.48\"/>\n</g>\n<!-- 2469333201296 -->\n<g id=\"node5\" class=\"node\">\n<title>2469333201296</title>\n<polygon fill=\"#2e2e2e\" stroke=\"white\" points=\"230,-79.5 230,-139.5 334,-139.5 334,-79.5 230,-79.5\"/>\n<text text-anchor=\"middle\" x=\"282\" y=\"-126.7\" font-family=\"monospace\" font-size=\"11.00\" fill=\"white\">e</text>\n<polyline fill=\"none\" stroke=\"white\" points=\"230,-119.5 334,-119.5 \"/>\n<text text-anchor=\"middle\" x=\"282\" y=\"-106.7\" font-family=\"monospace\" font-size=\"11.00\" fill=\"white\">data: &#45;6.0000</text>\n<polyline fill=\"none\" stroke=\"white\" points=\"230,-99.5 334,-99.5 \"/>\n<text text-anchor=\"middle\" x=\"282\" y=\"-86.7\" font-family=\"monospace\" font-size=\"11.00\" fill=\"white\">grad: 0.0000</text>\n</g>\n<!-- 2469333201296&#45;&gt;2469360058064+ -->\n<g id=\"edge4\" class=\"edge\">\n<title>2469333201296&#45;&gt;2469360058064+</title>\n<path fill=\"none\" stroke=\"white\" d=\"M334.21,-91.37C344.16,-87.85 354.33,-84.25 363.47,-81.01\"/>\n<polygon fill=\"white\" stroke=\"white\" points=\"364.67,-84.3 372.93,-77.67 362.33,-77.7 364.67,-84.3\"/>\n</g>\n<!-- 2469333201296x&#45;&gt;2469333201296 -->\n<g id=\"edge2\" class=\"edge\">\n<title>2469333201296x&#45;&gt;2469333201296</title>\n<path fill=\"none\" stroke=\"white\" d=\"M194.21,-109.5C201.88,-109.5 210.62,-109.5 219.51,-109.5\"/>\n<polygon fill=\"white\" stroke=\"white\" points=\"219.58,-113 229.58,-109.5 219.58,-106 219.58,-113\"/>\n</g>\n<!-- 2469334477264 -->\n<g id=\"node7\" class=\"node\">\n<title>2469334477264</title>\n<polygon fill=\"#2e2e2e\" stroke=\"white\" points=\"230,-0.5 230,-60.5 334,-60.5 334,-0.5 230,-0.5\"/>\n<text text-anchor=\"middle\" x=\"282\" y=\"-47.7\" font-family=\"monospace\" font-size=\"11.00\" fill=\"white\">c</text>\n<polyline fill=\"none\" stroke=\"white\" points=\"230,-40.5 334,-40.5 \"/>\n<text text-anchor=\"middle\" x=\"282\" y=\"-27.7\" font-family=\"monospace\" font-size=\"11.00\" fill=\"white\">data: 10.0000</text>\n<polyline fill=\"none\" stroke=\"white\" points=\"230,-20.5 334,-20.5 \"/>\n<text text-anchor=\"middle\" x=\"282\" y=\"-7.7\" font-family=\"monospace\" font-size=\"11.00\" fill=\"white\">grad: 0.0000</text>\n</g>\n<!-- 2469334477264&#45;&gt;2469360058064+ -->\n<g id=\"edge3\" class=\"edge\">\n<title>2469334477264&#45;&gt;2469360058064+</title>\n<path fill=\"none\" stroke=\"white\" d=\"M334.21,-48.17C343.97,-51.54 353.94,-54.98 362.94,-58.09\"/>\n<polygon fill=\"white\" stroke=\"white\" points=\"362.04,-61.48 372.64,-61.44 364.33,-54.87 362.04,-61.48\"/>\n</g>\n</g>\n</svg>\n",
      "text/plain": [
       "<graphviz.graphs.Digraph at 0x23eefd32f10>"
      ]
     },
     "execution_count": 121,
     "metadata": {},
     "output_type": "execute_result"
    }
   ],
   "execution_count": 121
  },
  {
   "metadata": {
    "ExecuteTime": {
     "end_time": "2024-09-04T09:42:06.138448Z",
     "start_time": "2024-09-04T09:42:06.135298Z"
    }
   },
   "cell_type": "code",
   "source": [
    "f = Value(-2.0, label='f')\n",
    "L = d * f; L._label = 'L'\n",
    "L"
   ],
   "id": "1333d28e3f0917c9",
   "outputs": [
    {
     "data": {
      "text/plain": [
       "Value(data=-8.0)"
      ]
     },
     "execution_count": 122,
     "metadata": {},
     "output_type": "execute_result"
    }
   ],
   "execution_count": 122
  },
  {
   "metadata": {
    "ExecuteTime": {
     "end_time": "2024-09-04T09:42:06.292620Z",
     "start_time": "2024-09-04T09:42:06.152152Z"
    }
   },
   "cell_type": "code",
   "source": "draw_dot(L)",
   "id": "4ed78de0ff4097ab",
   "outputs": [
    {
     "data": {
      "image/svg+xml": "<?xml version=\"1.0\" encoding=\"UTF-8\" standalone=\"no\"?>\n<!DOCTYPE svg PUBLIC \"-//W3C//DTD SVG 1.1//EN\"\n \"http://www.w3.org/Graphics/SVG/1.1/DTD/svg11.dtd\">\n<!-- Generated by graphviz version 2.50.0 (0)\n -->\n<!-- Title: svg Pages: 1 -->\n<svg width=\"802pt\" height=\"188pt\"\n viewBox=\"0.00 0.00 802.00 188.00\" xmlns=\"http://www.w3.org/2000/svg\" xmlns:xlink=\"http://www.w3.org/1999/xlink\">\n<g id=\"graph0\" class=\"graph\" transform=\"scale(1 1) rotate(0) translate(4 184)\">\n<title>svg</title>\n<polygon fill=\"#272822\" stroke=\"transparent\" points=\"-4,4 -4,-184 798,-184 798,4 -4,4\"/>\n<!-- 2469333931536 -->\n<g id=\"node1\" class=\"node\">\n<title>2469333931536</title>\n<polygon fill=\"#2e2e2e\" stroke=\"white\" points=\"460,-118.5 460,-178.5 564,-178.5 564,-118.5 460,-118.5\"/>\n<text text-anchor=\"middle\" x=\"512\" y=\"-165.7\" font-family=\"monospace\" font-size=\"11.00\" fill=\"white\">f</text>\n<polyline fill=\"none\" stroke=\"white\" points=\"460,-158.5 564,-158.5 \"/>\n<text text-anchor=\"middle\" x=\"512\" y=\"-145.7\" font-family=\"monospace\" font-size=\"11.00\" fill=\"white\">data: &#45;2.0000</text>\n<polyline fill=\"none\" stroke=\"white\" points=\"460,-138.5 564,-138.5 \"/>\n<text text-anchor=\"middle\" x=\"512\" y=\"-125.7\" font-family=\"monospace\" font-size=\"11.00\" fill=\"white\">grad: 0.0000</text>\n</g>\n<!-- 2469332941200x -->\n<g id=\"node9\" class=\"node\">\n<title>2469332941200x</title>\n<ellipse fill=\"#2e2e2e\" stroke=\"white\" cx=\"627\" cy=\"-108.5\" rx=\"27\" ry=\"18\"/>\n<text text-anchor=\"middle\" x=\"627\" y=\"-105.7\" font-family=\"monospace\" font-size=\"11.00\" fill=\"white\">x</text>\n</g>\n<!-- 2469333931536&#45;&gt;2469332941200x -->\n<g id=\"edge4\" class=\"edge\">\n<title>2469333931536&#45;&gt;2469332941200x</title>\n<path fill=\"none\" stroke=\"white\" d=\"M564.21,-130.37C574.16,-126.85 584.33,-123.25 593.47,-120.01\"/>\n<polygon fill=\"white\" stroke=\"white\" points=\"594.67,-123.3 602.93,-116.67 592.33,-116.7 594.67,-123.3\"/>\n</g>\n<!-- 2469334768528 -->\n<g id=\"node2\" class=\"node\">\n<title>2469334768528</title>\n<polygon fill=\"#2e2e2e\" stroke=\"white\" points=\"3,-119.5 3,-179.5 101,-179.5 101,-119.5 3,-119.5\"/>\n<text text-anchor=\"middle\" x=\"52\" y=\"-166.7\" font-family=\"monospace\" font-size=\"11.00\" fill=\"white\">a</text>\n<polyline fill=\"none\" stroke=\"white\" points=\"3,-159.5 101,-159.5 \"/>\n<text text-anchor=\"middle\" x=\"52\" y=\"-146.7\" font-family=\"monospace\" font-size=\"11.00\" fill=\"white\">data: 2.0000</text>\n<polyline fill=\"none\" stroke=\"white\" points=\"3,-139.5 101,-139.5 \"/>\n<text text-anchor=\"middle\" x=\"52\" y=\"-126.7\" font-family=\"monospace\" font-size=\"11.00\" fill=\"white\">grad: 0.0000</text>\n</g>\n<!-- 2469333201296x -->\n<g id=\"node7\" class=\"node\">\n<title>2469333201296x</title>\n<ellipse fill=\"#2e2e2e\" stroke=\"white\" cx=\"167\" cy=\"-109.5\" rx=\"27\" ry=\"18\"/>\n<text text-anchor=\"middle\" x=\"167\" y=\"-106.7\" font-family=\"monospace\" font-size=\"11.00\" fill=\"white\">x</text>\n</g>\n<!-- 2469334768528&#45;&gt;2469333201296x -->\n<g id=\"edge9\" class=\"edge\">\n<title>2469334768528&#45;&gt;2469333201296x</title>\n<path fill=\"none\" stroke=\"white\" d=\"M101.25,-132.42C112.05,-128.6 123.26,-124.63 133.25,-121.09\"/>\n<polygon fill=\"white\" stroke=\"white\" points=\"134.52,-124.35 142.78,-117.72 132.19,-117.76 134.52,-124.35\"/>\n</g>\n<!-- 2469360058064 -->\n<g id=\"node3\" class=\"node\">\n<title>2469360058064</title>\n<polygon fill=\"#2e2e2e\" stroke=\"white\" points=\"463,-39.5 463,-99.5 561,-99.5 561,-39.5 463,-39.5\"/>\n<text text-anchor=\"middle\" x=\"512\" y=\"-86.7\" font-family=\"monospace\" font-size=\"11.00\" fill=\"white\">d</text>\n<polyline fill=\"none\" stroke=\"white\" points=\"463,-79.5 561,-79.5 \"/>\n<text text-anchor=\"middle\" x=\"512\" y=\"-66.7\" font-family=\"monospace\" font-size=\"11.00\" fill=\"white\">data: 4.0000</text>\n<polyline fill=\"none\" stroke=\"white\" points=\"463,-59.5 561,-59.5 \"/>\n<text text-anchor=\"middle\" x=\"512\" y=\"-46.7\" font-family=\"monospace\" font-size=\"11.00\" fill=\"white\">grad: 0.0000</text>\n</g>\n<!-- 2469360058064&#45;&gt;2469332941200x -->\n<g id=\"edge5\" class=\"edge\">\n<title>2469360058064&#45;&gt;2469332941200x</title>\n<path fill=\"none\" stroke=\"white\" d=\"M561.25,-86.15C572.05,-89.88 583.26,-93.75 593.25,-97.2\"/>\n<polygon fill=\"white\" stroke=\"white\" points=\"592.19,-100.53 602.78,-100.49 594.47,-93.92 592.19,-100.53\"/>\n</g>\n<!-- 2469360058064+ -->\n<g id=\"node4\" class=\"node\">\n<title>2469360058064+</title>\n<ellipse fill=\"#2e2e2e\" stroke=\"white\" cx=\"397\" cy=\"-69.5\" rx=\"27\" ry=\"18\"/>\n<text text-anchor=\"middle\" x=\"397\" y=\"-66.7\" font-family=\"monospace\" font-size=\"11.00\" fill=\"white\">+</text>\n</g>\n<!-- 2469360058064+&#45;&gt;2469360058064 -->\n<g id=\"edge1\" class=\"edge\">\n<title>2469360058064+&#45;&gt;2469360058064</title>\n<path fill=\"none\" stroke=\"white\" d=\"M424.21,-69.5C432.72,-69.5 442.55,-69.5 452.45,-69.5\"/>\n<polygon fill=\"white\" stroke=\"white\" points=\"452.75,-73 462.75,-69.5 452.75,-66 452.75,-73\"/>\n</g>\n<!-- 2469334798160 -->\n<g id=\"node5\" class=\"node\">\n<title>2469334798160</title>\n<polygon fill=\"#2e2e2e\" stroke=\"white\" points=\"0,-40.5 0,-100.5 104,-100.5 104,-40.5 0,-40.5\"/>\n<text text-anchor=\"middle\" x=\"52\" y=\"-87.7\" font-family=\"monospace\" font-size=\"11.00\" fill=\"white\">b</text>\n<polyline fill=\"none\" stroke=\"white\" points=\"0,-80.5 104,-80.5 \"/>\n<text text-anchor=\"middle\" x=\"52\" y=\"-67.7\" font-family=\"monospace\" font-size=\"11.00\" fill=\"white\">data: &#45;3.0000</text>\n<polyline fill=\"none\" stroke=\"white\" points=\"0,-60.5 104,-60.5 \"/>\n<text text-anchor=\"middle\" x=\"52\" y=\"-47.7\" font-family=\"monospace\" font-size=\"11.00\" fill=\"white\">grad: 0.0000</text>\n</g>\n<!-- 2469334798160&#45;&gt;2469333201296x -->\n<g id=\"edge6\" class=\"edge\">\n<title>2469334798160&#45;&gt;2469333201296x</title>\n<path fill=\"none\" stroke=\"white\" d=\"M104.21,-88.17C113.97,-91.54 123.94,-94.98 132.94,-98.09\"/>\n<polygon fill=\"white\" stroke=\"white\" points=\"132.04,-101.48 142.64,-101.44 134.33,-94.87 132.04,-101.48\"/>\n</g>\n<!-- 2469333201296 -->\n<g id=\"node6\" class=\"node\">\n<title>2469333201296</title>\n<polygon fill=\"#2e2e2e\" stroke=\"white\" points=\"230,-79.5 230,-139.5 334,-139.5 334,-79.5 230,-79.5\"/>\n<text text-anchor=\"middle\" x=\"282\" y=\"-126.7\" font-family=\"monospace\" font-size=\"11.00\" fill=\"white\">e</text>\n<polyline fill=\"none\" stroke=\"white\" points=\"230,-119.5 334,-119.5 \"/>\n<text text-anchor=\"middle\" x=\"282\" y=\"-106.7\" font-family=\"monospace\" font-size=\"11.00\" fill=\"white\">data: &#45;6.0000</text>\n<polyline fill=\"none\" stroke=\"white\" points=\"230,-99.5 334,-99.5 \"/>\n<text text-anchor=\"middle\" x=\"282\" y=\"-86.7\" font-family=\"monospace\" font-size=\"11.00\" fill=\"white\">grad: 0.0000</text>\n</g>\n<!-- 2469333201296&#45;&gt;2469360058064+ -->\n<g id=\"edge7\" class=\"edge\">\n<title>2469333201296&#45;&gt;2469360058064+</title>\n<path fill=\"none\" stroke=\"white\" d=\"M334.21,-91.37C344.16,-87.85 354.33,-84.25 363.47,-81.01\"/>\n<polygon fill=\"white\" stroke=\"white\" points=\"364.67,-84.3 372.93,-77.67 362.33,-77.7 364.67,-84.3\"/>\n</g>\n<!-- 2469333201296x&#45;&gt;2469333201296 -->\n<g id=\"edge2\" class=\"edge\">\n<title>2469333201296x&#45;&gt;2469333201296</title>\n<path fill=\"none\" stroke=\"white\" d=\"M194.21,-109.5C201.88,-109.5 210.62,-109.5 219.51,-109.5\"/>\n<polygon fill=\"white\" stroke=\"white\" points=\"219.58,-113 229.58,-109.5 219.58,-106 219.58,-113\"/>\n</g>\n<!-- 2469332941200 -->\n<g id=\"node8\" class=\"node\">\n<title>2469332941200</title>\n<polygon fill=\"#2e2e2e\" stroke=\"white\" points=\"690,-78.5 690,-138.5 794,-138.5 794,-78.5 690,-78.5\"/>\n<text text-anchor=\"middle\" x=\"742\" y=\"-125.7\" font-family=\"monospace\" font-size=\"11.00\" fill=\"white\">L</text>\n<polyline fill=\"none\" stroke=\"white\" points=\"690,-118.5 794,-118.5 \"/>\n<text text-anchor=\"middle\" x=\"742\" y=\"-105.7\" font-family=\"monospace\" font-size=\"11.00\" fill=\"white\">data: &#45;8.0000</text>\n<polyline fill=\"none\" stroke=\"white\" points=\"690,-98.5 794,-98.5 \"/>\n<text text-anchor=\"middle\" x=\"742\" y=\"-85.7\" font-family=\"monospace\" font-size=\"11.00\" fill=\"white\">grad: 0.0000</text>\n</g>\n<!-- 2469332941200x&#45;&gt;2469332941200 -->\n<g id=\"edge3\" class=\"edge\">\n<title>2469332941200x&#45;&gt;2469332941200</title>\n<path fill=\"none\" stroke=\"white\" d=\"M654.21,-108.5C661.88,-108.5 670.62,-108.5 679.51,-108.5\"/>\n<polygon fill=\"white\" stroke=\"white\" points=\"679.58,-112 689.58,-108.5 679.58,-105 679.58,-112\"/>\n</g>\n<!-- 2469334477264 -->\n<g id=\"node10\" class=\"node\">\n<title>2469334477264</title>\n<polygon fill=\"#2e2e2e\" stroke=\"white\" points=\"230,-0.5 230,-60.5 334,-60.5 334,-0.5 230,-0.5\"/>\n<text text-anchor=\"middle\" x=\"282\" y=\"-47.7\" font-family=\"monospace\" font-size=\"11.00\" fill=\"white\">c</text>\n<polyline fill=\"none\" stroke=\"white\" points=\"230,-40.5 334,-40.5 \"/>\n<text text-anchor=\"middle\" x=\"282\" y=\"-27.7\" font-family=\"monospace\" font-size=\"11.00\" fill=\"white\">data: 10.0000</text>\n<polyline fill=\"none\" stroke=\"white\" points=\"230,-20.5 334,-20.5 \"/>\n<text text-anchor=\"middle\" x=\"282\" y=\"-7.7\" font-family=\"monospace\" font-size=\"11.00\" fill=\"white\">grad: 0.0000</text>\n</g>\n<!-- 2469334477264&#45;&gt;2469360058064+ -->\n<g id=\"edge8\" class=\"edge\">\n<title>2469334477264&#45;&gt;2469360058064+</title>\n<path fill=\"none\" stroke=\"white\" d=\"M334.21,-48.17C343.97,-51.54 353.94,-54.98 362.94,-58.09\"/>\n<polygon fill=\"white\" stroke=\"white\" points=\"362.04,-61.48 372.64,-61.44 364.33,-54.87 362.04,-61.48\"/>\n</g>\n</g>\n</svg>\n",
      "text/plain": [
       "<graphviz.graphs.Digraph at 0x23ef1543a90>"
      ]
     },
     "execution_count": 123,
     "metadata": {},
     "output_type": "execute_result"
    }
   ],
   "execution_count": 123
  },
  {
   "metadata": {},
   "cell_type": "markdown",
   "source": "## Backpropagation",
   "id": "f28486810ce637c1"
  },
  {
   "metadata": {
    "ExecuteTime": {
     "end_time": "2024-09-04T09:42:06.300697Z",
     "start_time": "2024-09-04T09:42:06.298230Z"
    }
   },
   "cell_type": "code",
   "source": "L._grad = 1.0",
   "id": "565141c7bfe5a6c2",
   "outputs": [],
   "execution_count": 124
  },
  {
   "metadata": {
    "ExecuteTime": {
     "end_time": "2024-09-04T09:42:06.343439Z",
     "start_time": "2024-09-04T09:42:06.311076Z"
    }
   },
   "cell_type": "code",
   "source": "draw_dot(L)",
   "id": "f84d18d7bc35b922",
   "outputs": [
    {
     "data": {
      "image/svg+xml": "<?xml version=\"1.0\" encoding=\"UTF-8\" standalone=\"no\"?>\n<!DOCTYPE svg PUBLIC \"-//W3C//DTD SVG 1.1//EN\"\n \"http://www.w3.org/Graphics/SVG/1.1/DTD/svg11.dtd\">\n<!-- Generated by graphviz version 2.50.0 (0)\n -->\n<!-- Title: svg Pages: 1 -->\n<svg width=\"802pt\" height=\"188pt\"\n viewBox=\"0.00 0.00 802.00 188.00\" xmlns=\"http://www.w3.org/2000/svg\" xmlns:xlink=\"http://www.w3.org/1999/xlink\">\n<g id=\"graph0\" class=\"graph\" transform=\"scale(1 1) rotate(0) translate(4 184)\">\n<title>svg</title>\n<polygon fill=\"#272822\" stroke=\"transparent\" points=\"-4,4 -4,-184 798,-184 798,4 -4,4\"/>\n<!-- 2469333931536 -->\n<g id=\"node1\" class=\"node\">\n<title>2469333931536</title>\n<polygon fill=\"#2e2e2e\" stroke=\"white\" points=\"460,-118.5 460,-178.5 564,-178.5 564,-118.5 460,-118.5\"/>\n<text text-anchor=\"middle\" x=\"512\" y=\"-165.7\" font-family=\"monospace\" font-size=\"11.00\" fill=\"white\">f</text>\n<polyline fill=\"none\" stroke=\"white\" points=\"460,-158.5 564,-158.5 \"/>\n<text text-anchor=\"middle\" x=\"512\" y=\"-145.7\" font-family=\"monospace\" font-size=\"11.00\" fill=\"white\">data: &#45;2.0000</text>\n<polyline fill=\"none\" stroke=\"white\" points=\"460,-138.5 564,-138.5 \"/>\n<text text-anchor=\"middle\" x=\"512\" y=\"-125.7\" font-family=\"monospace\" font-size=\"11.00\" fill=\"white\">grad: 0.0000</text>\n</g>\n<!-- 2469332941200x -->\n<g id=\"node9\" class=\"node\">\n<title>2469332941200x</title>\n<ellipse fill=\"#2e2e2e\" stroke=\"white\" cx=\"627\" cy=\"-108.5\" rx=\"27\" ry=\"18\"/>\n<text text-anchor=\"middle\" x=\"627\" y=\"-105.7\" font-family=\"monospace\" font-size=\"11.00\" fill=\"white\">x</text>\n</g>\n<!-- 2469333931536&#45;&gt;2469332941200x -->\n<g id=\"edge4\" class=\"edge\">\n<title>2469333931536&#45;&gt;2469332941200x</title>\n<path fill=\"none\" stroke=\"white\" d=\"M564.21,-130.37C574.16,-126.85 584.33,-123.25 593.47,-120.01\"/>\n<polygon fill=\"white\" stroke=\"white\" points=\"594.67,-123.3 602.93,-116.67 592.33,-116.7 594.67,-123.3\"/>\n</g>\n<!-- 2469334768528 -->\n<g id=\"node2\" class=\"node\">\n<title>2469334768528</title>\n<polygon fill=\"#2e2e2e\" stroke=\"white\" points=\"3,-119.5 3,-179.5 101,-179.5 101,-119.5 3,-119.5\"/>\n<text text-anchor=\"middle\" x=\"52\" y=\"-166.7\" font-family=\"monospace\" font-size=\"11.00\" fill=\"white\">a</text>\n<polyline fill=\"none\" stroke=\"white\" points=\"3,-159.5 101,-159.5 \"/>\n<text text-anchor=\"middle\" x=\"52\" y=\"-146.7\" font-family=\"monospace\" font-size=\"11.00\" fill=\"white\">data: 2.0000</text>\n<polyline fill=\"none\" stroke=\"white\" points=\"3,-139.5 101,-139.5 \"/>\n<text text-anchor=\"middle\" x=\"52\" y=\"-126.7\" font-family=\"monospace\" font-size=\"11.00\" fill=\"white\">grad: 0.0000</text>\n</g>\n<!-- 2469333201296x -->\n<g id=\"node7\" class=\"node\">\n<title>2469333201296x</title>\n<ellipse fill=\"#2e2e2e\" stroke=\"white\" cx=\"167\" cy=\"-109.5\" rx=\"27\" ry=\"18\"/>\n<text text-anchor=\"middle\" x=\"167\" y=\"-106.7\" font-family=\"monospace\" font-size=\"11.00\" fill=\"white\">x</text>\n</g>\n<!-- 2469334768528&#45;&gt;2469333201296x -->\n<g id=\"edge9\" class=\"edge\">\n<title>2469334768528&#45;&gt;2469333201296x</title>\n<path fill=\"none\" stroke=\"white\" d=\"M101.25,-132.42C112.05,-128.6 123.26,-124.63 133.25,-121.09\"/>\n<polygon fill=\"white\" stroke=\"white\" points=\"134.52,-124.35 142.78,-117.72 132.19,-117.76 134.52,-124.35\"/>\n</g>\n<!-- 2469360058064 -->\n<g id=\"node3\" class=\"node\">\n<title>2469360058064</title>\n<polygon fill=\"#2e2e2e\" stroke=\"white\" points=\"463,-39.5 463,-99.5 561,-99.5 561,-39.5 463,-39.5\"/>\n<text text-anchor=\"middle\" x=\"512\" y=\"-86.7\" font-family=\"monospace\" font-size=\"11.00\" fill=\"white\">d</text>\n<polyline fill=\"none\" stroke=\"white\" points=\"463,-79.5 561,-79.5 \"/>\n<text text-anchor=\"middle\" x=\"512\" y=\"-66.7\" font-family=\"monospace\" font-size=\"11.00\" fill=\"white\">data: 4.0000</text>\n<polyline fill=\"none\" stroke=\"white\" points=\"463,-59.5 561,-59.5 \"/>\n<text text-anchor=\"middle\" x=\"512\" y=\"-46.7\" font-family=\"monospace\" font-size=\"11.00\" fill=\"white\">grad: 0.0000</text>\n</g>\n<!-- 2469360058064&#45;&gt;2469332941200x -->\n<g id=\"edge5\" class=\"edge\">\n<title>2469360058064&#45;&gt;2469332941200x</title>\n<path fill=\"none\" stroke=\"white\" d=\"M561.25,-86.15C572.05,-89.88 583.26,-93.75 593.25,-97.2\"/>\n<polygon fill=\"white\" stroke=\"white\" points=\"592.19,-100.53 602.78,-100.49 594.47,-93.92 592.19,-100.53\"/>\n</g>\n<!-- 2469360058064+ -->\n<g id=\"node4\" class=\"node\">\n<title>2469360058064+</title>\n<ellipse fill=\"#2e2e2e\" stroke=\"white\" cx=\"397\" cy=\"-69.5\" rx=\"27\" ry=\"18\"/>\n<text text-anchor=\"middle\" x=\"397\" y=\"-66.7\" font-family=\"monospace\" font-size=\"11.00\" fill=\"white\">+</text>\n</g>\n<!-- 2469360058064+&#45;&gt;2469360058064 -->\n<g id=\"edge1\" class=\"edge\">\n<title>2469360058064+&#45;&gt;2469360058064</title>\n<path fill=\"none\" stroke=\"white\" d=\"M424.21,-69.5C432.72,-69.5 442.55,-69.5 452.45,-69.5\"/>\n<polygon fill=\"white\" stroke=\"white\" points=\"452.75,-73 462.75,-69.5 452.75,-66 452.75,-73\"/>\n</g>\n<!-- 2469334798160 -->\n<g id=\"node5\" class=\"node\">\n<title>2469334798160</title>\n<polygon fill=\"#2e2e2e\" stroke=\"white\" points=\"0,-40.5 0,-100.5 104,-100.5 104,-40.5 0,-40.5\"/>\n<text text-anchor=\"middle\" x=\"52\" y=\"-87.7\" font-family=\"monospace\" font-size=\"11.00\" fill=\"white\">b</text>\n<polyline fill=\"none\" stroke=\"white\" points=\"0,-80.5 104,-80.5 \"/>\n<text text-anchor=\"middle\" x=\"52\" y=\"-67.7\" font-family=\"monospace\" font-size=\"11.00\" fill=\"white\">data: &#45;3.0000</text>\n<polyline fill=\"none\" stroke=\"white\" points=\"0,-60.5 104,-60.5 \"/>\n<text text-anchor=\"middle\" x=\"52\" y=\"-47.7\" font-family=\"monospace\" font-size=\"11.00\" fill=\"white\">grad: 0.0000</text>\n</g>\n<!-- 2469334798160&#45;&gt;2469333201296x -->\n<g id=\"edge6\" class=\"edge\">\n<title>2469334798160&#45;&gt;2469333201296x</title>\n<path fill=\"none\" stroke=\"white\" d=\"M104.21,-88.17C113.97,-91.54 123.94,-94.98 132.94,-98.09\"/>\n<polygon fill=\"white\" stroke=\"white\" points=\"132.04,-101.48 142.64,-101.44 134.33,-94.87 132.04,-101.48\"/>\n</g>\n<!-- 2469333201296 -->\n<g id=\"node6\" class=\"node\">\n<title>2469333201296</title>\n<polygon fill=\"#2e2e2e\" stroke=\"white\" points=\"230,-79.5 230,-139.5 334,-139.5 334,-79.5 230,-79.5\"/>\n<text text-anchor=\"middle\" x=\"282\" y=\"-126.7\" font-family=\"monospace\" font-size=\"11.00\" fill=\"white\">e</text>\n<polyline fill=\"none\" stroke=\"white\" points=\"230,-119.5 334,-119.5 \"/>\n<text text-anchor=\"middle\" x=\"282\" y=\"-106.7\" font-family=\"monospace\" font-size=\"11.00\" fill=\"white\">data: &#45;6.0000</text>\n<polyline fill=\"none\" stroke=\"white\" points=\"230,-99.5 334,-99.5 \"/>\n<text text-anchor=\"middle\" x=\"282\" y=\"-86.7\" font-family=\"monospace\" font-size=\"11.00\" fill=\"white\">grad: 0.0000</text>\n</g>\n<!-- 2469333201296&#45;&gt;2469360058064+ -->\n<g id=\"edge7\" class=\"edge\">\n<title>2469333201296&#45;&gt;2469360058064+</title>\n<path fill=\"none\" stroke=\"white\" d=\"M334.21,-91.37C344.16,-87.85 354.33,-84.25 363.47,-81.01\"/>\n<polygon fill=\"white\" stroke=\"white\" points=\"364.67,-84.3 372.93,-77.67 362.33,-77.7 364.67,-84.3\"/>\n</g>\n<!-- 2469333201296x&#45;&gt;2469333201296 -->\n<g id=\"edge2\" class=\"edge\">\n<title>2469333201296x&#45;&gt;2469333201296</title>\n<path fill=\"none\" stroke=\"white\" d=\"M194.21,-109.5C201.88,-109.5 210.62,-109.5 219.51,-109.5\"/>\n<polygon fill=\"white\" stroke=\"white\" points=\"219.58,-113 229.58,-109.5 219.58,-106 219.58,-113\"/>\n</g>\n<!-- 2469332941200 -->\n<g id=\"node8\" class=\"node\">\n<title>2469332941200</title>\n<polygon fill=\"#2e2e2e\" stroke=\"white\" points=\"690,-78.5 690,-138.5 794,-138.5 794,-78.5 690,-78.5\"/>\n<text text-anchor=\"middle\" x=\"742\" y=\"-125.7\" font-family=\"monospace\" font-size=\"11.00\" fill=\"white\">L</text>\n<polyline fill=\"none\" stroke=\"white\" points=\"690,-118.5 794,-118.5 \"/>\n<text text-anchor=\"middle\" x=\"742\" y=\"-105.7\" font-family=\"monospace\" font-size=\"11.00\" fill=\"white\">data: &#45;8.0000</text>\n<polyline fill=\"none\" stroke=\"white\" points=\"690,-98.5 794,-98.5 \"/>\n<text text-anchor=\"middle\" x=\"742\" y=\"-85.7\" font-family=\"monospace\" font-size=\"11.00\" fill=\"white\">grad: 1.0000</text>\n</g>\n<!-- 2469332941200x&#45;&gt;2469332941200 -->\n<g id=\"edge3\" class=\"edge\">\n<title>2469332941200x&#45;&gt;2469332941200</title>\n<path fill=\"none\" stroke=\"white\" d=\"M654.21,-108.5C661.88,-108.5 670.62,-108.5 679.51,-108.5\"/>\n<polygon fill=\"white\" stroke=\"white\" points=\"679.58,-112 689.58,-108.5 679.58,-105 679.58,-112\"/>\n</g>\n<!-- 2469334477264 -->\n<g id=\"node10\" class=\"node\">\n<title>2469334477264</title>\n<polygon fill=\"#2e2e2e\" stroke=\"white\" points=\"230,-0.5 230,-60.5 334,-60.5 334,-0.5 230,-0.5\"/>\n<text text-anchor=\"middle\" x=\"282\" y=\"-47.7\" font-family=\"monospace\" font-size=\"11.00\" fill=\"white\">c</text>\n<polyline fill=\"none\" stroke=\"white\" points=\"230,-40.5 334,-40.5 \"/>\n<text text-anchor=\"middle\" x=\"282\" y=\"-27.7\" font-family=\"monospace\" font-size=\"11.00\" fill=\"white\">data: 10.0000</text>\n<polyline fill=\"none\" stroke=\"white\" points=\"230,-20.5 334,-20.5 \"/>\n<text text-anchor=\"middle\" x=\"282\" y=\"-7.7\" font-family=\"monospace\" font-size=\"11.00\" fill=\"white\">grad: 0.0000</text>\n</g>\n<!-- 2469334477264&#45;&gt;2469360058064+ -->\n<g id=\"edge8\" class=\"edge\">\n<title>2469334477264&#45;&gt;2469360058064+</title>\n<path fill=\"none\" stroke=\"white\" d=\"M334.21,-48.17C343.97,-51.54 353.94,-54.98 362.94,-58.09\"/>\n<polygon fill=\"white\" stroke=\"white\" points=\"362.04,-61.48 372.64,-61.44 364.33,-54.87 362.04,-61.48\"/>\n</g>\n</g>\n</svg>\n",
      "text/plain": [
       "<graphviz.graphs.Digraph at 0x23eefd2e310>"
      ]
     },
     "execution_count": 125,
     "metadata": {},
     "output_type": "execute_result"
    }
   ],
   "execution_count": 125
  },
  {
   "metadata": {
    "ExecuteTime": {
     "end_time": "2024-09-04T09:42:06.357994Z",
     "start_time": "2024-09-04T09:42:06.355653Z"
    }
   },
   "cell_type": "code",
   "source": [
    "f._grad = 4.0 # dL/df = d(d * f)/df = d\n",
    "d._grad = -2.0 # dL/dd = d(d * f)/dd = f"
   ],
   "id": "7aa1ce11f0043eee",
   "outputs": [],
   "execution_count": 126
  },
  {
   "metadata": {
    "ExecuteTime": {
     "end_time": "2024-09-04T09:42:06.409506Z",
     "start_time": "2024-09-04T09:42:06.378864Z"
    }
   },
   "cell_type": "code",
   "source": "draw_dot(L)",
   "id": "d3a6b0a33be6615",
   "outputs": [
    {
     "data": {
      "image/svg+xml": "<?xml version=\"1.0\" encoding=\"UTF-8\" standalone=\"no\"?>\n<!DOCTYPE svg PUBLIC \"-//W3C//DTD SVG 1.1//EN\"\n \"http://www.w3.org/Graphics/SVG/1.1/DTD/svg11.dtd\">\n<!-- Generated by graphviz version 2.50.0 (0)\n -->\n<!-- Title: svg Pages: 1 -->\n<svg width=\"802pt\" height=\"188pt\"\n viewBox=\"0.00 0.00 802.00 188.00\" xmlns=\"http://www.w3.org/2000/svg\" xmlns:xlink=\"http://www.w3.org/1999/xlink\">\n<g id=\"graph0\" class=\"graph\" transform=\"scale(1 1) rotate(0) translate(4 184)\">\n<title>svg</title>\n<polygon fill=\"#272822\" stroke=\"transparent\" points=\"-4,4 -4,-184 798,-184 798,4 -4,4\"/>\n<!-- 2469333931536 -->\n<g id=\"node1\" class=\"node\">\n<title>2469333931536</title>\n<polygon fill=\"#2e2e2e\" stroke=\"white\" points=\"460,-118.5 460,-178.5 564,-178.5 564,-118.5 460,-118.5\"/>\n<text text-anchor=\"middle\" x=\"512\" y=\"-165.7\" font-family=\"monospace\" font-size=\"11.00\" fill=\"white\">f</text>\n<polyline fill=\"none\" stroke=\"white\" points=\"460,-158.5 564,-158.5 \"/>\n<text text-anchor=\"middle\" x=\"512\" y=\"-145.7\" font-family=\"monospace\" font-size=\"11.00\" fill=\"white\">data: &#45;2.0000</text>\n<polyline fill=\"none\" stroke=\"white\" points=\"460,-138.5 564,-138.5 \"/>\n<text text-anchor=\"middle\" x=\"512\" y=\"-125.7\" font-family=\"monospace\" font-size=\"11.00\" fill=\"white\">grad: 4.0000</text>\n</g>\n<!-- 2469332941200x -->\n<g id=\"node9\" class=\"node\">\n<title>2469332941200x</title>\n<ellipse fill=\"#2e2e2e\" stroke=\"white\" cx=\"627\" cy=\"-108.5\" rx=\"27\" ry=\"18\"/>\n<text text-anchor=\"middle\" x=\"627\" y=\"-105.7\" font-family=\"monospace\" font-size=\"11.00\" fill=\"white\">x</text>\n</g>\n<!-- 2469333931536&#45;&gt;2469332941200x -->\n<g id=\"edge4\" class=\"edge\">\n<title>2469333931536&#45;&gt;2469332941200x</title>\n<path fill=\"none\" stroke=\"white\" d=\"M564.21,-130.37C574.16,-126.85 584.33,-123.25 593.47,-120.01\"/>\n<polygon fill=\"white\" stroke=\"white\" points=\"594.67,-123.3 602.93,-116.67 592.33,-116.7 594.67,-123.3\"/>\n</g>\n<!-- 2469334768528 -->\n<g id=\"node2\" class=\"node\">\n<title>2469334768528</title>\n<polygon fill=\"#2e2e2e\" stroke=\"white\" points=\"3,-119.5 3,-179.5 101,-179.5 101,-119.5 3,-119.5\"/>\n<text text-anchor=\"middle\" x=\"52\" y=\"-166.7\" font-family=\"monospace\" font-size=\"11.00\" fill=\"white\">a</text>\n<polyline fill=\"none\" stroke=\"white\" points=\"3,-159.5 101,-159.5 \"/>\n<text text-anchor=\"middle\" x=\"52\" y=\"-146.7\" font-family=\"monospace\" font-size=\"11.00\" fill=\"white\">data: 2.0000</text>\n<polyline fill=\"none\" stroke=\"white\" points=\"3,-139.5 101,-139.5 \"/>\n<text text-anchor=\"middle\" x=\"52\" y=\"-126.7\" font-family=\"monospace\" font-size=\"11.00\" fill=\"white\">grad: 0.0000</text>\n</g>\n<!-- 2469333201296x -->\n<g id=\"node7\" class=\"node\">\n<title>2469333201296x</title>\n<ellipse fill=\"#2e2e2e\" stroke=\"white\" cx=\"167\" cy=\"-109.5\" rx=\"27\" ry=\"18\"/>\n<text text-anchor=\"middle\" x=\"167\" y=\"-106.7\" font-family=\"monospace\" font-size=\"11.00\" fill=\"white\">x</text>\n</g>\n<!-- 2469334768528&#45;&gt;2469333201296x -->\n<g id=\"edge9\" class=\"edge\">\n<title>2469334768528&#45;&gt;2469333201296x</title>\n<path fill=\"none\" stroke=\"white\" d=\"M101.25,-132.42C112.05,-128.6 123.26,-124.63 133.25,-121.09\"/>\n<polygon fill=\"white\" stroke=\"white\" points=\"134.52,-124.35 142.78,-117.72 132.19,-117.76 134.52,-124.35\"/>\n</g>\n<!-- 2469360058064 -->\n<g id=\"node3\" class=\"node\">\n<title>2469360058064</title>\n<polygon fill=\"#2e2e2e\" stroke=\"white\" points=\"460,-39.5 460,-99.5 564,-99.5 564,-39.5 460,-39.5\"/>\n<text text-anchor=\"middle\" x=\"512\" y=\"-86.7\" font-family=\"monospace\" font-size=\"11.00\" fill=\"white\">d</text>\n<polyline fill=\"none\" stroke=\"white\" points=\"460,-79.5 564,-79.5 \"/>\n<text text-anchor=\"middle\" x=\"512\" y=\"-66.7\" font-family=\"monospace\" font-size=\"11.00\" fill=\"white\">data: 4.0000</text>\n<polyline fill=\"none\" stroke=\"white\" points=\"460,-59.5 564,-59.5 \"/>\n<text text-anchor=\"middle\" x=\"512\" y=\"-46.7\" font-family=\"monospace\" font-size=\"11.00\" fill=\"white\">grad: &#45;2.0000</text>\n</g>\n<!-- 2469360058064&#45;&gt;2469332941200x -->\n<g id=\"edge5\" class=\"edge\">\n<title>2469360058064&#45;&gt;2469332941200x</title>\n<path fill=\"none\" stroke=\"white\" d=\"M564.21,-87.17C573.97,-90.54 583.94,-93.98 592.94,-97.09\"/>\n<polygon fill=\"white\" stroke=\"white\" points=\"592.04,-100.48 602.64,-100.44 594.33,-93.87 592.04,-100.48\"/>\n</g>\n<!-- 2469360058064+ -->\n<g id=\"node4\" class=\"node\">\n<title>2469360058064+</title>\n<ellipse fill=\"#2e2e2e\" stroke=\"white\" cx=\"397\" cy=\"-69.5\" rx=\"27\" ry=\"18\"/>\n<text text-anchor=\"middle\" x=\"397\" y=\"-66.7\" font-family=\"monospace\" font-size=\"11.00\" fill=\"white\">+</text>\n</g>\n<!-- 2469360058064+&#45;&gt;2469360058064 -->\n<g id=\"edge1\" class=\"edge\">\n<title>2469360058064+&#45;&gt;2469360058064</title>\n<path fill=\"none\" stroke=\"white\" d=\"M424.21,-69.5C431.88,-69.5 440.62,-69.5 449.51,-69.5\"/>\n<polygon fill=\"white\" stroke=\"white\" points=\"449.58,-73 459.58,-69.5 449.58,-66 449.58,-73\"/>\n</g>\n<!-- 2469334798160 -->\n<g id=\"node5\" class=\"node\">\n<title>2469334798160</title>\n<polygon fill=\"#2e2e2e\" stroke=\"white\" points=\"0,-40.5 0,-100.5 104,-100.5 104,-40.5 0,-40.5\"/>\n<text text-anchor=\"middle\" x=\"52\" y=\"-87.7\" font-family=\"monospace\" font-size=\"11.00\" fill=\"white\">b</text>\n<polyline fill=\"none\" stroke=\"white\" points=\"0,-80.5 104,-80.5 \"/>\n<text text-anchor=\"middle\" x=\"52\" y=\"-67.7\" font-family=\"monospace\" font-size=\"11.00\" fill=\"white\">data: &#45;3.0000</text>\n<polyline fill=\"none\" stroke=\"white\" points=\"0,-60.5 104,-60.5 \"/>\n<text text-anchor=\"middle\" x=\"52\" y=\"-47.7\" font-family=\"monospace\" font-size=\"11.00\" fill=\"white\">grad: 0.0000</text>\n</g>\n<!-- 2469334798160&#45;&gt;2469333201296x -->\n<g id=\"edge6\" class=\"edge\">\n<title>2469334798160&#45;&gt;2469333201296x</title>\n<path fill=\"none\" stroke=\"white\" d=\"M104.21,-88.17C113.97,-91.54 123.94,-94.98 132.94,-98.09\"/>\n<polygon fill=\"white\" stroke=\"white\" points=\"132.04,-101.48 142.64,-101.44 134.33,-94.87 132.04,-101.48\"/>\n</g>\n<!-- 2469333201296 -->\n<g id=\"node6\" class=\"node\">\n<title>2469333201296</title>\n<polygon fill=\"#2e2e2e\" stroke=\"white\" points=\"230,-79.5 230,-139.5 334,-139.5 334,-79.5 230,-79.5\"/>\n<text text-anchor=\"middle\" x=\"282\" y=\"-126.7\" font-family=\"monospace\" font-size=\"11.00\" fill=\"white\">e</text>\n<polyline fill=\"none\" stroke=\"white\" points=\"230,-119.5 334,-119.5 \"/>\n<text text-anchor=\"middle\" x=\"282\" y=\"-106.7\" font-family=\"monospace\" font-size=\"11.00\" fill=\"white\">data: &#45;6.0000</text>\n<polyline fill=\"none\" stroke=\"white\" points=\"230,-99.5 334,-99.5 \"/>\n<text text-anchor=\"middle\" x=\"282\" y=\"-86.7\" font-family=\"monospace\" font-size=\"11.00\" fill=\"white\">grad: 0.0000</text>\n</g>\n<!-- 2469333201296&#45;&gt;2469360058064+ -->\n<g id=\"edge7\" class=\"edge\">\n<title>2469333201296&#45;&gt;2469360058064+</title>\n<path fill=\"none\" stroke=\"white\" d=\"M334.21,-91.37C344.16,-87.85 354.33,-84.25 363.47,-81.01\"/>\n<polygon fill=\"white\" stroke=\"white\" points=\"364.67,-84.3 372.93,-77.67 362.33,-77.7 364.67,-84.3\"/>\n</g>\n<!-- 2469333201296x&#45;&gt;2469333201296 -->\n<g id=\"edge2\" class=\"edge\">\n<title>2469333201296x&#45;&gt;2469333201296</title>\n<path fill=\"none\" stroke=\"white\" d=\"M194.21,-109.5C201.88,-109.5 210.62,-109.5 219.51,-109.5\"/>\n<polygon fill=\"white\" stroke=\"white\" points=\"219.58,-113 229.58,-109.5 219.58,-106 219.58,-113\"/>\n</g>\n<!-- 2469332941200 -->\n<g id=\"node8\" class=\"node\">\n<title>2469332941200</title>\n<polygon fill=\"#2e2e2e\" stroke=\"white\" points=\"690,-78.5 690,-138.5 794,-138.5 794,-78.5 690,-78.5\"/>\n<text text-anchor=\"middle\" x=\"742\" y=\"-125.7\" font-family=\"monospace\" font-size=\"11.00\" fill=\"white\">L</text>\n<polyline fill=\"none\" stroke=\"white\" points=\"690,-118.5 794,-118.5 \"/>\n<text text-anchor=\"middle\" x=\"742\" y=\"-105.7\" font-family=\"monospace\" font-size=\"11.00\" fill=\"white\">data: &#45;8.0000</text>\n<polyline fill=\"none\" stroke=\"white\" points=\"690,-98.5 794,-98.5 \"/>\n<text text-anchor=\"middle\" x=\"742\" y=\"-85.7\" font-family=\"monospace\" font-size=\"11.00\" fill=\"white\">grad: 1.0000</text>\n</g>\n<!-- 2469332941200x&#45;&gt;2469332941200 -->\n<g id=\"edge3\" class=\"edge\">\n<title>2469332941200x&#45;&gt;2469332941200</title>\n<path fill=\"none\" stroke=\"white\" d=\"M654.21,-108.5C661.88,-108.5 670.62,-108.5 679.51,-108.5\"/>\n<polygon fill=\"white\" stroke=\"white\" points=\"679.58,-112 689.58,-108.5 679.58,-105 679.58,-112\"/>\n</g>\n<!-- 2469334477264 -->\n<g id=\"node10\" class=\"node\">\n<title>2469334477264</title>\n<polygon fill=\"#2e2e2e\" stroke=\"white\" points=\"230,-0.5 230,-60.5 334,-60.5 334,-0.5 230,-0.5\"/>\n<text text-anchor=\"middle\" x=\"282\" y=\"-47.7\" font-family=\"monospace\" font-size=\"11.00\" fill=\"white\">c</text>\n<polyline fill=\"none\" stroke=\"white\" points=\"230,-40.5 334,-40.5 \"/>\n<text text-anchor=\"middle\" x=\"282\" y=\"-27.7\" font-family=\"monospace\" font-size=\"11.00\" fill=\"white\">data: 10.0000</text>\n<polyline fill=\"none\" stroke=\"white\" points=\"230,-20.5 334,-20.5 \"/>\n<text text-anchor=\"middle\" x=\"282\" y=\"-7.7\" font-family=\"monospace\" font-size=\"11.00\" fill=\"white\">grad: 0.0000</text>\n</g>\n<!-- 2469334477264&#45;&gt;2469360058064+ -->\n<g id=\"edge8\" class=\"edge\">\n<title>2469334477264&#45;&gt;2469360058064+</title>\n<path fill=\"none\" stroke=\"white\" d=\"M334.21,-48.17C343.97,-51.54 353.94,-54.98 362.94,-58.09\"/>\n<polygon fill=\"white\" stroke=\"white\" points=\"362.04,-61.48 372.64,-61.44 364.33,-54.87 362.04,-61.48\"/>\n</g>\n</g>\n</svg>\n",
      "text/plain": [
       "<graphviz.graphs.Digraph at 0x23eefbbc090>"
      ]
     },
     "execution_count": 127,
     "metadata": {},
     "output_type": "execute_result"
    }
   ],
   "execution_count": 127
  },
  {
   "metadata": {
    "ExecuteTime": {
     "end_time": "2024-09-04T09:42:06.422319Z",
     "start_time": "2024-09-04T09:42:06.419023Z"
    }
   },
   "cell_type": "code",
   "source": [
    "c._grad = -2.0 # chain rule, dL/dc = dL/dd * dd/dc = -2 * 1\n",
    "e._grad = -2.0 # chain rule, dL/de = dL/dd * dd/de = -2 * 1"
   ],
   "id": "23b3df8c2bec88d8",
   "outputs": [],
   "execution_count": 128
  },
  {
   "metadata": {
    "ExecuteTime": {
     "end_time": "2024-09-04T09:42:06.587987Z",
     "start_time": "2024-09-04T09:42:06.440970Z"
    }
   },
   "cell_type": "code",
   "source": "draw_dot(L)",
   "id": "5b27cde070b11c17",
   "outputs": [
    {
     "data": {
      "image/svg+xml": "<?xml version=\"1.0\" encoding=\"UTF-8\" standalone=\"no\"?>\n<!DOCTYPE svg PUBLIC \"-//W3C//DTD SVG 1.1//EN\"\n \"http://www.w3.org/Graphics/SVG/1.1/DTD/svg11.dtd\">\n<!-- Generated by graphviz version 2.50.0 (0)\n -->\n<!-- Title: svg Pages: 1 -->\n<svg width=\"802pt\" height=\"188pt\"\n viewBox=\"0.00 0.00 802.00 188.00\" xmlns=\"http://www.w3.org/2000/svg\" xmlns:xlink=\"http://www.w3.org/1999/xlink\">\n<g id=\"graph0\" class=\"graph\" transform=\"scale(1 1) rotate(0) translate(4 184)\">\n<title>svg</title>\n<polygon fill=\"#272822\" stroke=\"transparent\" points=\"-4,4 -4,-184 798,-184 798,4 -4,4\"/>\n<!-- 2469333931536 -->\n<g id=\"node1\" class=\"node\">\n<title>2469333931536</title>\n<polygon fill=\"#2e2e2e\" stroke=\"white\" points=\"460,-118.5 460,-178.5 564,-178.5 564,-118.5 460,-118.5\"/>\n<text text-anchor=\"middle\" x=\"512\" y=\"-165.7\" font-family=\"monospace\" font-size=\"11.00\" fill=\"white\">f</text>\n<polyline fill=\"none\" stroke=\"white\" points=\"460,-158.5 564,-158.5 \"/>\n<text text-anchor=\"middle\" x=\"512\" y=\"-145.7\" font-family=\"monospace\" font-size=\"11.00\" fill=\"white\">data: &#45;2.0000</text>\n<polyline fill=\"none\" stroke=\"white\" points=\"460,-138.5 564,-138.5 \"/>\n<text text-anchor=\"middle\" x=\"512\" y=\"-125.7\" font-family=\"monospace\" font-size=\"11.00\" fill=\"white\">grad: 4.0000</text>\n</g>\n<!-- 2469332941200x -->\n<g id=\"node9\" class=\"node\">\n<title>2469332941200x</title>\n<ellipse fill=\"#2e2e2e\" stroke=\"white\" cx=\"627\" cy=\"-108.5\" rx=\"27\" ry=\"18\"/>\n<text text-anchor=\"middle\" x=\"627\" y=\"-105.7\" font-family=\"monospace\" font-size=\"11.00\" fill=\"white\">x</text>\n</g>\n<!-- 2469333931536&#45;&gt;2469332941200x -->\n<g id=\"edge4\" class=\"edge\">\n<title>2469333931536&#45;&gt;2469332941200x</title>\n<path fill=\"none\" stroke=\"white\" d=\"M564.21,-130.37C574.16,-126.85 584.33,-123.25 593.47,-120.01\"/>\n<polygon fill=\"white\" stroke=\"white\" points=\"594.67,-123.3 602.93,-116.67 592.33,-116.7 594.67,-123.3\"/>\n</g>\n<!-- 2469334768528 -->\n<g id=\"node2\" class=\"node\">\n<title>2469334768528</title>\n<polygon fill=\"#2e2e2e\" stroke=\"white\" points=\"3,-119.5 3,-179.5 101,-179.5 101,-119.5 3,-119.5\"/>\n<text text-anchor=\"middle\" x=\"52\" y=\"-166.7\" font-family=\"monospace\" font-size=\"11.00\" fill=\"white\">a</text>\n<polyline fill=\"none\" stroke=\"white\" points=\"3,-159.5 101,-159.5 \"/>\n<text text-anchor=\"middle\" x=\"52\" y=\"-146.7\" font-family=\"monospace\" font-size=\"11.00\" fill=\"white\">data: 2.0000</text>\n<polyline fill=\"none\" stroke=\"white\" points=\"3,-139.5 101,-139.5 \"/>\n<text text-anchor=\"middle\" x=\"52\" y=\"-126.7\" font-family=\"monospace\" font-size=\"11.00\" fill=\"white\">grad: 0.0000</text>\n</g>\n<!-- 2469333201296x -->\n<g id=\"node7\" class=\"node\">\n<title>2469333201296x</title>\n<ellipse fill=\"#2e2e2e\" stroke=\"white\" cx=\"167\" cy=\"-109.5\" rx=\"27\" ry=\"18\"/>\n<text text-anchor=\"middle\" x=\"167\" y=\"-106.7\" font-family=\"monospace\" font-size=\"11.00\" fill=\"white\">x</text>\n</g>\n<!-- 2469334768528&#45;&gt;2469333201296x -->\n<g id=\"edge9\" class=\"edge\">\n<title>2469334768528&#45;&gt;2469333201296x</title>\n<path fill=\"none\" stroke=\"white\" d=\"M101.25,-132.42C112.05,-128.6 123.26,-124.63 133.25,-121.09\"/>\n<polygon fill=\"white\" stroke=\"white\" points=\"134.52,-124.35 142.78,-117.72 132.19,-117.76 134.52,-124.35\"/>\n</g>\n<!-- 2469360058064 -->\n<g id=\"node3\" class=\"node\">\n<title>2469360058064</title>\n<polygon fill=\"#2e2e2e\" stroke=\"white\" points=\"460,-39.5 460,-99.5 564,-99.5 564,-39.5 460,-39.5\"/>\n<text text-anchor=\"middle\" x=\"512\" y=\"-86.7\" font-family=\"monospace\" font-size=\"11.00\" fill=\"white\">d</text>\n<polyline fill=\"none\" stroke=\"white\" points=\"460,-79.5 564,-79.5 \"/>\n<text text-anchor=\"middle\" x=\"512\" y=\"-66.7\" font-family=\"monospace\" font-size=\"11.00\" fill=\"white\">data: 4.0000</text>\n<polyline fill=\"none\" stroke=\"white\" points=\"460,-59.5 564,-59.5 \"/>\n<text text-anchor=\"middle\" x=\"512\" y=\"-46.7\" font-family=\"monospace\" font-size=\"11.00\" fill=\"white\">grad: &#45;2.0000</text>\n</g>\n<!-- 2469360058064&#45;&gt;2469332941200x -->\n<g id=\"edge5\" class=\"edge\">\n<title>2469360058064&#45;&gt;2469332941200x</title>\n<path fill=\"none\" stroke=\"white\" d=\"M564.21,-87.17C573.97,-90.54 583.94,-93.98 592.94,-97.09\"/>\n<polygon fill=\"white\" stroke=\"white\" points=\"592.04,-100.48 602.64,-100.44 594.33,-93.87 592.04,-100.48\"/>\n</g>\n<!-- 2469360058064+ -->\n<g id=\"node4\" class=\"node\">\n<title>2469360058064+</title>\n<ellipse fill=\"#2e2e2e\" stroke=\"white\" cx=\"397\" cy=\"-69.5\" rx=\"27\" ry=\"18\"/>\n<text text-anchor=\"middle\" x=\"397\" y=\"-66.7\" font-family=\"monospace\" font-size=\"11.00\" fill=\"white\">+</text>\n</g>\n<!-- 2469360058064+&#45;&gt;2469360058064 -->\n<g id=\"edge1\" class=\"edge\">\n<title>2469360058064+&#45;&gt;2469360058064</title>\n<path fill=\"none\" stroke=\"white\" d=\"M424.21,-69.5C431.88,-69.5 440.62,-69.5 449.51,-69.5\"/>\n<polygon fill=\"white\" stroke=\"white\" points=\"449.58,-73 459.58,-69.5 449.58,-66 449.58,-73\"/>\n</g>\n<!-- 2469334798160 -->\n<g id=\"node5\" class=\"node\">\n<title>2469334798160</title>\n<polygon fill=\"#2e2e2e\" stroke=\"white\" points=\"0,-40.5 0,-100.5 104,-100.5 104,-40.5 0,-40.5\"/>\n<text text-anchor=\"middle\" x=\"52\" y=\"-87.7\" font-family=\"monospace\" font-size=\"11.00\" fill=\"white\">b</text>\n<polyline fill=\"none\" stroke=\"white\" points=\"0,-80.5 104,-80.5 \"/>\n<text text-anchor=\"middle\" x=\"52\" y=\"-67.7\" font-family=\"monospace\" font-size=\"11.00\" fill=\"white\">data: &#45;3.0000</text>\n<polyline fill=\"none\" stroke=\"white\" points=\"0,-60.5 104,-60.5 \"/>\n<text text-anchor=\"middle\" x=\"52\" y=\"-47.7\" font-family=\"monospace\" font-size=\"11.00\" fill=\"white\">grad: 0.0000</text>\n</g>\n<!-- 2469334798160&#45;&gt;2469333201296x -->\n<g id=\"edge6\" class=\"edge\">\n<title>2469334798160&#45;&gt;2469333201296x</title>\n<path fill=\"none\" stroke=\"white\" d=\"M104.21,-88.17C113.97,-91.54 123.94,-94.98 132.94,-98.09\"/>\n<polygon fill=\"white\" stroke=\"white\" points=\"132.04,-101.48 142.64,-101.44 134.33,-94.87 132.04,-101.48\"/>\n</g>\n<!-- 2469333201296 -->\n<g id=\"node6\" class=\"node\">\n<title>2469333201296</title>\n<polygon fill=\"#2e2e2e\" stroke=\"white\" points=\"230,-79.5 230,-139.5 334,-139.5 334,-79.5 230,-79.5\"/>\n<text text-anchor=\"middle\" x=\"282\" y=\"-126.7\" font-family=\"monospace\" font-size=\"11.00\" fill=\"white\">e</text>\n<polyline fill=\"none\" stroke=\"white\" points=\"230,-119.5 334,-119.5 \"/>\n<text text-anchor=\"middle\" x=\"282\" y=\"-106.7\" font-family=\"monospace\" font-size=\"11.00\" fill=\"white\">data: &#45;6.0000</text>\n<polyline fill=\"none\" stroke=\"white\" points=\"230,-99.5 334,-99.5 \"/>\n<text text-anchor=\"middle\" x=\"282\" y=\"-86.7\" font-family=\"monospace\" font-size=\"11.00\" fill=\"white\">grad: &#45;2.0000</text>\n</g>\n<!-- 2469333201296&#45;&gt;2469360058064+ -->\n<g id=\"edge7\" class=\"edge\">\n<title>2469333201296&#45;&gt;2469360058064+</title>\n<path fill=\"none\" stroke=\"white\" d=\"M334.21,-91.37C344.16,-87.85 354.33,-84.25 363.47,-81.01\"/>\n<polygon fill=\"white\" stroke=\"white\" points=\"364.67,-84.3 372.93,-77.67 362.33,-77.7 364.67,-84.3\"/>\n</g>\n<!-- 2469333201296x&#45;&gt;2469333201296 -->\n<g id=\"edge2\" class=\"edge\">\n<title>2469333201296x&#45;&gt;2469333201296</title>\n<path fill=\"none\" stroke=\"white\" d=\"M194.21,-109.5C201.88,-109.5 210.62,-109.5 219.51,-109.5\"/>\n<polygon fill=\"white\" stroke=\"white\" points=\"219.58,-113 229.58,-109.5 219.58,-106 219.58,-113\"/>\n</g>\n<!-- 2469332941200 -->\n<g id=\"node8\" class=\"node\">\n<title>2469332941200</title>\n<polygon fill=\"#2e2e2e\" stroke=\"white\" points=\"690,-78.5 690,-138.5 794,-138.5 794,-78.5 690,-78.5\"/>\n<text text-anchor=\"middle\" x=\"742\" y=\"-125.7\" font-family=\"monospace\" font-size=\"11.00\" fill=\"white\">L</text>\n<polyline fill=\"none\" stroke=\"white\" points=\"690,-118.5 794,-118.5 \"/>\n<text text-anchor=\"middle\" x=\"742\" y=\"-105.7\" font-family=\"monospace\" font-size=\"11.00\" fill=\"white\">data: &#45;8.0000</text>\n<polyline fill=\"none\" stroke=\"white\" points=\"690,-98.5 794,-98.5 \"/>\n<text text-anchor=\"middle\" x=\"742\" y=\"-85.7\" font-family=\"monospace\" font-size=\"11.00\" fill=\"white\">grad: 1.0000</text>\n</g>\n<!-- 2469332941200x&#45;&gt;2469332941200 -->\n<g id=\"edge3\" class=\"edge\">\n<title>2469332941200x&#45;&gt;2469332941200</title>\n<path fill=\"none\" stroke=\"white\" d=\"M654.21,-108.5C661.88,-108.5 670.62,-108.5 679.51,-108.5\"/>\n<polygon fill=\"white\" stroke=\"white\" points=\"679.58,-112 689.58,-108.5 679.58,-105 679.58,-112\"/>\n</g>\n<!-- 2469334477264 -->\n<g id=\"node10\" class=\"node\">\n<title>2469334477264</title>\n<polygon fill=\"#2e2e2e\" stroke=\"white\" points=\"230,-0.5 230,-60.5 334,-60.5 334,-0.5 230,-0.5\"/>\n<text text-anchor=\"middle\" x=\"282\" y=\"-47.7\" font-family=\"monospace\" font-size=\"11.00\" fill=\"white\">c</text>\n<polyline fill=\"none\" stroke=\"white\" points=\"230,-40.5 334,-40.5 \"/>\n<text text-anchor=\"middle\" x=\"282\" y=\"-27.7\" font-family=\"monospace\" font-size=\"11.00\" fill=\"white\">data: 10.0000</text>\n<polyline fill=\"none\" stroke=\"white\" points=\"230,-20.5 334,-20.5 \"/>\n<text text-anchor=\"middle\" x=\"282\" y=\"-7.7\" font-family=\"monospace\" font-size=\"11.00\" fill=\"white\">grad: &#45;2.0000</text>\n</g>\n<!-- 2469334477264&#45;&gt;2469360058064+ -->\n<g id=\"edge8\" class=\"edge\">\n<title>2469334477264&#45;&gt;2469360058064+</title>\n<path fill=\"none\" stroke=\"white\" d=\"M334.21,-48.17C343.97,-51.54 353.94,-54.98 362.94,-58.09\"/>\n<polygon fill=\"white\" stroke=\"white\" points=\"362.04,-61.48 372.64,-61.44 364.33,-54.87 362.04,-61.48\"/>\n</g>\n</g>\n</svg>\n",
      "text/plain": [
       "<graphviz.graphs.Digraph at 0x23eefcbd390>"
      ]
     },
     "execution_count": 129,
     "metadata": {},
     "output_type": "execute_result"
    }
   ],
   "execution_count": 129
  },
  {
   "metadata": {},
   "cell_type": "markdown",
   "source": "We can see that by chain rule, the plus operation essentially provides a rerouting of the gradients!",
   "id": "7e497c06fe347b3b"
  },
  {
   "metadata": {
    "ExecuteTime": {
     "end_time": "2024-09-04T09:42:06.604157Z",
     "start_time": "2024-09-04T09:42:06.600650Z"
    }
   },
   "cell_type": "code",
   "source": [
    "a._grad = 6.0 # chain rule, dL/da = dL/de * de/da = (-2) * (-3)\n",
    "b._grad = -4.0 # chain rule, dL/db = dL/de * de/db = (-2) * 2"
   ],
   "id": "74d2d2517089745e",
   "outputs": [],
   "execution_count": 130
  },
  {
   "metadata": {
    "ExecuteTime": {
     "end_time": "2024-09-04T09:42:06.668656Z",
     "start_time": "2024-09-04T09:42:06.619229Z"
    }
   },
   "cell_type": "code",
   "source": "draw_dot(L)",
   "id": "5c9ae0ae3fd439d2",
   "outputs": [
    {
     "data": {
      "image/svg+xml": "<?xml version=\"1.0\" encoding=\"UTF-8\" standalone=\"no\"?>\n<!DOCTYPE svg PUBLIC \"-//W3C//DTD SVG 1.1//EN\"\n \"http://www.w3.org/Graphics/SVG/1.1/DTD/svg11.dtd\">\n<!-- Generated by graphviz version 2.50.0 (0)\n -->\n<!-- Title: svg Pages: 1 -->\n<svg width=\"802pt\" height=\"188pt\"\n viewBox=\"0.00 0.00 802.00 188.00\" xmlns=\"http://www.w3.org/2000/svg\" xmlns:xlink=\"http://www.w3.org/1999/xlink\">\n<g id=\"graph0\" class=\"graph\" transform=\"scale(1 1) rotate(0) translate(4 184)\">\n<title>svg</title>\n<polygon fill=\"#272822\" stroke=\"transparent\" points=\"-4,4 -4,-184 798,-184 798,4 -4,4\"/>\n<!-- 2469333931536 -->\n<g id=\"node1\" class=\"node\">\n<title>2469333931536</title>\n<polygon fill=\"#2e2e2e\" stroke=\"white\" points=\"460,-118.5 460,-178.5 564,-178.5 564,-118.5 460,-118.5\"/>\n<text text-anchor=\"middle\" x=\"512\" y=\"-165.7\" font-family=\"monospace\" font-size=\"11.00\" fill=\"white\">f</text>\n<polyline fill=\"none\" stroke=\"white\" points=\"460,-158.5 564,-158.5 \"/>\n<text text-anchor=\"middle\" x=\"512\" y=\"-145.7\" font-family=\"monospace\" font-size=\"11.00\" fill=\"white\">data: &#45;2.0000</text>\n<polyline fill=\"none\" stroke=\"white\" points=\"460,-138.5 564,-138.5 \"/>\n<text text-anchor=\"middle\" x=\"512\" y=\"-125.7\" font-family=\"monospace\" font-size=\"11.00\" fill=\"white\">grad: 4.0000</text>\n</g>\n<!-- 2469332941200x -->\n<g id=\"node9\" class=\"node\">\n<title>2469332941200x</title>\n<ellipse fill=\"#2e2e2e\" stroke=\"white\" cx=\"627\" cy=\"-108.5\" rx=\"27\" ry=\"18\"/>\n<text text-anchor=\"middle\" x=\"627\" y=\"-105.7\" font-family=\"monospace\" font-size=\"11.00\" fill=\"white\">x</text>\n</g>\n<!-- 2469333931536&#45;&gt;2469332941200x -->\n<g id=\"edge4\" class=\"edge\">\n<title>2469333931536&#45;&gt;2469332941200x</title>\n<path fill=\"none\" stroke=\"white\" d=\"M564.21,-130.37C574.16,-126.85 584.33,-123.25 593.47,-120.01\"/>\n<polygon fill=\"white\" stroke=\"white\" points=\"594.67,-123.3 602.93,-116.67 592.33,-116.7 594.67,-123.3\"/>\n</g>\n<!-- 2469334768528 -->\n<g id=\"node2\" class=\"node\">\n<title>2469334768528</title>\n<polygon fill=\"#2e2e2e\" stroke=\"white\" points=\"3,-119.5 3,-179.5 101,-179.5 101,-119.5 3,-119.5\"/>\n<text text-anchor=\"middle\" x=\"52\" y=\"-166.7\" font-family=\"monospace\" font-size=\"11.00\" fill=\"white\">a</text>\n<polyline fill=\"none\" stroke=\"white\" points=\"3,-159.5 101,-159.5 \"/>\n<text text-anchor=\"middle\" x=\"52\" y=\"-146.7\" font-family=\"monospace\" font-size=\"11.00\" fill=\"white\">data: 2.0000</text>\n<polyline fill=\"none\" stroke=\"white\" points=\"3,-139.5 101,-139.5 \"/>\n<text text-anchor=\"middle\" x=\"52\" y=\"-126.7\" font-family=\"monospace\" font-size=\"11.00\" fill=\"white\">grad: 6.0000</text>\n</g>\n<!-- 2469333201296x -->\n<g id=\"node7\" class=\"node\">\n<title>2469333201296x</title>\n<ellipse fill=\"#2e2e2e\" stroke=\"white\" cx=\"167\" cy=\"-109.5\" rx=\"27\" ry=\"18\"/>\n<text text-anchor=\"middle\" x=\"167\" y=\"-106.7\" font-family=\"monospace\" font-size=\"11.00\" fill=\"white\">x</text>\n</g>\n<!-- 2469334768528&#45;&gt;2469333201296x -->\n<g id=\"edge9\" class=\"edge\">\n<title>2469334768528&#45;&gt;2469333201296x</title>\n<path fill=\"none\" stroke=\"white\" d=\"M101.25,-132.42C112.05,-128.6 123.26,-124.63 133.25,-121.09\"/>\n<polygon fill=\"white\" stroke=\"white\" points=\"134.52,-124.35 142.78,-117.72 132.19,-117.76 134.52,-124.35\"/>\n</g>\n<!-- 2469360058064 -->\n<g id=\"node3\" class=\"node\">\n<title>2469360058064</title>\n<polygon fill=\"#2e2e2e\" stroke=\"white\" points=\"460,-39.5 460,-99.5 564,-99.5 564,-39.5 460,-39.5\"/>\n<text text-anchor=\"middle\" x=\"512\" y=\"-86.7\" font-family=\"monospace\" font-size=\"11.00\" fill=\"white\">d</text>\n<polyline fill=\"none\" stroke=\"white\" points=\"460,-79.5 564,-79.5 \"/>\n<text text-anchor=\"middle\" x=\"512\" y=\"-66.7\" font-family=\"monospace\" font-size=\"11.00\" fill=\"white\">data: 4.0000</text>\n<polyline fill=\"none\" stroke=\"white\" points=\"460,-59.5 564,-59.5 \"/>\n<text text-anchor=\"middle\" x=\"512\" y=\"-46.7\" font-family=\"monospace\" font-size=\"11.00\" fill=\"white\">grad: &#45;2.0000</text>\n</g>\n<!-- 2469360058064&#45;&gt;2469332941200x -->\n<g id=\"edge5\" class=\"edge\">\n<title>2469360058064&#45;&gt;2469332941200x</title>\n<path fill=\"none\" stroke=\"white\" d=\"M564.21,-87.17C573.97,-90.54 583.94,-93.98 592.94,-97.09\"/>\n<polygon fill=\"white\" stroke=\"white\" points=\"592.04,-100.48 602.64,-100.44 594.33,-93.87 592.04,-100.48\"/>\n</g>\n<!-- 2469360058064+ -->\n<g id=\"node4\" class=\"node\">\n<title>2469360058064+</title>\n<ellipse fill=\"#2e2e2e\" stroke=\"white\" cx=\"397\" cy=\"-69.5\" rx=\"27\" ry=\"18\"/>\n<text text-anchor=\"middle\" x=\"397\" y=\"-66.7\" font-family=\"monospace\" font-size=\"11.00\" fill=\"white\">+</text>\n</g>\n<!-- 2469360058064+&#45;&gt;2469360058064 -->\n<g id=\"edge1\" class=\"edge\">\n<title>2469360058064+&#45;&gt;2469360058064</title>\n<path fill=\"none\" stroke=\"white\" d=\"M424.21,-69.5C431.88,-69.5 440.62,-69.5 449.51,-69.5\"/>\n<polygon fill=\"white\" stroke=\"white\" points=\"449.58,-73 459.58,-69.5 449.58,-66 449.58,-73\"/>\n</g>\n<!-- 2469334798160 -->\n<g id=\"node5\" class=\"node\">\n<title>2469334798160</title>\n<polygon fill=\"#2e2e2e\" stroke=\"white\" points=\"0,-40.5 0,-100.5 104,-100.5 104,-40.5 0,-40.5\"/>\n<text text-anchor=\"middle\" x=\"52\" y=\"-87.7\" font-family=\"monospace\" font-size=\"11.00\" fill=\"white\">b</text>\n<polyline fill=\"none\" stroke=\"white\" points=\"0,-80.5 104,-80.5 \"/>\n<text text-anchor=\"middle\" x=\"52\" y=\"-67.7\" font-family=\"monospace\" font-size=\"11.00\" fill=\"white\">data: &#45;3.0000</text>\n<polyline fill=\"none\" stroke=\"white\" points=\"0,-60.5 104,-60.5 \"/>\n<text text-anchor=\"middle\" x=\"52\" y=\"-47.7\" font-family=\"monospace\" font-size=\"11.00\" fill=\"white\">grad: &#45;4.0000</text>\n</g>\n<!-- 2469334798160&#45;&gt;2469333201296x -->\n<g id=\"edge6\" class=\"edge\">\n<title>2469334798160&#45;&gt;2469333201296x</title>\n<path fill=\"none\" stroke=\"white\" d=\"M104.21,-88.17C113.97,-91.54 123.94,-94.98 132.94,-98.09\"/>\n<polygon fill=\"white\" stroke=\"white\" points=\"132.04,-101.48 142.64,-101.44 134.33,-94.87 132.04,-101.48\"/>\n</g>\n<!-- 2469333201296 -->\n<g id=\"node6\" class=\"node\">\n<title>2469333201296</title>\n<polygon fill=\"#2e2e2e\" stroke=\"white\" points=\"230,-79.5 230,-139.5 334,-139.5 334,-79.5 230,-79.5\"/>\n<text text-anchor=\"middle\" x=\"282\" y=\"-126.7\" font-family=\"monospace\" font-size=\"11.00\" fill=\"white\">e</text>\n<polyline fill=\"none\" stroke=\"white\" points=\"230,-119.5 334,-119.5 \"/>\n<text text-anchor=\"middle\" x=\"282\" y=\"-106.7\" font-family=\"monospace\" font-size=\"11.00\" fill=\"white\">data: &#45;6.0000</text>\n<polyline fill=\"none\" stroke=\"white\" points=\"230,-99.5 334,-99.5 \"/>\n<text text-anchor=\"middle\" x=\"282\" y=\"-86.7\" font-family=\"monospace\" font-size=\"11.00\" fill=\"white\">grad: &#45;2.0000</text>\n</g>\n<!-- 2469333201296&#45;&gt;2469360058064+ -->\n<g id=\"edge7\" class=\"edge\">\n<title>2469333201296&#45;&gt;2469360058064+</title>\n<path fill=\"none\" stroke=\"white\" d=\"M334.21,-91.37C344.16,-87.85 354.33,-84.25 363.47,-81.01\"/>\n<polygon fill=\"white\" stroke=\"white\" points=\"364.67,-84.3 372.93,-77.67 362.33,-77.7 364.67,-84.3\"/>\n</g>\n<!-- 2469333201296x&#45;&gt;2469333201296 -->\n<g id=\"edge2\" class=\"edge\">\n<title>2469333201296x&#45;&gt;2469333201296</title>\n<path fill=\"none\" stroke=\"white\" d=\"M194.21,-109.5C201.88,-109.5 210.62,-109.5 219.51,-109.5\"/>\n<polygon fill=\"white\" stroke=\"white\" points=\"219.58,-113 229.58,-109.5 219.58,-106 219.58,-113\"/>\n</g>\n<!-- 2469332941200 -->\n<g id=\"node8\" class=\"node\">\n<title>2469332941200</title>\n<polygon fill=\"#2e2e2e\" stroke=\"white\" points=\"690,-78.5 690,-138.5 794,-138.5 794,-78.5 690,-78.5\"/>\n<text text-anchor=\"middle\" x=\"742\" y=\"-125.7\" font-family=\"monospace\" font-size=\"11.00\" fill=\"white\">L</text>\n<polyline fill=\"none\" stroke=\"white\" points=\"690,-118.5 794,-118.5 \"/>\n<text text-anchor=\"middle\" x=\"742\" y=\"-105.7\" font-family=\"monospace\" font-size=\"11.00\" fill=\"white\">data: &#45;8.0000</text>\n<polyline fill=\"none\" stroke=\"white\" points=\"690,-98.5 794,-98.5 \"/>\n<text text-anchor=\"middle\" x=\"742\" y=\"-85.7\" font-family=\"monospace\" font-size=\"11.00\" fill=\"white\">grad: 1.0000</text>\n</g>\n<!-- 2469332941200x&#45;&gt;2469332941200 -->\n<g id=\"edge3\" class=\"edge\">\n<title>2469332941200x&#45;&gt;2469332941200</title>\n<path fill=\"none\" stroke=\"white\" d=\"M654.21,-108.5C661.88,-108.5 670.62,-108.5 679.51,-108.5\"/>\n<polygon fill=\"white\" stroke=\"white\" points=\"679.58,-112 689.58,-108.5 679.58,-105 679.58,-112\"/>\n</g>\n<!-- 2469334477264 -->\n<g id=\"node10\" class=\"node\">\n<title>2469334477264</title>\n<polygon fill=\"#2e2e2e\" stroke=\"white\" points=\"230,-0.5 230,-60.5 334,-60.5 334,-0.5 230,-0.5\"/>\n<text text-anchor=\"middle\" x=\"282\" y=\"-47.7\" font-family=\"monospace\" font-size=\"11.00\" fill=\"white\">c</text>\n<polyline fill=\"none\" stroke=\"white\" points=\"230,-40.5 334,-40.5 \"/>\n<text text-anchor=\"middle\" x=\"282\" y=\"-27.7\" font-family=\"monospace\" font-size=\"11.00\" fill=\"white\">data: 10.0000</text>\n<polyline fill=\"none\" stroke=\"white\" points=\"230,-20.5 334,-20.5 \"/>\n<text text-anchor=\"middle\" x=\"282\" y=\"-7.7\" font-family=\"monospace\" font-size=\"11.00\" fill=\"white\">grad: &#45;2.0000</text>\n</g>\n<!-- 2469334477264&#45;&gt;2469360058064+ -->\n<g id=\"edge8\" class=\"edge\">\n<title>2469334477264&#45;&gt;2469360058064+</title>\n<path fill=\"none\" stroke=\"white\" d=\"M334.21,-48.17C343.97,-51.54 353.94,-54.98 362.94,-58.09\"/>\n<polygon fill=\"white\" stroke=\"white\" points=\"362.04,-61.48 372.64,-61.44 364.33,-54.87 362.04,-61.48\"/>\n</g>\n</g>\n</svg>\n",
      "text/plain": [
       "<graphviz.graphs.Digraph at 0x23eefb16310>"
      ]
     },
     "execution_count": 131,
     "metadata": {},
     "output_type": "execute_result"
    }
   ],
   "execution_count": 131
  }
 ],
 "metadata": {
  "kernelspec": {
   "display_name": "Python 3",
   "language": "python",
   "name": "python3"
  },
  "language_info": {
   "codemirror_mode": {
    "name": "ipython",
    "version": 2
   },
   "file_extension": ".py",
   "mimetype": "text/x-python",
   "name": "python",
   "nbconvert_exporter": "python",
   "pygments_lexer": "ipython2",
   "version": "2.7.6"
  }
 },
 "nbformat": 4,
 "nbformat_minor": 5
}
