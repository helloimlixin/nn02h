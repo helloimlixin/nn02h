{
 "cells": [
  {
   "cell_type": "code",
   "id": "initial_id",
   "metadata": {
    "collapsed": true,
    "ExecuteTime": {
     "end_time": "2024-09-08T12:00:54.248409Z",
     "start_time": "2024-09-08T12:00:53.840054Z"
    }
   },
   "source": [
    "import math\n",
    "import numpy as np\n",
    "import matplotlib.pyplot as plt\n",
    "%matplotlib inline"
   ],
   "outputs": [],
   "execution_count": 1
  },
  {
   "metadata": {
    "ExecuteTime": {
     "end_time": "2024-09-08T12:00:54.267785Z",
     "start_time": "2024-09-08T12:00:54.264425Z"
    }
   },
   "cell_type": "code",
   "source": [
    "def f(x):\n",
    "    return 3 * x ** 2 - 4 * x + 5"
   ],
   "id": "328a2c0927fa5a2a",
   "outputs": [],
   "execution_count": 2
  },
  {
   "metadata": {
    "ExecuteTime": {
     "end_time": "2024-09-08T12:00:54.283092Z",
     "start_time": "2024-09-08T12:00:54.279791Z"
    }
   },
   "cell_type": "code",
   "source": "f(3.0)",
   "id": "6fae628ab01957d2",
   "outputs": [
    {
     "data": {
      "text/plain": [
       "20.0"
      ]
     },
     "execution_count": 3,
     "metadata": {},
     "output_type": "execute_result"
    }
   ],
   "execution_count": 3
  },
  {
   "metadata": {
    "ExecuteTime": {
     "end_time": "2024-09-08T12:00:54.562028Z",
     "start_time": "2024-09-08T12:00:54.557330Z"
    }
   },
   "cell_type": "code",
   "source": [
    "xs = np.arange(-5, 5, 0.25)\n",
    "ys = f(xs)\n",
    "ys"
   ],
   "id": "f89d0a3c0e7c0f03",
   "outputs": [
    {
     "data": {
      "text/plain": [
       "array([100.    ,  91.6875,  83.75  ,  76.1875,  69.    ,  62.1875,\n",
       "        55.75  ,  49.6875,  44.    ,  38.6875,  33.75  ,  29.1875,\n",
       "        25.    ,  21.1875,  17.75  ,  14.6875,  12.    ,   9.6875,\n",
       "         7.75  ,   6.1875,   5.    ,   4.1875,   3.75  ,   3.6875,\n",
       "         4.    ,   4.6875,   5.75  ,   7.1875,   9.    ,  11.1875,\n",
       "        13.75  ,  16.6875,  20.    ,  23.6875,  27.75  ,  32.1875,\n",
       "        37.    ,  42.1875,  47.75  ,  53.6875])"
      ]
     },
     "execution_count": 4,
     "metadata": {},
     "output_type": "execute_result"
    }
   ],
   "execution_count": 4
  },
  {
   "metadata": {
    "ExecuteTime": {
     "end_time": "2024-09-08T12:00:54.720991Z",
     "start_time": "2024-09-08T12:00:54.595582Z"
    }
   },
   "cell_type": "code",
   "source": "plt.plot(xs, ys)",
   "id": "2795ecdb67091496",
   "outputs": [
    {
     "data": {
      "text/plain": [
       "[<matplotlib.lines.Line2D at 0x1e5861a0d50>]"
      ]
     },
     "execution_count": 5,
     "metadata": {},
     "output_type": "execute_result"
    },
    {
     "data": {
      "text/plain": [
       "<Figure size 640x480 with 1 Axes>"
      ],
      "image/png": "[encoded data removed]"
     },
     "metadata": {},
     "output_type": "display_data"
    }
   ],
   "execution_count": 5
  },
  {
   "metadata": {
    "ExecuteTime": {
     "end_time": "2024-09-08T12:00:54.745429Z",
     "start_time": "2024-09-08T12:00:54.741921Z"
    }
   },
   "cell_type": "code",
   "source": [
    "# compute the derivative of f by the definition of rate of change\n",
    "h = 0.000001\n",
    "x = 3.0\n",
    "slope = (f(x + h) - f(x)) / h # numerical approximation of the function slope at x\n",
    "slope"
   ],
   "id": "b75e4ec5286c15c4",
   "outputs": [
    {
     "data": {
      "text/plain": [
       "14.000003002223593"
      ]
     },
     "execution_count": 6,
     "metadata": {},
     "output_type": "execute_result"
    }
   ],
   "execution_count": 6
  },
  {
   "metadata": {
    "ExecuteTime": {
     "end_time": "2024-09-08T12:00:54.785221Z",
     "start_time": "2024-09-08T12:00:54.782825Z"
    }
   },
   "cell_type": "code",
   "source": [
    "# a more complex function\n",
    "a = 2.0\n",
    "b = -3.0\n",
    "c = 10.0\n",
    "d = a * b + c\n",
    "print(d)"
   ],
   "id": "8a214b12c79f2062",
   "outputs": [
    {
     "name": "stdout",
     "output_type": "stream",
     "text": [
      "4.0\n"
     ]
    }
   ],
   "execution_count": 7
  },
  {
   "metadata": {
    "ExecuteTime": {
     "end_time": "2024-09-08T12:00:54.817267Z",
     "start_time": "2024-09-08T12:00:54.814600Z"
    }
   },
   "cell_type": "code",
   "source": [
    "h = 0.0001\n",
    "\n",
    "d1 = a * b + c\n",
    "a += h\n",
    "d2 = a * b + c\n",
    "\n",
    "print(f'{d1}')\n",
    "print(f'{d2}')\n",
    "print(f'slope: {(d2 - d1) / h}') # it should just give you b"
   ],
   "id": "d9d9f09a6be5fe07",
   "outputs": [
    {
     "name": "stdout",
     "output_type": "stream",
     "text": [
      "4.0\n",
      "3.999699999999999\n",
      "slope: -3.000000000010772\n"
     ]
    }
   ],
   "execution_count": 8
  },
  {
   "metadata": {
    "ExecuteTime": {
     "end_time": "2024-09-08T12:00:54.848201Z",
     "start_time": "2024-09-08T12:00:54.845695Z"
    }
   },
   "cell_type": "code",
   "source": [
    "h = 0.0001\n",
    "\n",
    "d1 = a * b + c\n",
    "c += h\n",
    "d2 = a * b + c\n",
    "\n",
    "print(f'{d1}')\n",
    "print(f'{d2}')\n",
    "print(f'slope: {(d2 - d1) / h}') # it should just give you b"
   ],
   "id": "b21e59198cb3d6f4",
   "outputs": [
    {
     "name": "stdout",
     "output_type": "stream",
     "text": [
      "3.999699999999999\n",
      "3.9997999999999987\n",
      "slope: 0.9999999999976694\n"
     ]
    }
   ],
   "execution_count": 9
  },
  {
   "metadata": {},
   "cell_type": "markdown",
   "source": "## Let's Start to Build a Neural Network",
   "id": "880f4ffdaf0d18f1"
  },
  {
   "metadata": {
    "ExecuteTime": {
     "end_time": "2024-09-08T12:16:49.560121Z",
     "start_time": "2024-09-08T12:16:49.554720Z"
    }
   },
   "cell_type": "code",
   "source": [
    "class Value:\n",
    "    \n",
    "    def __init__(self, data, _children=(), _op='', label=''):\n",
    "        self._data = data\n",
    "        self._grad = 0.\n",
    "        self._prev = set(_children)\n",
    "        self._op = _op\n",
    "        self._label = label\n",
    "    \n",
    "    def __repr__(self):\n",
    "        # internal function to return the string representation of the object\n",
    "        return f'Value(data={self._data})'\n",
    "    \n",
    "    def __add__(self, other):\n",
    "        out = Value(self._data + other._data, (self, other), '+')\n",
    "        \n",
    "        return out\n",
    "\n",
    "    def __mul__(self, other):\n",
    "        out = Value(self._data * other._data, (self, other), '*')\n",
    "        \n",
    "        return out\n",
    "        \n",
    "    def tanh(self):\n",
    "        x = self._data\n",
    "        \n",
    "        t = (math.exp(2 * x) - 1) / (math.exp(2 * x) + 1)\n",
    "        \n",
    "        out = Value(t, (self,), 'tanh')\n",
    "        \n",
    "        return out"
   ],
   "id": "409bfe8fec1efc83",
   "outputs": [],
   "execution_count": 65
  },
  {
   "metadata": {
    "ExecuteTime": {
     "end_time": "2024-09-08T12:16:50.963646Z",
     "start_time": "2024-09-08T12:16:50.960651Z"
    }
   },
   "cell_type": "code",
   "source": [
    "a = Value(2.0, label='a')\n",
    "print(a)"
   ],
   "id": "bda5252adc529a10",
   "outputs": [
    {
     "name": "stdout",
     "output_type": "stream",
     "text": [
      "Value(data=2.0)\n"
     ]
    }
   ],
   "execution_count": 66
  },
  {
   "metadata": {
    "ExecuteTime": {
     "end_time": "2024-09-08T12:16:51.888344Z",
     "start_time": "2024-09-08T12:16:51.885098Z"
    }
   },
   "cell_type": "code",
   "source": "b = Value(-3.0, label='b')",
   "id": "6ee1eed3e1a4717b",
   "outputs": [],
   "execution_count": 67
  },
  {
   "metadata": {
    "ExecuteTime": {
     "end_time": "2024-09-08T12:16:53.781807Z",
     "start_time": "2024-09-08T12:16:53.779161Z"
    }
   },
   "cell_type": "code",
   "source": "e = a * b; e._label = 'e'",
   "id": "10eefabff1d8f7a6",
   "outputs": [],
   "execution_count": 68
  },
  {
   "metadata": {
    "ExecuteTime": {
     "end_time": "2024-09-08T12:16:54.644215Z",
     "start_time": "2024-09-08T12:16:54.641199Z"
    }
   },
   "cell_type": "code",
   "source": "c = Value(10.0, label='c')",
   "id": "1506af69f002ac77",
   "outputs": [],
   "execution_count": 69
  },
  {
   "metadata": {
    "ExecuteTime": {
     "end_time": "2024-09-08T12:16:55.560598Z",
     "start_time": "2024-09-08T12:16:55.557908Z"
    }
   },
   "cell_type": "code",
   "source": "print(a * b + c)",
   "id": "6825b4eb101e5a1c",
   "outputs": [
    {
     "name": "stdout",
     "output_type": "stream",
     "text": [
      "Value(data=4.0)\n"
     ]
    }
   ],
   "execution_count": 70
  },
  {
   "metadata": {
    "ExecuteTime": {
     "end_time": "2024-09-08T12:16:58.065898Z",
     "start_time": "2024-09-08T12:16:58.062842Z"
    }
   },
   "cell_type": "code",
   "source": "print((a.__mul__(b)).__add__(c))",
   "id": "811e60f5f8cc65d9",
   "outputs": [
    {
     "name": "stdout",
     "output_type": "stream",
     "text": [
      "Value(data=4.0)\n"
     ]
    }
   ],
   "execution_count": 71
  },
  {
   "metadata": {
    "ExecuteTime": {
     "end_time": "2024-09-08T12:16:58.976577Z",
     "start_time": "2024-09-08T12:16:58.974597Z"
    }
   },
   "cell_type": "code",
   "source": "d = e + c; d._label = 'd'",
   "id": "6b8da6781533dae9",
   "outputs": [],
   "execution_count": 72
  },
  {
   "metadata": {
    "ExecuteTime": {
     "end_time": "2024-09-08T12:16:59.778538Z",
     "start_time": "2024-09-08T12:16:59.774888Z"
    }
   },
   "cell_type": "code",
   "source": "d._prev",
   "id": "106b132da7d16303",
   "outputs": [
    {
     "data": {
      "text/plain": [
       "{Value(data=-6.0), Value(data=10.0)}"
      ]
     },
     "execution_count": 73,
     "metadata": {},
     "output_type": "execute_result"
    }
   ],
   "execution_count": 73
  },
  {
   "metadata": {
    "ExecuteTime": {
     "end_time": "2024-09-08T12:17:01.185953Z",
     "start_time": "2024-09-08T12:17:01.182022Z"
    }
   },
   "cell_type": "code",
   "source": "d._op",
   "id": "c1f807fa2fbc2db0",
   "outputs": [
    {
     "data": {
      "text/plain": [
       "'+'"
      ]
     },
     "execution_count": 74,
     "metadata": {},
     "output_type": "execute_result"
    }
   ],
   "execution_count": 74
  },
  {
   "metadata": {
    "ExecuteTime": {
     "end_time": "2024-09-08T12:17:02.053043Z",
     "start_time": "2024-09-08T12:17:02.047634Z"
    }
   },
   "cell_type": "code",
   "source": [
    "from graphviz import Digraph\n",
    "\n",
    "def trace(root):\n",
    "    # build a graph of all the nodes and edges starting from the root\n",
    "    nodes, edges = set(), set()\n",
    "    \n",
    "    def build(v):\n",
    "        if v not in nodes:\n",
    "            nodes.add(v)\n",
    "            for child in v._prev:\n",
    "                edges.add((child, v))\n",
    "                build(child)\n",
    "    build(root)\n",
    "    \n",
    "    return nodes, edges\n",
    "\n",
    "def draw_dot(root):\n",
    "    # render the graph in dot format\n",
    "    dot = Digraph(format('svg'),\n",
    "                  graph_attr={'rankdir': 'LR',\n",
    "                              'bgcolor': '#272822'}, # LR = left to right\n",
    "                  node_attr={'style': 'filled',\n",
    "                             'fillcolor': '#2e2e2e',\n",
    "                             'textcolor': 'white',\n",
    "                             'fontcolor': 'white',\n",
    "                             'fontname': 'monospace',\n",
    "                             'fontsize': '11',\n",
    "                             'color': 'white'},\n",
    "                  edge_attr={'color': 'white'})\n",
    "    \n",
    "    nodes, edges = trace(root)\n",
    "    \n",
    "    for node in nodes:\n",
    "        uid = str(id(node))\n",
    "        # for any value in the graph, create a <code>record</code> node (rectangular shape) for it\n",
    "        dot.node(name=uid, label=f'{ node._label} | data: {node._data: .4f} | grad: {node._grad: .4f} ', shape='record')\n",
    "        \n",
    "        if node._op:\n",
    "            # if the value is a result of some operations, create an op node for it\n",
    "            dot.node(name=uid + node._op, label=node._op)\n",
    "            # connect this _op node to the value node\n",
    "            dot.edge(uid + node._op, uid)\n",
    "    \n",
    "    for src, dst in edges:\n",
    "        # connect the source value node to the op node of the destination value node\n",
    "        dot.edge(str(id(src)), str(id(dst)) + dst._op)\n",
    "    \n",
    "    return dot"
   ],
   "id": "21be0e5d4b4bc7c1",
   "outputs": [],
   "execution_count": 75
  },
  {
   "metadata": {
    "ExecuteTime": {
     "end_time": "2024-09-08T12:17:05.111844Z",
     "start_time": "2024-09-08T12:17:05.079793Z"
    }
   },
   "cell_type": "code",
   "source": "draw_dot(d)",
   "id": "d8fdc1ff0ff3b352",
   "outputs": [
    {
     "data": {
      "image/svg+xml": "<?xml version=\"1.0\" encoding=\"UTF-8\" standalone=\"no\"?>\n<!DOCTYPE svg PUBLIC \"-//W3C//DTD SVG 1.1//EN\"\n \"http://www.w3.org/Graphics/SVG/1.1/DTD/svg11.dtd\">\n<!-- Generated by graphviz version 2.50.0 (0)\n -->\n<!-- Title: svg Pages: 1 -->\n<svg width=\"566pt\" height=\"188pt\"\n viewBox=\"0.00 0.00 566.00 188.00\" xmlns=\"http://www.w3.org/2000/svg\" xmlns:xlink=\"http://www.w3.org/1999/xlink\">\n<g id=\"graph0\" class=\"graph\" transform=\"scale(1 1) rotate(0) translate(4 184)\">\n<title>svg</title>\n<polygon fill=\"#272822\" stroke=\"transparent\" points=\"-4,4 -4,-184 562,-184 562,4 -4,4\"/>\n<!-- 2085307057680 -->\n<g id=\"node1\" class=\"node\">\n<title>2085307057680</title>\n<polygon fill=\"#2e2e2e\" stroke=\"white\" points=\"3,-119.5 3,-179.5 101,-179.5 101,-119.5 3,-119.5\"/>\n<text text-anchor=\"middle\" x=\"52\" y=\"-166.7\" font-family=\"monospace\" font-size=\"11.00\" fill=\"white\">a</text>\n<polyline fill=\"none\" stroke=\"white\" points=\"3,-159.5 101,-159.5 \"/>\n<text text-anchor=\"middle\" x=\"52\" y=\"-146.7\" font-family=\"monospace\" font-size=\"11.00\" fill=\"white\">data: 2.0000</text>\n<polyline fill=\"none\" stroke=\"white\" points=\"3,-139.5 101,-139.5 \"/>\n<text text-anchor=\"middle\" x=\"52\" y=\"-126.7\" font-family=\"monospace\" font-size=\"11.00\" fill=\"white\">grad: 0.0000</text>\n</g>\n<!-- 2085334481936* -->\n<g id=\"node3\" class=\"node\">\n<title>2085334481936*</title>\n<ellipse fill=\"#2e2e2e\" stroke=\"white\" cx=\"167\" cy=\"-109.5\" rx=\"27\" ry=\"18\"/>\n<text text-anchor=\"middle\" x=\"167\" y=\"-106.7\" font-family=\"monospace\" font-size=\"11.00\" fill=\"white\">*</text>\n</g>\n<!-- 2085307057680&#45;&gt;2085334481936* -->\n<g id=\"edge6\" class=\"edge\">\n<title>2085307057680&#45;&gt;2085334481936*</title>\n<path fill=\"none\" stroke=\"white\" d=\"M101.25,-132.42C112.05,-128.6 123.26,-124.63 133.25,-121.09\"/>\n<polygon fill=\"white\" stroke=\"white\" points=\"134.52,-124.35 142.78,-117.72 132.19,-117.76 134.52,-124.35\"/>\n</g>\n<!-- 2085334481936 -->\n<g id=\"node2\" class=\"node\">\n<title>2085334481936</title>\n<polygon fill=\"#2e2e2e\" stroke=\"white\" points=\"230,-79.5 230,-139.5 334,-139.5 334,-79.5 230,-79.5\"/>\n<text text-anchor=\"middle\" x=\"282\" y=\"-126.7\" font-family=\"monospace\" font-size=\"11.00\" fill=\"white\">e</text>\n<polyline fill=\"none\" stroke=\"white\" points=\"230,-119.5 334,-119.5 \"/>\n<text text-anchor=\"middle\" x=\"282\" y=\"-106.7\" font-family=\"monospace\" font-size=\"11.00\" fill=\"white\">data: &#45;6.0000</text>\n<polyline fill=\"none\" stroke=\"white\" points=\"230,-99.5 334,-99.5 \"/>\n<text text-anchor=\"middle\" x=\"282\" y=\"-86.7\" font-family=\"monospace\" font-size=\"11.00\" fill=\"white\">grad: 0.0000</text>\n</g>\n<!-- 2085334812752+ -->\n<g id=\"node5\" class=\"node\">\n<title>2085334812752+</title>\n<ellipse fill=\"#2e2e2e\" stroke=\"white\" cx=\"397\" cy=\"-69.5\" rx=\"27\" ry=\"18\"/>\n<text text-anchor=\"middle\" x=\"397\" y=\"-66.7\" font-family=\"monospace\" font-size=\"11.00\" fill=\"white\">+</text>\n</g>\n<!-- 2085334481936&#45;&gt;2085334812752+ -->\n<g id=\"edge5\" class=\"edge\">\n<title>2085334481936&#45;&gt;2085334812752+</title>\n<path fill=\"none\" stroke=\"white\" d=\"M334.21,-91.37C344.16,-87.85 354.33,-84.25 363.47,-81.01\"/>\n<polygon fill=\"white\" stroke=\"white\" points=\"364.67,-84.3 372.93,-77.67 362.33,-77.7 364.67,-84.3\"/>\n</g>\n<!-- 2085334481936*&#45;&gt;2085334481936 -->\n<g id=\"edge1\" class=\"edge\">\n<title>2085334481936*&#45;&gt;2085334481936</title>\n<path fill=\"none\" stroke=\"white\" d=\"M194.21,-109.5C201.88,-109.5 210.62,-109.5 219.51,-109.5\"/>\n<polygon fill=\"white\" stroke=\"white\" points=\"219.58,-113 229.58,-109.5 219.58,-106 219.58,-113\"/>\n</g>\n<!-- 2085334812752 -->\n<g id=\"node4\" class=\"node\">\n<title>2085334812752</title>\n<polygon fill=\"#2e2e2e\" stroke=\"white\" points=\"460,-39.5 460,-99.5 558,-99.5 558,-39.5 460,-39.5\"/>\n<text text-anchor=\"middle\" x=\"509\" y=\"-86.7\" font-family=\"monospace\" font-size=\"11.00\" fill=\"white\">d</text>\n<polyline fill=\"none\" stroke=\"white\" points=\"460,-79.5 558,-79.5 \"/>\n<text text-anchor=\"middle\" x=\"509\" y=\"-66.7\" font-family=\"monospace\" font-size=\"11.00\" fill=\"white\">data: 4.0000</text>\n<polyline fill=\"none\" stroke=\"white\" points=\"460,-59.5 558,-59.5 \"/>\n<text text-anchor=\"middle\" x=\"509\" y=\"-46.7\" font-family=\"monospace\" font-size=\"11.00\" fill=\"white\">grad: 0.0000</text>\n</g>\n<!-- 2085334812752+&#45;&gt;2085334812752 -->\n<g id=\"edge2\" class=\"edge\">\n<title>2085334812752+&#45;&gt;2085334812752</title>\n<path fill=\"none\" stroke=\"white\" d=\"M424.07,-69.5C431.82,-69.5 440.65,-69.5 449.6,-69.5\"/>\n<polygon fill=\"white\" stroke=\"white\" points=\"449.7,-73 459.7,-69.5 449.7,-66 449.7,-73\"/>\n</g>\n<!-- 2085308670736 -->\n<g id=\"node6\" class=\"node\">\n<title>2085308670736</title>\n<polygon fill=\"#2e2e2e\" stroke=\"white\" points=\"0,-40.5 0,-100.5 104,-100.5 104,-40.5 0,-40.5\"/>\n<text text-anchor=\"middle\" x=\"52\" y=\"-87.7\" font-family=\"monospace\" font-size=\"11.00\" fill=\"white\">b</text>\n<polyline fill=\"none\" stroke=\"white\" points=\"0,-80.5 104,-80.5 \"/>\n<text text-anchor=\"middle\" x=\"52\" y=\"-67.7\" font-family=\"monospace\" font-size=\"11.00\" fill=\"white\">data: &#45;3.0000</text>\n<polyline fill=\"none\" stroke=\"white\" points=\"0,-60.5 104,-60.5 \"/>\n<text text-anchor=\"middle\" x=\"52\" y=\"-47.7\" font-family=\"monospace\" font-size=\"11.00\" fill=\"white\">grad: 0.0000</text>\n</g>\n<!-- 2085308670736&#45;&gt;2085334481936* -->\n<g id=\"edge3\" class=\"edge\">\n<title>2085308670736&#45;&gt;2085334481936*</title>\n<path fill=\"none\" stroke=\"white\" d=\"M104.21,-88.17C113.97,-91.54 123.94,-94.98 132.94,-98.09\"/>\n<polygon fill=\"white\" stroke=\"white\" points=\"132.04,-101.48 142.64,-101.44 134.33,-94.87 132.04,-101.48\"/>\n</g>\n<!-- 2085309599568 -->\n<g id=\"node7\" class=\"node\">\n<title>2085309599568</title>\n<polygon fill=\"#2e2e2e\" stroke=\"white\" points=\"230,-0.5 230,-60.5 334,-60.5 334,-0.5 230,-0.5\"/>\n<text text-anchor=\"middle\" x=\"282\" y=\"-47.7\" font-family=\"monospace\" font-size=\"11.00\" fill=\"white\">c</text>\n<polyline fill=\"none\" stroke=\"white\" points=\"230,-40.5 334,-40.5 \"/>\n<text text-anchor=\"middle\" x=\"282\" y=\"-27.7\" font-family=\"monospace\" font-size=\"11.00\" fill=\"white\">data: 10.0000</text>\n<polyline fill=\"none\" stroke=\"white\" points=\"230,-20.5 334,-20.5 \"/>\n<text text-anchor=\"middle\" x=\"282\" y=\"-7.7\" font-family=\"monospace\" font-size=\"11.00\" fill=\"white\">grad: 0.0000</text>\n</g>\n<!-- 2085309599568&#45;&gt;2085334812752+ -->\n<g id=\"edge4\" class=\"edge\">\n<title>2085309599568&#45;&gt;2085334812752+</title>\n<path fill=\"none\" stroke=\"white\" d=\"M334.21,-48.17C343.97,-51.54 353.94,-54.98 362.94,-58.09\"/>\n<polygon fill=\"white\" stroke=\"white\" points=\"362.04,-61.48 372.64,-61.44 364.33,-54.87 362.04,-61.48\"/>\n</g>\n</g>\n</svg>\n",
      "text/plain": [
       "<graphviz.graphs.Digraph at 0x1e586033c90>"
      ]
     },
     "execution_count": 76,
     "metadata": {},
     "output_type": "execute_result"
    }
   ],
   "execution_count": 76
  },
  {
   "metadata": {
    "ExecuteTime": {
     "end_time": "2024-09-08T12:17:08.891856Z",
     "start_time": "2024-09-08T12:17:08.888701Z"
    }
   },
   "cell_type": "code",
   "source": [
    "f = Value(-2.0, label='f')\n",
    "L = d * f; L._label = 'L'\n",
    "L"
   ],
   "id": "1333d28e3f0917c9",
   "outputs": [
    {
     "data": {
      "text/plain": [
       "Value(data=-8.0)"
      ]
     },
     "execution_count": 77,
     "metadata": {},
     "output_type": "execute_result"
    }
   ],
   "execution_count": 77
  },
  {
   "metadata": {
    "ExecuteTime": {
     "end_time": "2024-09-08T12:17:11.439769Z",
     "start_time": "2024-09-08T12:17:11.409177Z"
    }
   },
   "cell_type": "code",
   "source": "draw_dot(L)",
   "id": "4ed78de0ff4097ab",
   "outputs": [
    {
     "data": {
      "image/svg+xml": "<?xml version=\"1.0\" encoding=\"UTF-8\" standalone=\"no\"?>\n<!DOCTYPE svg PUBLIC \"-//W3C//DTD SVG 1.1//EN\"\n \"http://www.w3.org/Graphics/SVG/1.1/DTD/svg11.dtd\">\n<!-- Generated by graphviz version 2.50.0 (0)\n -->\n<!-- Title: svg Pages: 1 -->\n<svg width=\"802pt\" height=\"226pt\"\n viewBox=\"0.00 0.00 802.00 226.00\" xmlns=\"http://www.w3.org/2000/svg\" xmlns:xlink=\"http://www.w3.org/1999/xlink\">\n<g id=\"graph0\" class=\"graph\" transform=\"scale(1 1) rotate(0) translate(4 222)\">\n<title>svg</title>\n<polygon fill=\"#272822\" stroke=\"transparent\" points=\"-4,4 -4,-222 798,-222 798,4 -4,4\"/>\n<!-- 2085334481936 -->\n<g id=\"node1\" class=\"node\">\n<title>2085334481936</title>\n<polygon fill=\"#2e2e2e\" stroke=\"white\" points=\"230,-39.5 230,-99.5 334,-99.5 334,-39.5 230,-39.5\"/>\n<text text-anchor=\"middle\" x=\"282\" y=\"-86.7\" font-family=\"monospace\" font-size=\"11.00\" fill=\"white\">e</text>\n<polyline fill=\"none\" stroke=\"white\" points=\"230,-79.5 334,-79.5 \"/>\n<text text-anchor=\"middle\" x=\"282\" y=\"-66.7\" font-family=\"monospace\" font-size=\"11.00\" fill=\"white\">data: &#45;6.0000</text>\n<polyline fill=\"none\" stroke=\"white\" points=\"230,-59.5 334,-59.5 \"/>\n<text text-anchor=\"middle\" x=\"282\" y=\"-46.7\" font-family=\"monospace\" font-size=\"11.00\" fill=\"white\">grad: 0.0000</text>\n</g>\n<!-- 2085334812752+ -->\n<g id=\"node5\" class=\"node\">\n<title>2085334812752+</title>\n<ellipse fill=\"#2e2e2e\" stroke=\"white\" cx=\"397\" cy=\"-108.5\" rx=\"27\" ry=\"18\"/>\n<text text-anchor=\"middle\" x=\"397\" y=\"-105.7\" font-family=\"monospace\" font-size=\"11.00\" fill=\"white\">+</text>\n</g>\n<!-- 2085334481936&#45;&gt;2085334812752+ -->\n<g id=\"edge4\" class=\"edge\">\n<title>2085334481936&#45;&gt;2085334812752+</title>\n<path fill=\"none\" stroke=\"white\" d=\"M334.21,-87.17C343.97,-90.54 353.94,-93.98 362.94,-97.09\"/>\n<polygon fill=\"white\" stroke=\"white\" points=\"362.04,-100.48 372.64,-100.44 364.33,-93.87 362.04,-100.48\"/>\n</g>\n<!-- 2085334481936* -->\n<g id=\"node2\" class=\"node\">\n<title>2085334481936*</title>\n<ellipse fill=\"#2e2e2e\" stroke=\"white\" cx=\"167\" cy=\"-69.5\" rx=\"27\" ry=\"18\"/>\n<text text-anchor=\"middle\" x=\"167\" y=\"-66.7\" font-family=\"monospace\" font-size=\"11.00\" fill=\"white\">*</text>\n</g>\n<!-- 2085334481936*&#45;&gt;2085334481936 -->\n<g id=\"edge1\" class=\"edge\">\n<title>2085334481936*&#45;&gt;2085334481936</title>\n<path fill=\"none\" stroke=\"white\" d=\"M194.21,-69.5C201.88,-69.5 210.62,-69.5 219.51,-69.5\"/>\n<polygon fill=\"white\" stroke=\"white\" points=\"219.58,-73 229.58,-69.5 219.58,-66 219.58,-73\"/>\n</g>\n<!-- 2085307057680 -->\n<g id=\"node3\" class=\"node\">\n<title>2085307057680</title>\n<polygon fill=\"#2e2e2e\" stroke=\"white\" points=\"3,-79.5 3,-139.5 101,-139.5 101,-79.5 3,-79.5\"/>\n<text text-anchor=\"middle\" x=\"52\" y=\"-126.7\" font-family=\"monospace\" font-size=\"11.00\" fill=\"white\">a</text>\n<polyline fill=\"none\" stroke=\"white\" points=\"3,-119.5 101,-119.5 \"/>\n<text text-anchor=\"middle\" x=\"52\" y=\"-106.7\" font-family=\"monospace\" font-size=\"11.00\" fill=\"white\">data: 2.0000</text>\n<polyline fill=\"none\" stroke=\"white\" points=\"3,-99.5 101,-99.5 \"/>\n<text text-anchor=\"middle\" x=\"52\" y=\"-86.7\" font-family=\"monospace\" font-size=\"11.00\" fill=\"white\">grad: 0.0000</text>\n</g>\n<!-- 2085307057680&#45;&gt;2085334481936* -->\n<g id=\"edge9\" class=\"edge\">\n<title>2085307057680&#45;&gt;2085334481936*</title>\n<path fill=\"none\" stroke=\"white\" d=\"M101.25,-92.42C112.05,-88.6 123.26,-84.63 133.25,-81.09\"/>\n<polygon fill=\"white\" stroke=\"white\" points=\"134.52,-84.35 142.78,-77.72 132.19,-77.76 134.52,-84.35\"/>\n</g>\n<!-- 2085334812752 -->\n<g id=\"node4\" class=\"node\">\n<title>2085334812752</title>\n<polygon fill=\"#2e2e2e\" stroke=\"white\" points=\"463,-78.5 463,-138.5 561,-138.5 561,-78.5 463,-78.5\"/>\n<text text-anchor=\"middle\" x=\"512\" y=\"-125.7\" font-family=\"monospace\" font-size=\"11.00\" fill=\"white\">d</text>\n<polyline fill=\"none\" stroke=\"white\" points=\"463,-118.5 561,-118.5 \"/>\n<text text-anchor=\"middle\" x=\"512\" y=\"-105.7\" font-family=\"monospace\" font-size=\"11.00\" fill=\"white\">data: 4.0000</text>\n<polyline fill=\"none\" stroke=\"white\" points=\"463,-98.5 561,-98.5 \"/>\n<text text-anchor=\"middle\" x=\"512\" y=\"-85.7\" font-family=\"monospace\" font-size=\"11.00\" fill=\"white\">grad: 0.0000</text>\n</g>\n<!-- 2085310388496* -->\n<g id=\"node8\" class=\"node\">\n<title>2085310388496*</title>\n<ellipse fill=\"#2e2e2e\" stroke=\"white\" cx=\"627\" cy=\"-147.5\" rx=\"27\" ry=\"18\"/>\n<text text-anchor=\"middle\" x=\"627\" y=\"-144.7\" font-family=\"monospace\" font-size=\"11.00\" fill=\"white\">*</text>\n</g>\n<!-- 2085334812752&#45;&gt;2085310388496* -->\n<g id=\"edge6\" class=\"edge\">\n<title>2085334812752&#45;&gt;2085310388496*</title>\n<path fill=\"none\" stroke=\"white\" d=\"M561.25,-125.15C572.05,-128.88 583.26,-132.75 593.25,-136.2\"/>\n<polygon fill=\"white\" stroke=\"white\" points=\"592.19,-139.53 602.78,-139.49 594.47,-132.92 592.19,-139.53\"/>\n</g>\n<!-- 2085334812752+&#45;&gt;2085334812752 -->\n<g id=\"edge2\" class=\"edge\">\n<title>2085334812752+&#45;&gt;2085334812752</title>\n<path fill=\"none\" stroke=\"white\" d=\"M424.21,-108.5C432.72,-108.5 442.55,-108.5 452.45,-108.5\"/>\n<polygon fill=\"white\" stroke=\"white\" points=\"452.75,-112 462.75,-108.5 452.75,-105 452.75,-112\"/>\n</g>\n<!-- 2085310143632 -->\n<g id=\"node6\" class=\"node\">\n<title>2085310143632</title>\n<polygon fill=\"#2e2e2e\" stroke=\"white\" points=\"460,-157.5 460,-217.5 564,-217.5 564,-157.5 460,-157.5\"/>\n<text text-anchor=\"middle\" x=\"512\" y=\"-204.7\" font-family=\"monospace\" font-size=\"11.00\" fill=\"white\">f</text>\n<polyline fill=\"none\" stroke=\"white\" points=\"460,-197.5 564,-197.5 \"/>\n<text text-anchor=\"middle\" x=\"512\" y=\"-184.7\" font-family=\"monospace\" font-size=\"11.00\" fill=\"white\">data: &#45;2.0000</text>\n<polyline fill=\"none\" stroke=\"white\" points=\"460,-177.5 564,-177.5 \"/>\n<text text-anchor=\"middle\" x=\"512\" y=\"-164.7\" font-family=\"monospace\" font-size=\"11.00\" fill=\"white\">grad: 0.0000</text>\n</g>\n<!-- 2085310143632&#45;&gt;2085310388496* -->\n<g id=\"edge8\" class=\"edge\">\n<title>2085310143632&#45;&gt;2085310388496*</title>\n<path fill=\"none\" stroke=\"white\" d=\"M564.21,-169.37C574.16,-165.85 584.33,-162.25 593.47,-159.01\"/>\n<polygon fill=\"white\" stroke=\"white\" points=\"594.67,-162.3 602.93,-155.67 592.33,-155.7 594.67,-162.3\"/>\n</g>\n<!-- 2085310388496 -->\n<g id=\"node7\" class=\"node\">\n<title>2085310388496</title>\n<polygon fill=\"#2e2e2e\" stroke=\"white\" points=\"690,-117.5 690,-177.5 794,-177.5 794,-117.5 690,-117.5\"/>\n<text text-anchor=\"middle\" x=\"742\" y=\"-164.7\" font-family=\"monospace\" font-size=\"11.00\" fill=\"white\">L</text>\n<polyline fill=\"none\" stroke=\"white\" points=\"690,-157.5 794,-157.5 \"/>\n<text text-anchor=\"middle\" x=\"742\" y=\"-144.7\" font-family=\"monospace\" font-size=\"11.00\" fill=\"white\">data: &#45;8.0000</text>\n<polyline fill=\"none\" stroke=\"white\" points=\"690,-137.5 794,-137.5 \"/>\n<text text-anchor=\"middle\" x=\"742\" y=\"-124.7\" font-family=\"monospace\" font-size=\"11.00\" fill=\"white\">grad: 0.0000</text>\n</g>\n<!-- 2085310388496*&#45;&gt;2085310388496 -->\n<g id=\"edge3\" class=\"edge\">\n<title>2085310388496*&#45;&gt;2085310388496</title>\n<path fill=\"none\" stroke=\"white\" d=\"M654.21,-147.5C661.88,-147.5 670.62,-147.5 679.51,-147.5\"/>\n<polygon fill=\"white\" stroke=\"white\" points=\"679.58,-151 689.58,-147.5 679.58,-144 679.58,-151\"/>\n</g>\n<!-- 2085308670736 -->\n<g id=\"node9\" class=\"node\">\n<title>2085308670736</title>\n<polygon fill=\"#2e2e2e\" stroke=\"white\" points=\"0,-0.5 0,-60.5 104,-60.5 104,-0.5 0,-0.5\"/>\n<text text-anchor=\"middle\" x=\"52\" y=\"-47.7\" font-family=\"monospace\" font-size=\"11.00\" fill=\"white\">b</text>\n<polyline fill=\"none\" stroke=\"white\" points=\"0,-40.5 104,-40.5 \"/>\n<text text-anchor=\"middle\" x=\"52\" y=\"-27.7\" font-family=\"monospace\" font-size=\"11.00\" fill=\"white\">data: &#45;3.0000</text>\n<polyline fill=\"none\" stroke=\"white\" points=\"0,-20.5 104,-20.5 \"/>\n<text text-anchor=\"middle\" x=\"52\" y=\"-7.7\" font-family=\"monospace\" font-size=\"11.00\" fill=\"white\">grad: 0.0000</text>\n</g>\n<!-- 2085308670736&#45;&gt;2085334481936* -->\n<g id=\"edge5\" class=\"edge\">\n<title>2085308670736&#45;&gt;2085334481936*</title>\n<path fill=\"none\" stroke=\"white\" d=\"M104.21,-48.17C113.97,-51.54 123.94,-54.98 132.94,-58.09\"/>\n<polygon fill=\"white\" stroke=\"white\" points=\"132.04,-61.48 142.64,-61.44 134.33,-54.87 132.04,-61.48\"/>\n</g>\n<!-- 2085309599568 -->\n<g id=\"node10\" class=\"node\">\n<title>2085309599568</title>\n<polygon fill=\"#2e2e2e\" stroke=\"white\" points=\"230,-118.5 230,-178.5 334,-178.5 334,-118.5 230,-118.5\"/>\n<text text-anchor=\"middle\" x=\"282\" y=\"-165.7\" font-family=\"monospace\" font-size=\"11.00\" fill=\"white\">c</text>\n<polyline fill=\"none\" stroke=\"white\" points=\"230,-158.5 334,-158.5 \"/>\n<text text-anchor=\"middle\" x=\"282\" y=\"-145.7\" font-family=\"monospace\" font-size=\"11.00\" fill=\"white\">data: 10.0000</text>\n<polyline fill=\"none\" stroke=\"white\" points=\"230,-138.5 334,-138.5 \"/>\n<text text-anchor=\"middle\" x=\"282\" y=\"-125.7\" font-family=\"monospace\" font-size=\"11.00\" fill=\"white\">grad: 0.0000</text>\n</g>\n<!-- 2085309599568&#45;&gt;2085334812752+ -->\n<g id=\"edge7\" class=\"edge\">\n<title>2085309599568&#45;&gt;2085334812752+</title>\n<path fill=\"none\" stroke=\"white\" d=\"M334.21,-130.37C344.16,-126.85 354.33,-123.25 363.47,-120.01\"/>\n<polygon fill=\"white\" stroke=\"white\" points=\"364.67,-123.3 372.93,-116.67 362.33,-116.7 364.67,-123.3\"/>\n</g>\n</g>\n</svg>\n",
      "text/plain": [
       "<graphviz.graphs.Digraph at 0x1e5862f35d0>"
      ]
     },
     "execution_count": 78,
     "metadata": {},
     "output_type": "execute_result"
    }
   ],
   "execution_count": 78
  },
  {
   "metadata": {},
   "cell_type": "markdown",
   "source": "## Backpropagation",
   "id": "f28486810ce637c1"
  },
  {
   "metadata": {
    "ExecuteTime": {
     "end_time": "2024-09-08T12:17:13.655979Z",
     "start_time": "2024-09-08T12:17:13.653381Z"
    }
   },
   "cell_type": "code",
   "source": "L._grad = 1.0",
   "id": "565141c7bfe5a6c2",
   "outputs": [],
   "execution_count": 79
  },
  {
   "metadata": {
    "ExecuteTime": {
     "end_time": "2024-09-08T12:17:14.473967Z",
     "start_time": "2024-09-08T12:17:14.443265Z"
    }
   },
   "cell_type": "code",
   "source": "draw_dot(L)",
   "id": "f84d18d7bc35b922",
   "outputs": [
    {
     "data": {
      "image/svg+xml": "<?xml version=\"1.0\" encoding=\"UTF-8\" standalone=\"no\"?>\n<!DOCTYPE svg PUBLIC \"-//W3C//DTD SVG 1.1//EN\"\n \"http://www.w3.org/Graphics/SVG/1.1/DTD/svg11.dtd\">\n<!-- Generated by graphviz version 2.50.0 (0)\n -->\n<!-- Title: svg Pages: 1 -->\n<svg width=\"802pt\" height=\"226pt\"\n viewBox=\"0.00 0.00 802.00 226.00\" xmlns=\"http://www.w3.org/2000/svg\" xmlns:xlink=\"http://www.w3.org/1999/xlink\">\n<g id=\"graph0\" class=\"graph\" transform=\"scale(1 1) rotate(0) translate(4 222)\">\n<title>svg</title>\n<polygon fill=\"#272822\" stroke=\"transparent\" points=\"-4,4 -4,-222 798,-222 798,4 -4,4\"/>\n<!-- 2085334481936 -->\n<g id=\"node1\" class=\"node\">\n<title>2085334481936</title>\n<polygon fill=\"#2e2e2e\" stroke=\"white\" points=\"230,-39.5 230,-99.5 334,-99.5 334,-39.5 230,-39.5\"/>\n<text text-anchor=\"middle\" x=\"282\" y=\"-86.7\" font-family=\"monospace\" font-size=\"11.00\" fill=\"white\">e</text>\n<polyline fill=\"none\" stroke=\"white\" points=\"230,-79.5 334,-79.5 \"/>\n<text text-anchor=\"middle\" x=\"282\" y=\"-66.7\" font-family=\"monospace\" font-size=\"11.00\" fill=\"white\">data: &#45;6.0000</text>\n<polyline fill=\"none\" stroke=\"white\" points=\"230,-59.5 334,-59.5 \"/>\n<text text-anchor=\"middle\" x=\"282\" y=\"-46.7\" font-family=\"monospace\" font-size=\"11.00\" fill=\"white\">grad: 0.0000</text>\n</g>\n<!-- 2085334812752+ -->\n<g id=\"node5\" class=\"node\">\n<title>2085334812752+</title>\n<ellipse fill=\"#2e2e2e\" stroke=\"white\" cx=\"397\" cy=\"-108.5\" rx=\"27\" ry=\"18\"/>\n<text text-anchor=\"middle\" x=\"397\" y=\"-105.7\" font-family=\"monospace\" font-size=\"11.00\" fill=\"white\">+</text>\n</g>\n<!-- 2085334481936&#45;&gt;2085334812752+ -->\n<g id=\"edge4\" class=\"edge\">\n<title>2085334481936&#45;&gt;2085334812752+</title>\n<path fill=\"none\" stroke=\"white\" d=\"M334.21,-87.17C343.97,-90.54 353.94,-93.98 362.94,-97.09\"/>\n<polygon fill=\"white\" stroke=\"white\" points=\"362.04,-100.48 372.64,-100.44 364.33,-93.87 362.04,-100.48\"/>\n</g>\n<!-- 2085334481936* -->\n<g id=\"node2\" class=\"node\">\n<title>2085334481936*</title>\n<ellipse fill=\"#2e2e2e\" stroke=\"white\" cx=\"167\" cy=\"-69.5\" rx=\"27\" ry=\"18\"/>\n<text text-anchor=\"middle\" x=\"167\" y=\"-66.7\" font-family=\"monospace\" font-size=\"11.00\" fill=\"white\">*</text>\n</g>\n<!-- 2085334481936*&#45;&gt;2085334481936 -->\n<g id=\"edge1\" class=\"edge\">\n<title>2085334481936*&#45;&gt;2085334481936</title>\n<path fill=\"none\" stroke=\"white\" d=\"M194.21,-69.5C201.88,-69.5 210.62,-69.5 219.51,-69.5\"/>\n<polygon fill=\"white\" stroke=\"white\" points=\"219.58,-73 229.58,-69.5 219.58,-66 219.58,-73\"/>\n</g>\n<!-- 2085307057680 -->\n<g id=\"node3\" class=\"node\">\n<title>2085307057680</title>\n<polygon fill=\"#2e2e2e\" stroke=\"white\" points=\"3,-79.5 3,-139.5 101,-139.5 101,-79.5 3,-79.5\"/>\n<text text-anchor=\"middle\" x=\"52\" y=\"-126.7\" font-family=\"monospace\" font-size=\"11.00\" fill=\"white\">a</text>\n<polyline fill=\"none\" stroke=\"white\" points=\"3,-119.5 101,-119.5 \"/>\n<text text-anchor=\"middle\" x=\"52\" y=\"-106.7\" font-family=\"monospace\" font-size=\"11.00\" fill=\"white\">data: 2.0000</text>\n<polyline fill=\"none\" stroke=\"white\" points=\"3,-99.5 101,-99.5 \"/>\n<text text-anchor=\"middle\" x=\"52\" y=\"-86.7\" font-family=\"monospace\" font-size=\"11.00\" fill=\"white\">grad: 0.0000</text>\n</g>\n<!-- 2085307057680&#45;&gt;2085334481936* -->\n<g id=\"edge9\" class=\"edge\">\n<title>2085307057680&#45;&gt;2085334481936*</title>\n<path fill=\"none\" stroke=\"white\" d=\"M101.25,-92.42C112.05,-88.6 123.26,-84.63 133.25,-81.09\"/>\n<polygon fill=\"white\" stroke=\"white\" points=\"134.52,-84.35 142.78,-77.72 132.19,-77.76 134.52,-84.35\"/>\n</g>\n<!-- 2085334812752 -->\n<g id=\"node4\" class=\"node\">\n<title>2085334812752</title>\n<polygon fill=\"#2e2e2e\" stroke=\"white\" points=\"463,-78.5 463,-138.5 561,-138.5 561,-78.5 463,-78.5\"/>\n<text text-anchor=\"middle\" x=\"512\" y=\"-125.7\" font-family=\"monospace\" font-size=\"11.00\" fill=\"white\">d</text>\n<polyline fill=\"none\" stroke=\"white\" points=\"463,-118.5 561,-118.5 \"/>\n<text text-anchor=\"middle\" x=\"512\" y=\"-105.7\" font-family=\"monospace\" font-size=\"11.00\" fill=\"white\">data: 4.0000</text>\n<polyline fill=\"none\" stroke=\"white\" points=\"463,-98.5 561,-98.5 \"/>\n<text text-anchor=\"middle\" x=\"512\" y=\"-85.7\" font-family=\"monospace\" font-size=\"11.00\" fill=\"white\">grad: 0.0000</text>\n</g>\n<!-- 2085310388496* -->\n<g id=\"node8\" class=\"node\">\n<title>2085310388496*</title>\n<ellipse fill=\"#2e2e2e\" stroke=\"white\" cx=\"627\" cy=\"-147.5\" rx=\"27\" ry=\"18\"/>\n<text text-anchor=\"middle\" x=\"627\" y=\"-144.7\" font-family=\"monospace\" font-size=\"11.00\" fill=\"white\">*</text>\n</g>\n<!-- 2085334812752&#45;&gt;2085310388496* -->\n<g id=\"edge6\" class=\"edge\">\n<title>2085334812752&#45;&gt;2085310388496*</title>\n<path fill=\"none\" stroke=\"white\" d=\"M561.25,-125.15C572.05,-128.88 583.26,-132.75 593.25,-136.2\"/>\n<polygon fill=\"white\" stroke=\"white\" points=\"592.19,-139.53 602.78,-139.49 594.47,-132.92 592.19,-139.53\"/>\n</g>\n<!-- 2085334812752+&#45;&gt;2085334812752 -->\n<g id=\"edge2\" class=\"edge\">\n<title>2085334812752+&#45;&gt;2085334812752</title>\n<path fill=\"none\" stroke=\"white\" d=\"M424.21,-108.5C432.72,-108.5 442.55,-108.5 452.45,-108.5\"/>\n<polygon fill=\"white\" stroke=\"white\" points=\"452.75,-112 462.75,-108.5 452.75,-105 452.75,-112\"/>\n</g>\n<!-- 2085310143632 -->\n<g id=\"node6\" class=\"node\">\n<title>2085310143632</title>\n<polygon fill=\"#2e2e2e\" stroke=\"white\" points=\"460,-157.5 460,-217.5 564,-217.5 564,-157.5 460,-157.5\"/>\n<text text-anchor=\"middle\" x=\"512\" y=\"-204.7\" font-family=\"monospace\" font-size=\"11.00\" fill=\"white\">f</text>\n<polyline fill=\"none\" stroke=\"white\" points=\"460,-197.5 564,-197.5 \"/>\n<text text-anchor=\"middle\" x=\"512\" y=\"-184.7\" font-family=\"monospace\" font-size=\"11.00\" fill=\"white\">data: &#45;2.0000</text>\n<polyline fill=\"none\" stroke=\"white\" points=\"460,-177.5 564,-177.5 \"/>\n<text text-anchor=\"middle\" x=\"512\" y=\"-164.7\" font-family=\"monospace\" font-size=\"11.00\" fill=\"white\">grad: 0.0000</text>\n</g>\n<!-- 2085310143632&#45;&gt;2085310388496* -->\n<g id=\"edge8\" class=\"edge\">\n<title>2085310143632&#45;&gt;2085310388496*</title>\n<path fill=\"none\" stroke=\"white\" d=\"M564.21,-169.37C574.16,-165.85 584.33,-162.25 593.47,-159.01\"/>\n<polygon fill=\"white\" stroke=\"white\" points=\"594.67,-162.3 602.93,-155.67 592.33,-155.7 594.67,-162.3\"/>\n</g>\n<!-- 2085310388496 -->\n<g id=\"node7\" class=\"node\">\n<title>2085310388496</title>\n<polygon fill=\"#2e2e2e\" stroke=\"white\" points=\"690,-117.5 690,-177.5 794,-177.5 794,-117.5 690,-117.5\"/>\n<text text-anchor=\"middle\" x=\"742\" y=\"-164.7\" font-family=\"monospace\" font-size=\"11.00\" fill=\"white\">L</text>\n<polyline fill=\"none\" stroke=\"white\" points=\"690,-157.5 794,-157.5 \"/>\n<text text-anchor=\"middle\" x=\"742\" y=\"-144.7\" font-family=\"monospace\" font-size=\"11.00\" fill=\"white\">data: &#45;8.0000</text>\n<polyline fill=\"none\" stroke=\"white\" points=\"690,-137.5 794,-137.5 \"/>\n<text text-anchor=\"middle\" x=\"742\" y=\"-124.7\" font-family=\"monospace\" font-size=\"11.00\" fill=\"white\">grad: 1.0000</text>\n</g>\n<!-- 2085310388496*&#45;&gt;2085310388496 -->\n<g id=\"edge3\" class=\"edge\">\n<title>2085310388496*&#45;&gt;2085310388496</title>\n<path fill=\"none\" stroke=\"white\" d=\"M654.21,-147.5C661.88,-147.5 670.62,-147.5 679.51,-147.5\"/>\n<polygon fill=\"white\" stroke=\"white\" points=\"679.58,-151 689.58,-147.5 679.58,-144 679.58,-151\"/>\n</g>\n<!-- 2085308670736 -->\n<g id=\"node9\" class=\"node\">\n<title>2085308670736</title>\n<polygon fill=\"#2e2e2e\" stroke=\"white\" points=\"0,-0.5 0,-60.5 104,-60.5 104,-0.5 0,-0.5\"/>\n<text text-anchor=\"middle\" x=\"52\" y=\"-47.7\" font-family=\"monospace\" font-size=\"11.00\" fill=\"white\">b</text>\n<polyline fill=\"none\" stroke=\"white\" points=\"0,-40.5 104,-40.5 \"/>\n<text text-anchor=\"middle\" x=\"52\" y=\"-27.7\" font-family=\"monospace\" font-size=\"11.00\" fill=\"white\">data: &#45;3.0000</text>\n<polyline fill=\"none\" stroke=\"white\" points=\"0,-20.5 104,-20.5 \"/>\n<text text-anchor=\"middle\" x=\"52\" y=\"-7.7\" font-family=\"monospace\" font-size=\"11.00\" fill=\"white\">grad: 0.0000</text>\n</g>\n<!-- 2085308670736&#45;&gt;2085334481936* -->\n<g id=\"edge5\" class=\"edge\">\n<title>2085308670736&#45;&gt;2085334481936*</title>\n<path fill=\"none\" stroke=\"white\" d=\"M104.21,-48.17C113.97,-51.54 123.94,-54.98 132.94,-58.09\"/>\n<polygon fill=\"white\" stroke=\"white\" points=\"132.04,-61.48 142.64,-61.44 134.33,-54.87 132.04,-61.48\"/>\n</g>\n<!-- 2085309599568 -->\n<g id=\"node10\" class=\"node\">\n<title>2085309599568</title>\n<polygon fill=\"#2e2e2e\" stroke=\"white\" points=\"230,-118.5 230,-178.5 334,-178.5 334,-118.5 230,-118.5\"/>\n<text text-anchor=\"middle\" x=\"282\" y=\"-165.7\" font-family=\"monospace\" font-size=\"11.00\" fill=\"white\">c</text>\n<polyline fill=\"none\" stroke=\"white\" points=\"230,-158.5 334,-158.5 \"/>\n<text text-anchor=\"middle\" x=\"282\" y=\"-145.7\" font-family=\"monospace\" font-size=\"11.00\" fill=\"white\">data: 10.0000</text>\n<polyline fill=\"none\" stroke=\"white\" points=\"230,-138.5 334,-138.5 \"/>\n<text text-anchor=\"middle\" x=\"282\" y=\"-125.7\" font-family=\"monospace\" font-size=\"11.00\" fill=\"white\">grad: 0.0000</text>\n</g>\n<!-- 2085309599568&#45;&gt;2085334812752+ -->\n<g id=\"edge7\" class=\"edge\">\n<title>2085309599568&#45;&gt;2085334812752+</title>\n<path fill=\"none\" stroke=\"white\" d=\"M334.21,-130.37C344.16,-126.85 354.33,-123.25 363.47,-120.01\"/>\n<polygon fill=\"white\" stroke=\"white\" points=\"364.67,-123.3 372.93,-116.67 362.33,-116.7 364.67,-123.3\"/>\n</g>\n</g>\n</svg>\n",
      "text/plain": [
       "<graphviz.graphs.Digraph at 0x1e583856b10>"
      ]
     },
     "execution_count": 80,
     "metadata": {},
     "output_type": "execute_result"
    }
   ],
   "execution_count": 80
  },
  {
   "metadata": {
    "ExecuteTime": {
     "end_time": "2024-09-08T12:17:16.193381Z",
     "start_time": "2024-09-08T12:17:16.191368Z"
    }
   },
   "cell_type": "code",
   "source": [
    "f._grad = 4.0 # dL/df = d(d * f)/df = d\n",
    "d._grad = -2.0 # dL/dd = d(d * f)/dd = f"
   ],
   "id": "7aa1ce11f0043eee",
   "outputs": [],
   "execution_count": 81
  },
  {
   "metadata": {
    "ExecuteTime": {
     "end_time": "2024-09-08T12:17:17.593856Z",
     "start_time": "2024-09-08T12:17:17.564226Z"
    }
   },
   "cell_type": "code",
   "source": "draw_dot(L)",
   "id": "d3a6b0a33be6615",
   "outputs": [
    {
     "data": {
      "image/svg+xml": "<?xml version=\"1.0\" encoding=\"UTF-8\" standalone=\"no\"?>\n<!DOCTYPE svg PUBLIC \"-//W3C//DTD SVG 1.1//EN\"\n \"http://www.w3.org/Graphics/SVG/1.1/DTD/svg11.dtd\">\n<!-- Generated by graphviz version 2.50.0 (0)\n -->\n<!-- Title: svg Pages: 1 -->\n<svg width=\"802pt\" height=\"226pt\"\n viewBox=\"0.00 0.00 802.00 226.00\" xmlns=\"http://www.w3.org/2000/svg\" xmlns:xlink=\"http://www.w3.org/1999/xlink\">\n<g id=\"graph0\" class=\"graph\" transform=\"scale(1 1) rotate(0) translate(4 222)\">\n<title>svg</title>\n<polygon fill=\"#272822\" stroke=\"transparent\" points=\"-4,4 -4,-222 798,-222 798,4 -4,4\"/>\n<!-- 2085334481936 -->\n<g id=\"node1\" class=\"node\">\n<title>2085334481936</title>\n<polygon fill=\"#2e2e2e\" stroke=\"white\" points=\"230,-39.5 230,-99.5 334,-99.5 334,-39.5 230,-39.5\"/>\n<text text-anchor=\"middle\" x=\"282\" y=\"-86.7\" font-family=\"monospace\" font-size=\"11.00\" fill=\"white\">e</text>\n<polyline fill=\"none\" stroke=\"white\" points=\"230,-79.5 334,-79.5 \"/>\n<text text-anchor=\"middle\" x=\"282\" y=\"-66.7\" font-family=\"monospace\" font-size=\"11.00\" fill=\"white\">data: &#45;6.0000</text>\n<polyline fill=\"none\" stroke=\"white\" points=\"230,-59.5 334,-59.5 \"/>\n<text text-anchor=\"middle\" x=\"282\" y=\"-46.7\" font-family=\"monospace\" font-size=\"11.00\" fill=\"white\">grad: 0.0000</text>\n</g>\n<!-- 2085334812752+ -->\n<g id=\"node5\" class=\"node\">\n<title>2085334812752+</title>\n<ellipse fill=\"#2e2e2e\" stroke=\"white\" cx=\"397\" cy=\"-108.5\" rx=\"27\" ry=\"18\"/>\n<text text-anchor=\"middle\" x=\"397\" y=\"-105.7\" font-family=\"monospace\" font-size=\"11.00\" fill=\"white\">+</text>\n</g>\n<!-- 2085334481936&#45;&gt;2085334812752+ -->\n<g id=\"edge4\" class=\"edge\">\n<title>2085334481936&#45;&gt;2085334812752+</title>\n<path fill=\"none\" stroke=\"white\" d=\"M334.21,-87.17C343.97,-90.54 353.94,-93.98 362.94,-97.09\"/>\n<polygon fill=\"white\" stroke=\"white\" points=\"362.04,-100.48 372.64,-100.44 364.33,-93.87 362.04,-100.48\"/>\n</g>\n<!-- 2085334481936* -->\n<g id=\"node2\" class=\"node\">\n<title>2085334481936*</title>\n<ellipse fill=\"#2e2e2e\" stroke=\"white\" cx=\"167\" cy=\"-69.5\" rx=\"27\" ry=\"18\"/>\n<text text-anchor=\"middle\" x=\"167\" y=\"-66.7\" font-family=\"monospace\" font-size=\"11.00\" fill=\"white\">*</text>\n</g>\n<!-- 2085334481936*&#45;&gt;2085334481936 -->\n<g id=\"edge1\" class=\"edge\">\n<title>2085334481936*&#45;&gt;2085334481936</title>\n<path fill=\"none\" stroke=\"white\" d=\"M194.21,-69.5C201.88,-69.5 210.62,-69.5 219.51,-69.5\"/>\n<polygon fill=\"white\" stroke=\"white\" points=\"219.58,-73 229.58,-69.5 219.58,-66 219.58,-73\"/>\n</g>\n<!-- 2085307057680 -->\n<g id=\"node3\" class=\"node\">\n<title>2085307057680</title>\n<polygon fill=\"#2e2e2e\" stroke=\"white\" points=\"3,-79.5 3,-139.5 101,-139.5 101,-79.5 3,-79.5\"/>\n<text text-anchor=\"middle\" x=\"52\" y=\"-126.7\" font-family=\"monospace\" font-size=\"11.00\" fill=\"white\">a</text>\n<polyline fill=\"none\" stroke=\"white\" points=\"3,-119.5 101,-119.5 \"/>\n<text text-anchor=\"middle\" x=\"52\" y=\"-106.7\" font-family=\"monospace\" font-size=\"11.00\" fill=\"white\">data: 2.0000</text>\n<polyline fill=\"none\" stroke=\"white\" points=\"3,-99.5 101,-99.5 \"/>\n<text text-anchor=\"middle\" x=\"52\" y=\"-86.7\" font-family=\"monospace\" font-size=\"11.00\" fill=\"white\">grad: 0.0000</text>\n</g>\n<!-- 2085307057680&#45;&gt;2085334481936* -->\n<g id=\"edge9\" class=\"edge\">\n<title>2085307057680&#45;&gt;2085334481936*</title>\n<path fill=\"none\" stroke=\"white\" d=\"M101.25,-92.42C112.05,-88.6 123.26,-84.63 133.25,-81.09\"/>\n<polygon fill=\"white\" stroke=\"white\" points=\"134.52,-84.35 142.78,-77.72 132.19,-77.76 134.52,-84.35\"/>\n</g>\n<!-- 2085334812752 -->\n<g id=\"node4\" class=\"node\">\n<title>2085334812752</title>\n<polygon fill=\"#2e2e2e\" stroke=\"white\" points=\"460,-78.5 460,-138.5 564,-138.5 564,-78.5 460,-78.5\"/>\n<text text-anchor=\"middle\" x=\"512\" y=\"-125.7\" font-family=\"monospace\" font-size=\"11.00\" fill=\"white\">d</text>\n<polyline fill=\"none\" stroke=\"white\" points=\"460,-118.5 564,-118.5 \"/>\n<text text-anchor=\"middle\" x=\"512\" y=\"-105.7\" font-family=\"monospace\" font-size=\"11.00\" fill=\"white\">data: 4.0000</text>\n<polyline fill=\"none\" stroke=\"white\" points=\"460,-98.5 564,-98.5 \"/>\n<text text-anchor=\"middle\" x=\"512\" y=\"-85.7\" font-family=\"monospace\" font-size=\"11.00\" fill=\"white\">grad: &#45;2.0000</text>\n</g>\n<!-- 2085310388496* -->\n<g id=\"node8\" class=\"node\">\n<title>2085310388496*</title>\n<ellipse fill=\"#2e2e2e\" stroke=\"white\" cx=\"627\" cy=\"-147.5\" rx=\"27\" ry=\"18\"/>\n<text text-anchor=\"middle\" x=\"627\" y=\"-144.7\" font-family=\"monospace\" font-size=\"11.00\" fill=\"white\">*</text>\n</g>\n<!-- 2085334812752&#45;&gt;2085310388496* -->\n<g id=\"edge6\" class=\"edge\">\n<title>2085334812752&#45;&gt;2085310388496*</title>\n<path fill=\"none\" stroke=\"white\" d=\"M564.21,-126.17C573.97,-129.54 583.94,-132.98 592.94,-136.09\"/>\n<polygon fill=\"white\" stroke=\"white\" points=\"592.04,-139.48 602.64,-139.44 594.33,-132.87 592.04,-139.48\"/>\n</g>\n<!-- 2085334812752+&#45;&gt;2085334812752 -->\n<g id=\"edge2\" class=\"edge\">\n<title>2085334812752+&#45;&gt;2085334812752</title>\n<path fill=\"none\" stroke=\"white\" d=\"M424.21,-108.5C431.88,-108.5 440.62,-108.5 449.51,-108.5\"/>\n<polygon fill=\"white\" stroke=\"white\" points=\"449.58,-112 459.58,-108.5 449.58,-105 449.58,-112\"/>\n</g>\n<!-- 2085310143632 -->\n<g id=\"node6\" class=\"node\">\n<title>2085310143632</title>\n<polygon fill=\"#2e2e2e\" stroke=\"white\" points=\"460,-157.5 460,-217.5 564,-217.5 564,-157.5 460,-157.5\"/>\n<text text-anchor=\"middle\" x=\"512\" y=\"-204.7\" font-family=\"monospace\" font-size=\"11.00\" fill=\"white\">f</text>\n<polyline fill=\"none\" stroke=\"white\" points=\"460,-197.5 564,-197.5 \"/>\n<text text-anchor=\"middle\" x=\"512\" y=\"-184.7\" font-family=\"monospace\" font-size=\"11.00\" fill=\"white\">data: &#45;2.0000</text>\n<polyline fill=\"none\" stroke=\"white\" points=\"460,-177.5 564,-177.5 \"/>\n<text text-anchor=\"middle\" x=\"512\" y=\"-164.7\" font-family=\"monospace\" font-size=\"11.00\" fill=\"white\">grad: 4.0000</text>\n</g>\n<!-- 2085310143632&#45;&gt;2085310388496* -->\n<g id=\"edge8\" class=\"edge\">\n<title>2085310143632&#45;&gt;2085310388496*</title>\n<path fill=\"none\" stroke=\"white\" d=\"M564.21,-169.37C574.16,-165.85 584.33,-162.25 593.47,-159.01\"/>\n<polygon fill=\"white\" stroke=\"white\" points=\"594.67,-162.3 602.93,-155.67 592.33,-155.7 594.67,-162.3\"/>\n</g>\n<!-- 2085310388496 -->\n<g id=\"node7\" class=\"node\">\n<title>2085310388496</title>\n<polygon fill=\"#2e2e2e\" stroke=\"white\" points=\"690,-117.5 690,-177.5 794,-177.5 794,-117.5 690,-117.5\"/>\n<text text-anchor=\"middle\" x=\"742\" y=\"-164.7\" font-family=\"monospace\" font-size=\"11.00\" fill=\"white\">L</text>\n<polyline fill=\"none\" stroke=\"white\" points=\"690,-157.5 794,-157.5 \"/>\n<text text-anchor=\"middle\" x=\"742\" y=\"-144.7\" font-family=\"monospace\" font-size=\"11.00\" fill=\"white\">data: &#45;8.0000</text>\n<polyline fill=\"none\" stroke=\"white\" points=\"690,-137.5 794,-137.5 \"/>\n<text text-anchor=\"middle\" x=\"742\" y=\"-124.7\" font-family=\"monospace\" font-size=\"11.00\" fill=\"white\">grad: 1.0000</text>\n</g>\n<!-- 2085310388496*&#45;&gt;2085310388496 -->\n<g id=\"edge3\" class=\"edge\">\n<title>2085310388496*&#45;&gt;2085310388496</title>\n<path fill=\"none\" stroke=\"white\" d=\"M654.21,-147.5C661.88,-147.5 670.62,-147.5 679.51,-147.5\"/>\n<polygon fill=\"white\" stroke=\"white\" points=\"679.58,-151 689.58,-147.5 679.58,-144 679.58,-151\"/>\n</g>\n<!-- 2085308670736 -->\n<g id=\"node9\" class=\"node\">\n<title>2085308670736</title>\n<polygon fill=\"#2e2e2e\" stroke=\"white\" points=\"0,-0.5 0,-60.5 104,-60.5 104,-0.5 0,-0.5\"/>\n<text text-anchor=\"middle\" x=\"52\" y=\"-47.7\" font-family=\"monospace\" font-size=\"11.00\" fill=\"white\">b</text>\n<polyline fill=\"none\" stroke=\"white\" points=\"0,-40.5 104,-40.5 \"/>\n<text text-anchor=\"middle\" x=\"52\" y=\"-27.7\" font-family=\"monospace\" font-size=\"11.00\" fill=\"white\">data: &#45;3.0000</text>\n<polyline fill=\"none\" stroke=\"white\" points=\"0,-20.5 104,-20.5 \"/>\n<text text-anchor=\"middle\" x=\"52\" y=\"-7.7\" font-family=\"monospace\" font-size=\"11.00\" fill=\"white\">grad: 0.0000</text>\n</g>\n<!-- 2085308670736&#45;&gt;2085334481936* -->\n<g id=\"edge5\" class=\"edge\">\n<title>2085308670736&#45;&gt;2085334481936*</title>\n<path fill=\"none\" stroke=\"white\" d=\"M104.21,-48.17C113.97,-51.54 123.94,-54.98 132.94,-58.09\"/>\n<polygon fill=\"white\" stroke=\"white\" points=\"132.04,-61.48 142.64,-61.44 134.33,-54.87 132.04,-61.48\"/>\n</g>\n<!-- 2085309599568 -->\n<g id=\"node10\" class=\"node\">\n<title>2085309599568</title>\n<polygon fill=\"#2e2e2e\" stroke=\"white\" points=\"230,-118.5 230,-178.5 334,-178.5 334,-118.5 230,-118.5\"/>\n<text text-anchor=\"middle\" x=\"282\" y=\"-165.7\" font-family=\"monospace\" font-size=\"11.00\" fill=\"white\">c</text>\n<polyline fill=\"none\" stroke=\"white\" points=\"230,-158.5 334,-158.5 \"/>\n<text text-anchor=\"middle\" x=\"282\" y=\"-145.7\" font-family=\"monospace\" font-size=\"11.00\" fill=\"white\">data: 10.0000</text>\n<polyline fill=\"none\" stroke=\"white\" points=\"230,-138.5 334,-138.5 \"/>\n<text text-anchor=\"middle\" x=\"282\" y=\"-125.7\" font-family=\"monospace\" font-size=\"11.00\" fill=\"white\">grad: 0.0000</text>\n</g>\n<!-- 2085309599568&#45;&gt;2085334812752+ -->\n<g id=\"edge7\" class=\"edge\">\n<title>2085309599568&#45;&gt;2085334812752+</title>\n<path fill=\"none\" stroke=\"white\" d=\"M334.21,-130.37C344.16,-126.85 354.33,-123.25 363.47,-120.01\"/>\n<polygon fill=\"white\" stroke=\"white\" points=\"364.67,-123.3 372.93,-116.67 362.33,-116.7 364.67,-123.3\"/>\n</g>\n</g>\n</svg>\n",
      "text/plain": [
       "<graphviz.graphs.Digraph at 0x1e5862f4b90>"
      ]
     },
     "execution_count": 82,
     "metadata": {},
     "output_type": "execute_result"
    }
   ],
   "execution_count": 82
  },
  {
   "metadata": {
    "ExecuteTime": {
     "end_time": "2024-09-08T12:17:19.818909Z",
     "start_time": "2024-09-08T12:17:19.816448Z"
    }
   },
   "cell_type": "code",
   "source": [
    "c._grad = -2.0 # chain rule, dL/dc = dL/dd * dd/dc = -2 * 1\n",
    "e._grad = -2.0 # chain rule, dL/de = dL/dd * dd/de = -2 * 1"
   ],
   "id": "23b3df8c2bec88d8",
   "outputs": [],
   "execution_count": 83
  },
  {
   "metadata": {
    "ExecuteTime": {
     "end_time": "2024-09-08T12:17:21.194253Z",
     "start_time": "2024-09-08T12:17:21.165274Z"
    }
   },
   "cell_type": "code",
   "source": "draw_dot(L)",
   "id": "5b27cde070b11c17",
   "outputs": [
    {
     "data": {
      "image/svg+xml": "<?xml version=\"1.0\" encoding=\"UTF-8\" standalone=\"no\"?>\n<!DOCTYPE svg PUBLIC \"-//W3C//DTD SVG 1.1//EN\"\n \"http://www.w3.org/Graphics/SVG/1.1/DTD/svg11.dtd\">\n<!-- Generated by graphviz version 2.50.0 (0)\n -->\n<!-- Title: svg Pages: 1 -->\n<svg width=\"802pt\" height=\"226pt\"\n viewBox=\"0.00 0.00 802.00 226.00\" xmlns=\"http://www.w3.org/2000/svg\" xmlns:xlink=\"http://www.w3.org/1999/xlink\">\n<g id=\"graph0\" class=\"graph\" transform=\"scale(1 1) rotate(0) translate(4 222)\">\n<title>svg</title>\n<polygon fill=\"#272822\" stroke=\"transparent\" points=\"-4,4 -4,-222 798,-222 798,4 -4,4\"/>\n<!-- 2085334481936 -->\n<g id=\"node1\" class=\"node\">\n<title>2085334481936</title>\n<polygon fill=\"#2e2e2e\" stroke=\"white\" points=\"230,-39.5 230,-99.5 334,-99.5 334,-39.5 230,-39.5\"/>\n<text text-anchor=\"middle\" x=\"282\" y=\"-86.7\" font-family=\"monospace\" font-size=\"11.00\" fill=\"white\">e</text>\n<polyline fill=\"none\" stroke=\"white\" points=\"230,-79.5 334,-79.5 \"/>\n<text text-anchor=\"middle\" x=\"282\" y=\"-66.7\" font-family=\"monospace\" font-size=\"11.00\" fill=\"white\">data: &#45;6.0000</text>\n<polyline fill=\"none\" stroke=\"white\" points=\"230,-59.5 334,-59.5 \"/>\n<text text-anchor=\"middle\" x=\"282\" y=\"-46.7\" font-family=\"monospace\" font-size=\"11.00\" fill=\"white\">grad: &#45;2.0000</text>\n</g>\n<!-- 2085334812752+ -->\n<g id=\"node5\" class=\"node\">\n<title>2085334812752+</title>\n<ellipse fill=\"#2e2e2e\" stroke=\"white\" cx=\"397\" cy=\"-108.5\" rx=\"27\" ry=\"18\"/>\n<text text-anchor=\"middle\" x=\"397\" y=\"-105.7\" font-family=\"monospace\" font-size=\"11.00\" fill=\"white\">+</text>\n</g>\n<!-- 2085334481936&#45;&gt;2085334812752+ -->\n<g id=\"edge4\" class=\"edge\">\n<title>2085334481936&#45;&gt;2085334812752+</title>\n<path fill=\"none\" stroke=\"white\" d=\"M334.21,-87.17C343.97,-90.54 353.94,-93.98 362.94,-97.09\"/>\n<polygon fill=\"white\" stroke=\"white\" points=\"362.04,-100.48 372.64,-100.44 364.33,-93.87 362.04,-100.48\"/>\n</g>\n<!-- 2085334481936* -->\n<g id=\"node2\" class=\"node\">\n<title>2085334481936*</title>\n<ellipse fill=\"#2e2e2e\" stroke=\"white\" cx=\"167\" cy=\"-69.5\" rx=\"27\" ry=\"18\"/>\n<text text-anchor=\"middle\" x=\"167\" y=\"-66.7\" font-family=\"monospace\" font-size=\"11.00\" fill=\"white\">*</text>\n</g>\n<!-- 2085334481936*&#45;&gt;2085334481936 -->\n<g id=\"edge1\" class=\"edge\">\n<title>2085334481936*&#45;&gt;2085334481936</title>\n<path fill=\"none\" stroke=\"white\" d=\"M194.21,-69.5C201.88,-69.5 210.62,-69.5 219.51,-69.5\"/>\n<polygon fill=\"white\" stroke=\"white\" points=\"219.58,-73 229.58,-69.5 219.58,-66 219.58,-73\"/>\n</g>\n<!-- 2085307057680 -->\n<g id=\"node3\" class=\"node\">\n<title>2085307057680</title>\n<polygon fill=\"#2e2e2e\" stroke=\"white\" points=\"3,-79.5 3,-139.5 101,-139.5 101,-79.5 3,-79.5\"/>\n<text text-anchor=\"middle\" x=\"52\" y=\"-126.7\" font-family=\"monospace\" font-size=\"11.00\" fill=\"white\">a</text>\n<polyline fill=\"none\" stroke=\"white\" points=\"3,-119.5 101,-119.5 \"/>\n<text text-anchor=\"middle\" x=\"52\" y=\"-106.7\" font-family=\"monospace\" font-size=\"11.00\" fill=\"white\">data: 2.0000</text>\n<polyline fill=\"none\" stroke=\"white\" points=\"3,-99.5 101,-99.5 \"/>\n<text text-anchor=\"middle\" x=\"52\" y=\"-86.7\" font-family=\"monospace\" font-size=\"11.00\" fill=\"white\">grad: 0.0000</text>\n</g>\n<!-- 2085307057680&#45;&gt;2085334481936* -->\n<g id=\"edge9\" class=\"edge\">\n<title>2085307057680&#45;&gt;2085334481936*</title>\n<path fill=\"none\" stroke=\"white\" d=\"M101.25,-92.42C112.05,-88.6 123.26,-84.63 133.25,-81.09\"/>\n<polygon fill=\"white\" stroke=\"white\" points=\"134.52,-84.35 142.78,-77.72 132.19,-77.76 134.52,-84.35\"/>\n</g>\n<!-- 2085334812752 -->\n<g id=\"node4\" class=\"node\">\n<title>2085334812752</title>\n<polygon fill=\"#2e2e2e\" stroke=\"white\" points=\"460,-78.5 460,-138.5 564,-138.5 564,-78.5 460,-78.5\"/>\n<text text-anchor=\"middle\" x=\"512\" y=\"-125.7\" font-family=\"monospace\" font-size=\"11.00\" fill=\"white\">d</text>\n<polyline fill=\"none\" stroke=\"white\" points=\"460,-118.5 564,-118.5 \"/>\n<text text-anchor=\"middle\" x=\"512\" y=\"-105.7\" font-family=\"monospace\" font-size=\"11.00\" fill=\"white\">data: 4.0000</text>\n<polyline fill=\"none\" stroke=\"white\" points=\"460,-98.5 564,-98.5 \"/>\n<text text-anchor=\"middle\" x=\"512\" y=\"-85.7\" font-family=\"monospace\" font-size=\"11.00\" fill=\"white\">grad: &#45;2.0000</text>\n</g>\n<!-- 2085310388496* -->\n<g id=\"node8\" class=\"node\">\n<title>2085310388496*</title>\n<ellipse fill=\"#2e2e2e\" stroke=\"white\" cx=\"627\" cy=\"-147.5\" rx=\"27\" ry=\"18\"/>\n<text text-anchor=\"middle\" x=\"627\" y=\"-144.7\" font-family=\"monospace\" font-size=\"11.00\" fill=\"white\">*</text>\n</g>\n<!-- 2085334812752&#45;&gt;2085310388496* -->\n<g id=\"edge6\" class=\"edge\">\n<title>2085334812752&#45;&gt;2085310388496*</title>\n<path fill=\"none\" stroke=\"white\" d=\"M564.21,-126.17C573.97,-129.54 583.94,-132.98 592.94,-136.09\"/>\n<polygon fill=\"white\" stroke=\"white\" points=\"592.04,-139.48 602.64,-139.44 594.33,-132.87 592.04,-139.48\"/>\n</g>\n<!-- 2085334812752+&#45;&gt;2085334812752 -->\n<g id=\"edge2\" class=\"edge\">\n<title>2085334812752+&#45;&gt;2085334812752</title>\n<path fill=\"none\" stroke=\"white\" d=\"M424.21,-108.5C431.88,-108.5 440.62,-108.5 449.51,-108.5\"/>\n<polygon fill=\"white\" stroke=\"white\" points=\"449.58,-112 459.58,-108.5 449.58,-105 449.58,-112\"/>\n</g>\n<!-- 2085310143632 -->\n<g id=\"node6\" class=\"node\">\n<title>2085310143632</title>\n<polygon fill=\"#2e2e2e\" stroke=\"white\" points=\"460,-157.5 460,-217.5 564,-217.5 564,-157.5 460,-157.5\"/>\n<text text-anchor=\"middle\" x=\"512\" y=\"-204.7\" font-family=\"monospace\" font-size=\"11.00\" fill=\"white\">f</text>\n<polyline fill=\"none\" stroke=\"white\" points=\"460,-197.5 564,-197.5 \"/>\n<text text-anchor=\"middle\" x=\"512\" y=\"-184.7\" font-family=\"monospace\" font-size=\"11.00\" fill=\"white\">data: &#45;2.0000</text>\n<polyline fill=\"none\" stroke=\"white\" points=\"460,-177.5 564,-177.5 \"/>\n<text text-anchor=\"middle\" x=\"512\" y=\"-164.7\" font-family=\"monospace\" font-size=\"11.00\" fill=\"white\">grad: 4.0000</text>\n</g>\n<!-- 2085310143632&#45;&gt;2085310388496* -->\n<g id=\"edge8\" class=\"edge\">\n<title>2085310143632&#45;&gt;2085310388496*</title>\n<path fill=\"none\" stroke=\"white\" d=\"M564.21,-169.37C574.16,-165.85 584.33,-162.25 593.47,-159.01\"/>\n<polygon fill=\"white\" stroke=\"white\" points=\"594.67,-162.3 602.93,-155.67 592.33,-155.7 594.67,-162.3\"/>\n</g>\n<!-- 2085310388496 -->\n<g id=\"node7\" class=\"node\">\n<title>2085310388496</title>\n<polygon fill=\"#2e2e2e\" stroke=\"white\" points=\"690,-117.5 690,-177.5 794,-177.5 794,-117.5 690,-117.5\"/>\n<text text-anchor=\"middle\" x=\"742\" y=\"-164.7\" font-family=\"monospace\" font-size=\"11.00\" fill=\"white\">L</text>\n<polyline fill=\"none\" stroke=\"white\" points=\"690,-157.5 794,-157.5 \"/>\n<text text-anchor=\"middle\" x=\"742\" y=\"-144.7\" font-family=\"monospace\" font-size=\"11.00\" fill=\"white\">data: &#45;8.0000</text>\n<polyline fill=\"none\" stroke=\"white\" points=\"690,-137.5 794,-137.5 \"/>\n<text text-anchor=\"middle\" x=\"742\" y=\"-124.7\" font-family=\"monospace\" font-size=\"11.00\" fill=\"white\">grad: 1.0000</text>\n</g>\n<!-- 2085310388496*&#45;&gt;2085310388496 -->\n<g id=\"edge3\" class=\"edge\">\n<title>2085310388496*&#45;&gt;2085310388496</title>\n<path fill=\"none\" stroke=\"white\" d=\"M654.21,-147.5C661.88,-147.5 670.62,-147.5 679.51,-147.5\"/>\n<polygon fill=\"white\" stroke=\"white\" points=\"679.58,-151 689.58,-147.5 679.58,-144 679.58,-151\"/>\n</g>\n<!-- 2085308670736 -->\n<g id=\"node9\" class=\"node\">\n<title>2085308670736</title>\n<polygon fill=\"#2e2e2e\" stroke=\"white\" points=\"0,-0.5 0,-60.5 104,-60.5 104,-0.5 0,-0.5\"/>\n<text text-anchor=\"middle\" x=\"52\" y=\"-47.7\" font-family=\"monospace\" font-size=\"11.00\" fill=\"white\">b</text>\n<polyline fill=\"none\" stroke=\"white\" points=\"0,-40.5 104,-40.5 \"/>\n<text text-anchor=\"middle\" x=\"52\" y=\"-27.7\" font-family=\"monospace\" font-size=\"11.00\" fill=\"white\">data: &#45;3.0000</text>\n<polyline fill=\"none\" stroke=\"white\" points=\"0,-20.5 104,-20.5 \"/>\n<text text-anchor=\"middle\" x=\"52\" y=\"-7.7\" font-family=\"monospace\" font-size=\"11.00\" fill=\"white\">grad: 0.0000</text>\n</g>\n<!-- 2085308670736&#45;&gt;2085334481936* -->\n<g id=\"edge5\" class=\"edge\">\n<title>2085308670736&#45;&gt;2085334481936*</title>\n<path fill=\"none\" stroke=\"white\" d=\"M104.21,-48.17C113.97,-51.54 123.94,-54.98 132.94,-58.09\"/>\n<polygon fill=\"white\" stroke=\"white\" points=\"132.04,-61.48 142.64,-61.44 134.33,-54.87 132.04,-61.48\"/>\n</g>\n<!-- 2085309599568 -->\n<g id=\"node10\" class=\"node\">\n<title>2085309599568</title>\n<polygon fill=\"#2e2e2e\" stroke=\"white\" points=\"230,-118.5 230,-178.5 334,-178.5 334,-118.5 230,-118.5\"/>\n<text text-anchor=\"middle\" x=\"282\" y=\"-165.7\" font-family=\"monospace\" font-size=\"11.00\" fill=\"white\">c</text>\n<polyline fill=\"none\" stroke=\"white\" points=\"230,-158.5 334,-158.5 \"/>\n<text text-anchor=\"middle\" x=\"282\" y=\"-145.7\" font-family=\"monospace\" font-size=\"11.00\" fill=\"white\">data: 10.0000</text>\n<polyline fill=\"none\" stroke=\"white\" points=\"230,-138.5 334,-138.5 \"/>\n<text text-anchor=\"middle\" x=\"282\" y=\"-125.7\" font-family=\"monospace\" font-size=\"11.00\" fill=\"white\">grad: &#45;2.0000</text>\n</g>\n<!-- 2085309599568&#45;&gt;2085334812752+ -->\n<g id=\"edge7\" class=\"edge\">\n<title>2085309599568&#45;&gt;2085334812752+</title>\n<path fill=\"none\" stroke=\"white\" d=\"M334.21,-130.37C344.16,-126.85 354.33,-123.25 363.47,-120.01\"/>\n<polygon fill=\"white\" stroke=\"white\" points=\"364.67,-123.3 372.93,-116.67 362.33,-116.7 364.67,-123.3\"/>\n</g>\n</g>\n</svg>\n",
      "text/plain": [
       "<graphviz.graphs.Digraph at 0x1e585e83a50>"
      ]
     },
     "execution_count": 84,
     "metadata": {},
     "output_type": "execute_result"
    }
   ],
   "execution_count": 84
  },
  {
   "metadata": {},
   "cell_type": "markdown",
   "source": "We can see that by chain rule, the plus operation essentially provides a rerouting of the gradients!",
   "id": "7e497c06fe347b3b"
  },
  {
   "metadata": {
    "ExecuteTime": {
     "end_time": "2024-09-08T12:17:22.993856Z",
     "start_time": "2024-09-08T12:17:22.990625Z"
    }
   },
   "cell_type": "code",
   "source": [
    "a._grad = 6.0 # chain rule, dL/da = dL/de * de/da = (-2) * (-3)\n",
    "b._grad = -4.0 # chain rule, dL/db = dL/de * de/db = (-2) * 2"
   ],
   "id": "74d2d2517089745e",
   "outputs": [],
   "execution_count": 85
  },
  {
   "metadata": {
    "ExecuteTime": {
     "end_time": "2024-09-08T12:17:24.189072Z",
     "start_time": "2024-09-08T12:17:24.161377Z"
    }
   },
   "cell_type": "code",
   "source": "draw_dot(L)",
   "id": "5c9ae0ae3fd439d2",
   "outputs": [
    {
     "data": {
      "image/svg+xml": "<?xml version=\"1.0\" encoding=\"UTF-8\" standalone=\"no\"?>\n<!DOCTYPE svg PUBLIC \"-//W3C//DTD SVG 1.1//EN\"\n \"http://www.w3.org/Graphics/SVG/1.1/DTD/svg11.dtd\">\n<!-- Generated by graphviz version 2.50.0 (0)\n -->\n<!-- Title: svg Pages: 1 -->\n<svg width=\"802pt\" height=\"226pt\"\n viewBox=\"0.00 0.00 802.00 226.00\" xmlns=\"http://www.w3.org/2000/svg\" xmlns:xlink=\"http://www.w3.org/1999/xlink\">\n<g id=\"graph0\" class=\"graph\" transform=\"scale(1 1) rotate(0) translate(4 222)\">\n<title>svg</title>\n<polygon fill=\"#272822\" stroke=\"transparent\" points=\"-4,4 -4,-222 798,-222 798,4 -4,4\"/>\n<!-- 2085334481936 -->\n<g id=\"node1\" class=\"node\">\n<title>2085334481936</title>\n<polygon fill=\"#2e2e2e\" stroke=\"white\" points=\"230,-39.5 230,-99.5 334,-99.5 334,-39.5 230,-39.5\"/>\n<text text-anchor=\"middle\" x=\"282\" y=\"-86.7\" font-family=\"monospace\" font-size=\"11.00\" fill=\"white\">e</text>\n<polyline fill=\"none\" stroke=\"white\" points=\"230,-79.5 334,-79.5 \"/>\n<text text-anchor=\"middle\" x=\"282\" y=\"-66.7\" font-family=\"monospace\" font-size=\"11.00\" fill=\"white\">data: &#45;6.0000</text>\n<polyline fill=\"none\" stroke=\"white\" points=\"230,-59.5 334,-59.5 \"/>\n<text text-anchor=\"middle\" x=\"282\" y=\"-46.7\" font-family=\"monospace\" font-size=\"11.00\" fill=\"white\">grad: &#45;2.0000</text>\n</g>\n<!-- 2085334812752+ -->\n<g id=\"node5\" class=\"node\">\n<title>2085334812752+</title>\n<ellipse fill=\"#2e2e2e\" stroke=\"white\" cx=\"397\" cy=\"-108.5\" rx=\"27\" ry=\"18\"/>\n<text text-anchor=\"middle\" x=\"397\" y=\"-105.7\" font-family=\"monospace\" font-size=\"11.00\" fill=\"white\">+</text>\n</g>\n<!-- 2085334481936&#45;&gt;2085334812752+ -->\n<g id=\"edge4\" class=\"edge\">\n<title>2085334481936&#45;&gt;2085334812752+</title>\n<path fill=\"none\" stroke=\"white\" d=\"M334.21,-87.17C343.97,-90.54 353.94,-93.98 362.94,-97.09\"/>\n<polygon fill=\"white\" stroke=\"white\" points=\"362.04,-100.48 372.64,-100.44 364.33,-93.87 362.04,-100.48\"/>\n</g>\n<!-- 2085334481936* -->\n<g id=\"node2\" class=\"node\">\n<title>2085334481936*</title>\n<ellipse fill=\"#2e2e2e\" stroke=\"white\" cx=\"167\" cy=\"-69.5\" rx=\"27\" ry=\"18\"/>\n<text text-anchor=\"middle\" x=\"167\" y=\"-66.7\" font-family=\"monospace\" font-size=\"11.00\" fill=\"white\">*</text>\n</g>\n<!-- 2085334481936*&#45;&gt;2085334481936 -->\n<g id=\"edge1\" class=\"edge\">\n<title>2085334481936*&#45;&gt;2085334481936</title>\n<path fill=\"none\" stroke=\"white\" d=\"M194.21,-69.5C201.88,-69.5 210.62,-69.5 219.51,-69.5\"/>\n<polygon fill=\"white\" stroke=\"white\" points=\"219.58,-73 229.58,-69.5 219.58,-66 219.58,-73\"/>\n</g>\n<!-- 2085307057680 -->\n<g id=\"node3\" class=\"node\">\n<title>2085307057680</title>\n<polygon fill=\"#2e2e2e\" stroke=\"white\" points=\"3,-79.5 3,-139.5 101,-139.5 101,-79.5 3,-79.5\"/>\n<text text-anchor=\"middle\" x=\"52\" y=\"-126.7\" font-family=\"monospace\" font-size=\"11.00\" fill=\"white\">a</text>\n<polyline fill=\"none\" stroke=\"white\" points=\"3,-119.5 101,-119.5 \"/>\n<text text-anchor=\"middle\" x=\"52\" y=\"-106.7\" font-family=\"monospace\" font-size=\"11.00\" fill=\"white\">data: 2.0000</text>\n<polyline fill=\"none\" stroke=\"white\" points=\"3,-99.5 101,-99.5 \"/>\n<text text-anchor=\"middle\" x=\"52\" y=\"-86.7\" font-family=\"monospace\" font-size=\"11.00\" fill=\"white\">grad: 6.0000</text>\n</g>\n<!-- 2085307057680&#45;&gt;2085334481936* -->\n<g id=\"edge9\" class=\"edge\">\n<title>2085307057680&#45;&gt;2085334481936*</title>\n<path fill=\"none\" stroke=\"white\" d=\"M101.25,-92.42C112.05,-88.6 123.26,-84.63 133.25,-81.09\"/>\n<polygon fill=\"white\" stroke=\"white\" points=\"134.52,-84.35 142.78,-77.72 132.19,-77.76 134.52,-84.35\"/>\n</g>\n<!-- 2085334812752 -->\n<g id=\"node4\" class=\"node\">\n<title>2085334812752</title>\n<polygon fill=\"#2e2e2e\" stroke=\"white\" points=\"460,-78.5 460,-138.5 564,-138.5 564,-78.5 460,-78.5\"/>\n<text text-anchor=\"middle\" x=\"512\" y=\"-125.7\" font-family=\"monospace\" font-size=\"11.00\" fill=\"white\">d</text>\n<polyline fill=\"none\" stroke=\"white\" points=\"460,-118.5 564,-118.5 \"/>\n<text text-anchor=\"middle\" x=\"512\" y=\"-105.7\" font-family=\"monospace\" font-size=\"11.00\" fill=\"white\">data: 4.0000</text>\n<polyline fill=\"none\" stroke=\"white\" points=\"460,-98.5 564,-98.5 \"/>\n<text text-anchor=\"middle\" x=\"512\" y=\"-85.7\" font-family=\"monospace\" font-size=\"11.00\" fill=\"white\">grad: &#45;2.0000</text>\n</g>\n<!-- 2085310388496* -->\n<g id=\"node8\" class=\"node\">\n<title>2085310388496*</title>\n<ellipse fill=\"#2e2e2e\" stroke=\"white\" cx=\"627\" cy=\"-147.5\" rx=\"27\" ry=\"18\"/>\n<text text-anchor=\"middle\" x=\"627\" y=\"-144.7\" font-family=\"monospace\" font-size=\"11.00\" fill=\"white\">*</text>\n</g>\n<!-- 2085334812752&#45;&gt;2085310388496* -->\n<g id=\"edge6\" class=\"edge\">\n<title>2085334812752&#45;&gt;2085310388496*</title>\n<path fill=\"none\" stroke=\"white\" d=\"M564.21,-126.17C573.97,-129.54 583.94,-132.98 592.94,-136.09\"/>\n<polygon fill=\"white\" stroke=\"white\" points=\"592.04,-139.48 602.64,-139.44 594.33,-132.87 592.04,-139.48\"/>\n</g>\n<!-- 2085334812752+&#45;&gt;2085334812752 -->\n<g id=\"edge2\" class=\"edge\">\n<title>2085334812752+&#45;&gt;2085334812752</title>\n<path fill=\"none\" stroke=\"white\" d=\"M424.21,-108.5C431.88,-108.5 440.62,-108.5 449.51,-108.5\"/>\n<polygon fill=\"white\" stroke=\"white\" points=\"449.58,-112 459.58,-108.5 449.58,-105 449.58,-112\"/>\n</g>\n<!-- 2085310143632 -->\n<g id=\"node6\" class=\"node\">\n<title>2085310143632</title>\n<polygon fill=\"#2e2e2e\" stroke=\"white\" points=\"460,-157.5 460,-217.5 564,-217.5 564,-157.5 460,-157.5\"/>\n<text text-anchor=\"middle\" x=\"512\" y=\"-204.7\" font-family=\"monospace\" font-size=\"11.00\" fill=\"white\">f</text>\n<polyline fill=\"none\" stroke=\"white\" points=\"460,-197.5 564,-197.5 \"/>\n<text text-anchor=\"middle\" x=\"512\" y=\"-184.7\" font-family=\"monospace\" font-size=\"11.00\" fill=\"white\">data: &#45;2.0000</text>\n<polyline fill=\"none\" stroke=\"white\" points=\"460,-177.5 564,-177.5 \"/>\n<text text-anchor=\"middle\" x=\"512\" y=\"-164.7\" font-family=\"monospace\" font-size=\"11.00\" fill=\"white\">grad: 4.0000</text>\n</g>\n<!-- 2085310143632&#45;&gt;2085310388496* -->\n<g id=\"edge8\" class=\"edge\">\n<title>2085310143632&#45;&gt;2085310388496*</title>\n<path fill=\"none\" stroke=\"white\" d=\"M564.21,-169.37C574.16,-165.85 584.33,-162.25 593.47,-159.01\"/>\n<polygon fill=\"white\" stroke=\"white\" points=\"594.67,-162.3 602.93,-155.67 592.33,-155.7 594.67,-162.3\"/>\n</g>\n<!-- 2085310388496 -->\n<g id=\"node7\" class=\"node\">\n<title>2085310388496</title>\n<polygon fill=\"#2e2e2e\" stroke=\"white\" points=\"690,-117.5 690,-177.5 794,-177.5 794,-117.5 690,-117.5\"/>\n<text text-anchor=\"middle\" x=\"742\" y=\"-164.7\" font-family=\"monospace\" font-size=\"11.00\" fill=\"white\">L</text>\n<polyline fill=\"none\" stroke=\"white\" points=\"690,-157.5 794,-157.5 \"/>\n<text text-anchor=\"middle\" x=\"742\" y=\"-144.7\" font-family=\"monospace\" font-size=\"11.00\" fill=\"white\">data: &#45;8.0000</text>\n<polyline fill=\"none\" stroke=\"white\" points=\"690,-137.5 794,-137.5 \"/>\n<text text-anchor=\"middle\" x=\"742\" y=\"-124.7\" font-family=\"monospace\" font-size=\"11.00\" fill=\"white\">grad: 1.0000</text>\n</g>\n<!-- 2085310388496*&#45;&gt;2085310388496 -->\n<g id=\"edge3\" class=\"edge\">\n<title>2085310388496*&#45;&gt;2085310388496</title>\n<path fill=\"none\" stroke=\"white\" d=\"M654.21,-147.5C661.88,-147.5 670.62,-147.5 679.51,-147.5\"/>\n<polygon fill=\"white\" stroke=\"white\" points=\"679.58,-151 689.58,-147.5 679.58,-144 679.58,-151\"/>\n</g>\n<!-- 2085308670736 -->\n<g id=\"node9\" class=\"node\">\n<title>2085308670736</title>\n<polygon fill=\"#2e2e2e\" stroke=\"white\" points=\"0,-0.5 0,-60.5 104,-60.5 104,-0.5 0,-0.5\"/>\n<text text-anchor=\"middle\" x=\"52\" y=\"-47.7\" font-family=\"monospace\" font-size=\"11.00\" fill=\"white\">b</text>\n<polyline fill=\"none\" stroke=\"white\" points=\"0,-40.5 104,-40.5 \"/>\n<text text-anchor=\"middle\" x=\"52\" y=\"-27.7\" font-family=\"monospace\" font-size=\"11.00\" fill=\"white\">data: &#45;3.0000</text>\n<polyline fill=\"none\" stroke=\"white\" points=\"0,-20.5 104,-20.5 \"/>\n<text text-anchor=\"middle\" x=\"52\" y=\"-7.7\" font-family=\"monospace\" font-size=\"11.00\" fill=\"white\">grad: &#45;4.0000</text>\n</g>\n<!-- 2085308670736&#45;&gt;2085334481936* -->\n<g id=\"edge5\" class=\"edge\">\n<title>2085308670736&#45;&gt;2085334481936*</title>\n<path fill=\"none\" stroke=\"white\" d=\"M104.21,-48.17C113.97,-51.54 123.94,-54.98 132.94,-58.09\"/>\n<polygon fill=\"white\" stroke=\"white\" points=\"132.04,-61.48 142.64,-61.44 134.33,-54.87 132.04,-61.48\"/>\n</g>\n<!-- 2085309599568 -->\n<g id=\"node10\" class=\"node\">\n<title>2085309599568</title>\n<polygon fill=\"#2e2e2e\" stroke=\"white\" points=\"230,-118.5 230,-178.5 334,-178.5 334,-118.5 230,-118.5\"/>\n<text text-anchor=\"middle\" x=\"282\" y=\"-165.7\" font-family=\"monospace\" font-size=\"11.00\" fill=\"white\">c</text>\n<polyline fill=\"none\" stroke=\"white\" points=\"230,-158.5 334,-158.5 \"/>\n<text text-anchor=\"middle\" x=\"282\" y=\"-145.7\" font-family=\"monospace\" font-size=\"11.00\" fill=\"white\">data: 10.0000</text>\n<polyline fill=\"none\" stroke=\"white\" points=\"230,-138.5 334,-138.5 \"/>\n<text text-anchor=\"middle\" x=\"282\" y=\"-125.7\" font-family=\"monospace\" font-size=\"11.00\" fill=\"white\">grad: &#45;2.0000</text>\n</g>\n<!-- 2085309599568&#45;&gt;2085334812752+ -->\n<g id=\"edge7\" class=\"edge\">\n<title>2085309599568&#45;&gt;2085334812752+</title>\n<path fill=\"none\" stroke=\"white\" d=\"M334.21,-130.37C344.16,-126.85 354.33,-123.25 363.47,-120.01\"/>\n<polygon fill=\"white\" stroke=\"white\" points=\"364.67,-123.3 372.93,-116.67 362.33,-116.7 364.67,-123.3\"/>\n</g>\n</g>\n</svg>\n",
      "text/plain": [
       "<graphviz.graphs.Digraph at 0x1e587a48d90>"
      ]
     },
     "execution_count": 86,
     "metadata": {},
     "output_type": "execute_result"
    }
   ],
   "execution_count": 86
  },
  {
   "metadata": {},
   "cell_type": "markdown",
   "source": "## Let's Build a Neural Network",
   "id": "145adf34e993855f"
  },
  {
   "metadata": {
    "ExecuteTime": {
     "end_time": "2024-09-08T12:17:28.086775Z",
     "start_time": "2024-09-08T12:17:28.021198Z"
    }
   },
   "cell_type": "code",
   "source": [
    "# visualize the tanh function\n",
    "plt.plot(np.arange(-5, 5, 0.1), np.tanh(np.arange(-5, 5, 0.1))); plt.grid(); plt.show()"
   ],
   "id": "2610f232c707a42e",
   "outputs": [
    {
     "data": {
      "text/plain": [
       "<Figure size 640x480 with 1 Axes>"
      ],
      "image/png": "[encoded data removed]"
     },
     "metadata": {},
     "output_type": "display_data"
    }
   ],
   "execution_count": 87
  },
  {
   "metadata": {},
   "cell_type": "markdown",
   "source": "### Let's build a neuron",
   "id": "eeb4a5a3d738fe63"
  },
  {
   "metadata": {
    "ExecuteTime": {
     "end_time": "2024-09-08T12:17:31.460517Z",
     "start_time": "2024-09-08T12:17:31.457263Z"
    }
   },
   "cell_type": "code",
   "source": [
    "# inputs x1, x2\n",
    "x1 = Value(2.0, label='x1')\n",
    "x2 = Value(0.0, label='x2')\n",
    "\n",
    "# weights w1, w2\n",
    "w1 = Value(-3.0, label='w1')\n",
    "w2 = Value(1.0, label='w2')\n",
    "\n",
    "# bias\n",
    "b = Value(6.7, label='b')\n",
    "\n",
    "# linear combination: x1 * w1 + x2 * w2 + b\n",
    "x1w1 = x1 * w1; x1w1._label = 'x1w1'\n",
    "x2w2 = x2 * w2; x2w2._label = 'x2w2'\n",
    "x1w1x2w2 = x1w1 + x2w2; x1w1x2w2._label = 'x1w1 + x2w2'\n",
    "n = x1w1x2w2 + b; n._label = 'n'"
   ],
   "id": "b3db075a82d91815",
   "outputs": [],
   "execution_count": 88
  },
  {
   "metadata": {
    "ExecuteTime": {
     "end_time": "2024-09-08T12:17:32.007167Z",
     "start_time": "2024-09-08T12:17:31.979757Z"
    }
   },
   "cell_type": "code",
   "source": "draw_dot(n)",
   "id": "dbb4137500c1249",
   "outputs": [
    {
     "data": {
      "image/svg+xml": "<?xml version=\"1.0\" encoding=\"UTF-8\" standalone=\"no\"?>\n<!DOCTYPE svg PUBLIC \"-//W3C//DTD SVG 1.1//EN\"\n \"http://www.w3.org/Graphics/SVG/1.1/DTD/svg11.dtd\">\n<!-- Generated by graphviz version 2.50.0 (0)\n -->\n<!-- Title: svg Pages: 1 -->\n<svg width=\"796pt\" height=\"306pt\"\n viewBox=\"0.00 0.00 796.00 306.00\" xmlns=\"http://www.w3.org/2000/svg\" xmlns:xlink=\"http://www.w3.org/1999/xlink\">\n<g id=\"graph0\" class=\"graph\" transform=\"scale(1 1) rotate(0) translate(4 302)\">\n<title>svg</title>\n<polygon fill=\"#272822\" stroke=\"transparent\" points=\"-4,4 -4,-302 792,-302 792,4 -4,4\"/>\n<!-- 2085310506512 -->\n<g id=\"node1\" class=\"node\">\n<title>2085310506512</title>\n<polygon fill=\"#2e2e2e\" stroke=\"white\" points=\"690,-78.5 690,-138.5 788,-138.5 788,-78.5 690,-78.5\"/>\n<text text-anchor=\"middle\" x=\"739\" y=\"-125.7\" font-family=\"monospace\" font-size=\"11.00\" fill=\"white\">n</text>\n<polyline fill=\"none\" stroke=\"white\" points=\"690,-118.5 788,-118.5 \"/>\n<text text-anchor=\"middle\" x=\"739\" y=\"-105.7\" font-family=\"monospace\" font-size=\"11.00\" fill=\"white\">data: 0.7000</text>\n<polyline fill=\"none\" stroke=\"white\" points=\"690,-98.5 788,-98.5 \"/>\n<text text-anchor=\"middle\" x=\"739\" y=\"-85.7\" font-family=\"monospace\" font-size=\"11.00\" fill=\"white\">grad: 0.0000</text>\n</g>\n<!-- 2085310506512+ -->\n<g id=\"node2\" class=\"node\">\n<title>2085310506512+</title>\n<ellipse fill=\"#2e2e2e\" stroke=\"white\" cx=\"627\" cy=\"-108.5\" rx=\"27\" ry=\"18\"/>\n<text text-anchor=\"middle\" x=\"627\" y=\"-105.7\" font-family=\"monospace\" font-size=\"11.00\" fill=\"white\">+</text>\n</g>\n<!-- 2085310506512+&#45;&gt;2085310506512 -->\n<g id=\"edge1\" class=\"edge\">\n<title>2085310506512+&#45;&gt;2085310506512</title>\n<path fill=\"none\" stroke=\"white\" d=\"M654.07,-108.5C661.82,-108.5 670.65,-108.5 679.6,-108.5\"/>\n<polygon fill=\"white\" stroke=\"white\" points=\"679.7,-112 689.7,-108.5 679.7,-105 679.7,-112\"/>\n</g>\n<!-- 2085309610000 -->\n<g id=\"node3\" class=\"node\">\n<title>2085309610000</title>\n<polygon fill=\"#2e2e2e\" stroke=\"white\" points=\"233,-158.5 233,-218.5 331,-218.5 331,-158.5 233,-158.5\"/>\n<text text-anchor=\"middle\" x=\"282\" y=\"-205.7\" font-family=\"monospace\" font-size=\"11.00\" fill=\"white\">x2w2</text>\n<polyline fill=\"none\" stroke=\"white\" points=\"233,-198.5 331,-198.5 \"/>\n<text text-anchor=\"middle\" x=\"282\" y=\"-185.7\" font-family=\"monospace\" font-size=\"11.00\" fill=\"white\">data: 0.0000</text>\n<polyline fill=\"none\" stroke=\"white\" points=\"233,-178.5 331,-178.5 \"/>\n<text text-anchor=\"middle\" x=\"282\" y=\"-165.7\" font-family=\"monospace\" font-size=\"11.00\" fill=\"white\">grad: 0.0000</text>\n</g>\n<!-- 2085310508624+ -->\n<g id=\"node6\" class=\"node\">\n<title>2085310508624+</title>\n<ellipse fill=\"#2e2e2e\" stroke=\"white\" cx=\"397\" cy=\"-148.5\" rx=\"27\" ry=\"18\"/>\n<text text-anchor=\"middle\" x=\"397\" y=\"-145.7\" font-family=\"monospace\" font-size=\"11.00\" fill=\"white\">+</text>\n</g>\n<!-- 2085309610000&#45;&gt;2085310508624+ -->\n<g id=\"edge10\" class=\"edge\">\n<title>2085309610000&#45;&gt;2085310508624+</title>\n<path fill=\"none\" stroke=\"white\" d=\"M331.25,-171.42C342.05,-167.6 353.26,-163.63 363.25,-160.09\"/>\n<polygon fill=\"white\" stroke=\"white\" points=\"364.52,-163.35 372.78,-156.72 362.19,-156.76 364.52,-163.35\"/>\n</g>\n<!-- 2085309610000* -->\n<g id=\"node4\" class=\"node\">\n<title>2085309610000*</title>\n<ellipse fill=\"#2e2e2e\" stroke=\"white\" cx=\"167\" cy=\"-188.5\" rx=\"27\" ry=\"18\"/>\n<text text-anchor=\"middle\" x=\"167\" y=\"-185.7\" font-family=\"monospace\" font-size=\"11.00\" fill=\"white\">*</text>\n</g>\n<!-- 2085309610000*&#45;&gt;2085309610000 -->\n<g id=\"edge2\" class=\"edge\">\n<title>2085309610000*&#45;&gt;2085309610000</title>\n<path fill=\"none\" stroke=\"white\" d=\"M194.21,-188.5C202.72,-188.5 212.55,-188.5 222.45,-188.5\"/>\n<polygon fill=\"white\" stroke=\"white\" points=\"222.75,-192 232.75,-188.5 222.75,-185 222.75,-192\"/>\n</g>\n<!-- 2085310508624 -->\n<g id=\"node5\" class=\"node\">\n<title>2085310508624</title>\n<polygon fill=\"#2e2e2e\" stroke=\"white\" points=\"460,-118.5 460,-178.5 564,-178.5 564,-118.5 460,-118.5\"/>\n<text text-anchor=\"middle\" x=\"512\" y=\"-165.7\" font-family=\"monospace\" font-size=\"11.00\" fill=\"white\">x1w1 + x2w2</text>\n<polyline fill=\"none\" stroke=\"white\" points=\"460,-158.5 564,-158.5 \"/>\n<text text-anchor=\"middle\" x=\"512\" y=\"-145.7\" font-family=\"monospace\" font-size=\"11.00\" fill=\"white\">data: &#45;6.0000</text>\n<polyline fill=\"none\" stroke=\"white\" points=\"460,-138.5 564,-138.5 \"/>\n<text text-anchor=\"middle\" x=\"512\" y=\"-125.7\" font-family=\"monospace\" font-size=\"11.00\" fill=\"white\">grad: 0.0000</text>\n</g>\n<!-- 2085310508624&#45;&gt;2085310506512+ -->\n<g id=\"edge12\" class=\"edge\">\n<title>2085310508624&#45;&gt;2085310506512+</title>\n<path fill=\"none\" stroke=\"white\" d=\"M564.21,-130.37C574.16,-126.85 584.33,-123.25 593.47,-120.01\"/>\n<polygon fill=\"white\" stroke=\"white\" points=\"594.67,-123.3 602.93,-116.67 592.33,-116.7 594.67,-123.3\"/>\n</g>\n<!-- 2085310508624+&#45;&gt;2085310508624 -->\n<g id=\"edge3\" class=\"edge\">\n<title>2085310508624+&#45;&gt;2085310508624</title>\n<path fill=\"none\" stroke=\"white\" d=\"M424.21,-148.5C431.88,-148.5 440.62,-148.5 449.51,-148.5\"/>\n<polygon fill=\"white\" stroke=\"white\" points=\"449.58,-152 459.58,-148.5 449.58,-145 449.58,-152\"/>\n</g>\n<!-- 2085310151312 -->\n<g id=\"node7\" class=\"node\">\n<title>2085310151312</title>\n<polygon fill=\"#2e2e2e\" stroke=\"white\" points=\"3,-237.5 3,-297.5 101,-297.5 101,-237.5 3,-237.5\"/>\n<text text-anchor=\"middle\" x=\"52\" y=\"-284.7\" font-family=\"monospace\" font-size=\"11.00\" fill=\"white\">x2</text>\n<polyline fill=\"none\" stroke=\"white\" points=\"3,-277.5 101,-277.5 \"/>\n<text text-anchor=\"middle\" x=\"52\" y=\"-264.7\" font-family=\"monospace\" font-size=\"11.00\" fill=\"white\">data: 0.0000</text>\n<polyline fill=\"none\" stroke=\"white\" points=\"3,-257.5 101,-257.5 \"/>\n<text text-anchor=\"middle\" x=\"52\" y=\"-244.7\" font-family=\"monospace\" font-size=\"11.00\" fill=\"white\">grad: 0.0000</text>\n</g>\n<!-- 2085310151312&#45;&gt;2085309610000* -->\n<g id=\"edge8\" class=\"edge\">\n<title>2085310151312&#45;&gt;2085309610000*</title>\n<path fill=\"none\" stroke=\"white\" d=\"M96.04,-237.41C110.54,-227.28 126.28,-216.27 139.16,-207.26\"/>\n<polygon fill=\"white\" stroke=\"white\" points=\"141.38,-209.98 147.57,-201.39 137.37,-204.25 141.38,-209.98\"/>\n</g>\n<!-- 2085310569680 -->\n<g id=\"node8\" class=\"node\">\n<title>2085310569680</title>\n<polygon fill=\"#2e2e2e\" stroke=\"white\" points=\"463,-39.5 463,-99.5 561,-99.5 561,-39.5 463,-39.5\"/>\n<text text-anchor=\"middle\" x=\"512\" y=\"-86.7\" font-family=\"monospace\" font-size=\"11.00\" fill=\"white\">b</text>\n<polyline fill=\"none\" stroke=\"white\" points=\"463,-79.5 561,-79.5 \"/>\n<text text-anchor=\"middle\" x=\"512\" y=\"-66.7\" font-family=\"monospace\" font-size=\"11.00\" fill=\"white\">data: 6.7000</text>\n<polyline fill=\"none\" stroke=\"white\" points=\"463,-59.5 561,-59.5 \"/>\n<text text-anchor=\"middle\" x=\"512\" y=\"-46.7\" font-family=\"monospace\" font-size=\"11.00\" fill=\"white\">grad: 0.0000</text>\n</g>\n<!-- 2085310569680&#45;&gt;2085310506512+ -->\n<g id=\"edge5\" class=\"edge\">\n<title>2085310569680&#45;&gt;2085310506512+</title>\n<path fill=\"none\" stroke=\"white\" d=\"M561.25,-86.15C572.05,-89.88 583.26,-93.75 593.25,-97.2\"/>\n<polygon fill=\"white\" stroke=\"white\" points=\"592.19,-100.53 602.78,-100.49 594.47,-93.92 592.19,-100.53\"/>\n</g>\n<!-- 2085309602128 -->\n<g id=\"node9\" class=\"node\">\n<title>2085309602128</title>\n<polygon fill=\"#2e2e2e\" stroke=\"white\" points=\"3,-79.5 3,-139.5 101,-139.5 101,-79.5 3,-79.5\"/>\n<text text-anchor=\"middle\" x=\"52\" y=\"-126.7\" font-family=\"monospace\" font-size=\"11.00\" fill=\"white\">x1</text>\n<polyline fill=\"none\" stroke=\"white\" points=\"3,-119.5 101,-119.5 \"/>\n<text text-anchor=\"middle\" x=\"52\" y=\"-106.7\" font-family=\"monospace\" font-size=\"11.00\" fill=\"white\">data: 2.0000</text>\n<polyline fill=\"none\" stroke=\"white\" points=\"3,-99.5 101,-99.5 \"/>\n<text text-anchor=\"middle\" x=\"52\" y=\"-86.7\" font-family=\"monospace\" font-size=\"11.00\" fill=\"white\">grad: 0.0000</text>\n</g>\n<!-- 2085310522768* -->\n<g id=\"node12\" class=\"node\">\n<title>2085310522768*</title>\n<ellipse fill=\"#2e2e2e\" stroke=\"white\" cx=\"167\" cy=\"-109.5\" rx=\"27\" ry=\"18\"/>\n<text text-anchor=\"middle\" x=\"167\" y=\"-106.7\" font-family=\"monospace\" font-size=\"11.00\" fill=\"white\">*</text>\n</g>\n<!-- 2085309602128&#45;&gt;2085310522768* -->\n<g id=\"edge11\" class=\"edge\">\n<title>2085309602128&#45;&gt;2085310522768*</title>\n<path fill=\"none\" stroke=\"white\" d=\"M101.25,-109.5C110.74,-109.5 120.54,-109.5 129.56,-109.5\"/>\n<polygon fill=\"white\" stroke=\"white\" points=\"129.72,-113 139.72,-109.5 129.72,-106 129.72,-113\"/>\n</g>\n<!-- 2085310528848 -->\n<g id=\"node10\" class=\"node\">\n<title>2085310528848</title>\n<polygon fill=\"#2e2e2e\" stroke=\"white\" points=\"3,-158.5 3,-218.5 101,-218.5 101,-158.5 3,-158.5\"/>\n<text text-anchor=\"middle\" x=\"52\" y=\"-205.7\" font-family=\"monospace\" font-size=\"11.00\" fill=\"white\">w2</text>\n<polyline fill=\"none\" stroke=\"white\" points=\"3,-198.5 101,-198.5 \"/>\n<text text-anchor=\"middle\" x=\"52\" y=\"-185.7\" font-family=\"monospace\" font-size=\"11.00\" fill=\"white\">data: 1.0000</text>\n<polyline fill=\"none\" stroke=\"white\" points=\"3,-178.5 101,-178.5 \"/>\n<text text-anchor=\"middle\" x=\"52\" y=\"-165.7\" font-family=\"monospace\" font-size=\"11.00\" fill=\"white\">grad: 0.0000</text>\n</g>\n<!-- 2085310528848&#45;&gt;2085309610000* -->\n<g id=\"edge7\" class=\"edge\">\n<title>2085310528848&#45;&gt;2085309610000*</title>\n<path fill=\"none\" stroke=\"white\" d=\"M101.25,-188.5C110.74,-188.5 120.54,-188.5 129.56,-188.5\"/>\n<polygon fill=\"white\" stroke=\"white\" points=\"129.72,-192 139.72,-188.5 129.72,-185 129.72,-192\"/>\n</g>\n<!-- 2085310522768 -->\n<g id=\"node11\" class=\"node\">\n<title>2085310522768</title>\n<polygon fill=\"#2e2e2e\" stroke=\"white\" points=\"230,-79.5 230,-139.5 334,-139.5 334,-79.5 230,-79.5\"/>\n<text text-anchor=\"middle\" x=\"282\" y=\"-126.7\" font-family=\"monospace\" font-size=\"11.00\" fill=\"white\">x1w1</text>\n<polyline fill=\"none\" stroke=\"white\" points=\"230,-119.5 334,-119.5 \"/>\n<text text-anchor=\"middle\" x=\"282\" y=\"-106.7\" font-family=\"monospace\" font-size=\"11.00\" fill=\"white\">data: &#45;6.0000</text>\n<polyline fill=\"none\" stroke=\"white\" points=\"230,-99.5 334,-99.5 \"/>\n<text text-anchor=\"middle\" x=\"282\" y=\"-86.7\" font-family=\"monospace\" font-size=\"11.00\" fill=\"white\">grad: 0.0000</text>\n</g>\n<!-- 2085310522768&#45;&gt;2085310508624+ -->\n<g id=\"edge9\" class=\"edge\">\n<title>2085310522768&#45;&gt;2085310508624+</title>\n<path fill=\"none\" stroke=\"white\" d=\"M334.21,-127.17C343.97,-130.54 353.94,-133.98 362.94,-137.09\"/>\n<polygon fill=\"white\" stroke=\"white\" points=\"362.04,-140.48 372.64,-140.44 364.33,-133.87 362.04,-140.48\"/>\n</g>\n<!-- 2085310522768*&#45;&gt;2085310522768 -->\n<g id=\"edge4\" class=\"edge\">\n<title>2085310522768*&#45;&gt;2085310522768</title>\n<path fill=\"none\" stroke=\"white\" d=\"M194.21,-109.5C201.88,-109.5 210.62,-109.5 219.51,-109.5\"/>\n<polygon fill=\"white\" stroke=\"white\" points=\"219.58,-113 229.58,-109.5 219.58,-106 219.58,-113\"/>\n</g>\n<!-- 2085310151120 -->\n<g id=\"node13\" class=\"node\">\n<title>2085310151120</title>\n<polygon fill=\"#2e2e2e\" stroke=\"white\" points=\"0,-0.5 0,-60.5 104,-60.5 104,-0.5 0,-0.5\"/>\n<text text-anchor=\"middle\" x=\"52\" y=\"-47.7\" font-family=\"monospace\" font-size=\"11.00\" fill=\"white\">w1</text>\n<polyline fill=\"none\" stroke=\"white\" points=\"0,-40.5 104,-40.5 \"/>\n<text text-anchor=\"middle\" x=\"52\" y=\"-27.7\" font-family=\"monospace\" font-size=\"11.00\" fill=\"white\">data: &#45;3.0000</text>\n<polyline fill=\"none\" stroke=\"white\" points=\"0,-20.5 104,-20.5 \"/>\n<text text-anchor=\"middle\" x=\"52\" y=\"-7.7\" font-family=\"monospace\" font-size=\"11.00\" fill=\"white\">grad: 0.0000</text>\n</g>\n<!-- 2085310151120&#45;&gt;2085310522768* -->\n<g id=\"edge6\" class=\"edge\">\n<title>2085310151120&#45;&gt;2085310522768*</title>\n<path fill=\"none\" stroke=\"white\" d=\"M96.04,-60.59C110.54,-70.72 126.28,-81.73 139.16,-90.74\"/>\n<polygon fill=\"white\" stroke=\"white\" points=\"137.37,-93.75 147.57,-96.61 141.38,-88.02 137.37,-93.75\"/>\n</g>\n</g>\n</svg>\n",
      "text/plain": [
       "<graphviz.graphs.Digraph at 0x1e587a095d0>"
      ]
     },
     "execution_count": 89,
     "metadata": {},
     "output_type": "execute_result"
    }
   ],
   "execution_count": 89
  },
  {
   "metadata": {
    "ExecuteTime": {
     "end_time": "2024-09-08T12:17:34.614399Z",
     "start_time": "2024-09-08T12:17:34.611592Z"
    }
   },
   "cell_type": "code",
   "source": [
    "# let's add the tanh activation function\n",
    "o = n.tanh(); o._label = 'o'"
   ],
   "id": "382dcf6d47566eac",
   "outputs": [],
   "execution_count": 90
  },
  {
   "metadata": {
    "ExecuteTime": {
     "end_time": "2024-09-08T12:17:36.078956Z",
     "start_time": "2024-09-08T12:17:35.947423Z"
    }
   },
   "cell_type": "code",
   "source": "draw_dot(o)",
   "id": "df142670bd997924",
   "outputs": [
    {
     "data": {
      "image/svg+xml": "<?xml version=\"1.0\" encoding=\"UTF-8\" standalone=\"no\"?>\n<!DOCTYPE svg PUBLIC \"-//W3C//DTD SVG 1.1//EN\"\n \"http://www.w3.org/Graphics/SVG/1.1/DTD/svg11.dtd\">\n<!-- Generated by graphviz version 2.50.0 (0)\n -->\n<!-- Title: svg Pages: 1 -->\n<svg width=\"1020pt\" height=\"306pt\"\n viewBox=\"0.00 0.00 1020.00 306.00\" xmlns=\"http://www.w3.org/2000/svg\" xmlns:xlink=\"http://www.w3.org/1999/xlink\">\n<g id=\"graph0\" class=\"graph\" transform=\"scale(1 1) rotate(0) translate(4 302)\">\n<title>svg</title>\n<polygon fill=\"#272822\" stroke=\"transparent\" points=\"-4,4 -4,-302 1016,-302 1016,4 -4,4\"/>\n<!-- 2085310506512 -->\n<g id=\"node1\" class=\"node\">\n<title>2085310506512</title>\n<polygon fill=\"#2e2e2e\" stroke=\"white\" points=\"690,-78.5 690,-138.5 788,-138.5 788,-78.5 690,-78.5\"/>\n<text text-anchor=\"middle\" x=\"739\" y=\"-125.7\" font-family=\"monospace\" font-size=\"11.00\" fill=\"white\">n</text>\n<polyline fill=\"none\" stroke=\"white\" points=\"690,-118.5 788,-118.5 \"/>\n<text text-anchor=\"middle\" x=\"739\" y=\"-105.7\" font-family=\"monospace\" font-size=\"11.00\" fill=\"white\">data: 0.7000</text>\n<polyline fill=\"none\" stroke=\"white\" points=\"690,-98.5 788,-98.5 \"/>\n<text text-anchor=\"middle\" x=\"739\" y=\"-85.7\" font-family=\"monospace\" font-size=\"11.00\" fill=\"white\">grad: 0.0000</text>\n</g>\n<!-- 2085334584912tanh -->\n<g id=\"node8\" class=\"node\">\n<title>2085334584912tanh</title>\n<ellipse fill=\"#2e2e2e\" stroke=\"white\" cx=\"851\" cy=\"-108.5\" rx=\"27\" ry=\"18\"/>\n<text text-anchor=\"middle\" x=\"851\" y=\"-105.7\" font-family=\"monospace\" font-size=\"11.00\" fill=\"white\">tanh</text>\n</g>\n<!-- 2085310506512&#45;&gt;2085334584912tanh -->\n<g id=\"edge13\" class=\"edge\">\n<title>2085310506512&#45;&gt;2085334584912tanh</title>\n<path fill=\"none\" stroke=\"white\" d=\"M788.25,-108.5C796.76,-108.5 805.48,-108.5 813.6,-108.5\"/>\n<polygon fill=\"white\" stroke=\"white\" points=\"813.85,-112 823.85,-108.5 813.85,-105 813.85,-112\"/>\n</g>\n<!-- 2085310506512+ -->\n<g id=\"node2\" class=\"node\">\n<title>2085310506512+</title>\n<ellipse fill=\"#2e2e2e\" stroke=\"white\" cx=\"627\" cy=\"-108.5\" rx=\"27\" ry=\"18\"/>\n<text text-anchor=\"middle\" x=\"627\" y=\"-105.7\" font-family=\"monospace\" font-size=\"11.00\" fill=\"white\">+</text>\n</g>\n<!-- 2085310506512+&#45;&gt;2085310506512 -->\n<g id=\"edge1\" class=\"edge\">\n<title>2085310506512+&#45;&gt;2085310506512</title>\n<path fill=\"none\" stroke=\"white\" d=\"M654.07,-108.5C661.82,-108.5 670.65,-108.5 679.6,-108.5\"/>\n<polygon fill=\"white\" stroke=\"white\" points=\"679.7,-112 689.7,-108.5 679.7,-105 679.7,-112\"/>\n</g>\n<!-- 2085309610000 -->\n<g id=\"node3\" class=\"node\">\n<title>2085309610000</title>\n<polygon fill=\"#2e2e2e\" stroke=\"white\" points=\"233,-158.5 233,-218.5 331,-218.5 331,-158.5 233,-158.5\"/>\n<text text-anchor=\"middle\" x=\"282\" y=\"-205.7\" font-family=\"monospace\" font-size=\"11.00\" fill=\"white\">x2w2</text>\n<polyline fill=\"none\" stroke=\"white\" points=\"233,-198.5 331,-198.5 \"/>\n<text text-anchor=\"middle\" x=\"282\" y=\"-185.7\" font-family=\"monospace\" font-size=\"11.00\" fill=\"white\">data: 0.0000</text>\n<polyline fill=\"none\" stroke=\"white\" points=\"233,-178.5 331,-178.5 \"/>\n<text text-anchor=\"middle\" x=\"282\" y=\"-165.7\" font-family=\"monospace\" font-size=\"11.00\" fill=\"white\">grad: 0.0000</text>\n</g>\n<!-- 2085310508624+ -->\n<g id=\"node6\" class=\"node\">\n<title>2085310508624+</title>\n<ellipse fill=\"#2e2e2e\" stroke=\"white\" cx=\"397\" cy=\"-148.5\" rx=\"27\" ry=\"18\"/>\n<text text-anchor=\"middle\" x=\"397\" y=\"-145.7\" font-family=\"monospace\" font-size=\"11.00\" fill=\"white\">+</text>\n</g>\n<!-- 2085309610000&#45;&gt;2085310508624+ -->\n<g id=\"edge11\" class=\"edge\">\n<title>2085309610000&#45;&gt;2085310508624+</title>\n<path fill=\"none\" stroke=\"white\" d=\"M331.25,-171.42C342.05,-167.6 353.26,-163.63 363.25,-160.09\"/>\n<polygon fill=\"white\" stroke=\"white\" points=\"364.52,-163.35 372.78,-156.72 362.19,-156.76 364.52,-163.35\"/>\n</g>\n<!-- 2085309610000* -->\n<g id=\"node4\" class=\"node\">\n<title>2085309610000*</title>\n<ellipse fill=\"#2e2e2e\" stroke=\"white\" cx=\"167\" cy=\"-188.5\" rx=\"27\" ry=\"18\"/>\n<text text-anchor=\"middle\" x=\"167\" y=\"-185.7\" font-family=\"monospace\" font-size=\"11.00\" fill=\"white\">*</text>\n</g>\n<!-- 2085309610000*&#45;&gt;2085309610000 -->\n<g id=\"edge2\" class=\"edge\">\n<title>2085309610000*&#45;&gt;2085309610000</title>\n<path fill=\"none\" stroke=\"white\" d=\"M194.21,-188.5C202.72,-188.5 212.55,-188.5 222.45,-188.5\"/>\n<polygon fill=\"white\" stroke=\"white\" points=\"222.75,-192 232.75,-188.5 222.75,-185 222.75,-192\"/>\n</g>\n<!-- 2085310508624 -->\n<g id=\"node5\" class=\"node\">\n<title>2085310508624</title>\n<polygon fill=\"#2e2e2e\" stroke=\"white\" points=\"460,-118.5 460,-178.5 564,-178.5 564,-118.5 460,-118.5\"/>\n<text text-anchor=\"middle\" x=\"512\" y=\"-165.7\" font-family=\"monospace\" font-size=\"11.00\" fill=\"white\">x1w1 + x2w2</text>\n<polyline fill=\"none\" stroke=\"white\" points=\"460,-158.5 564,-158.5 \"/>\n<text text-anchor=\"middle\" x=\"512\" y=\"-145.7\" font-family=\"monospace\" font-size=\"11.00\" fill=\"white\">data: &#45;6.0000</text>\n<polyline fill=\"none\" stroke=\"white\" points=\"460,-138.5 564,-138.5 \"/>\n<text text-anchor=\"middle\" x=\"512\" y=\"-125.7\" font-family=\"monospace\" font-size=\"11.00\" fill=\"white\">grad: 0.0000</text>\n</g>\n<!-- 2085310508624&#45;&gt;2085310506512+ -->\n<g id=\"edge14\" class=\"edge\">\n<title>2085310508624&#45;&gt;2085310506512+</title>\n<path fill=\"none\" stroke=\"white\" d=\"M564.21,-130.37C574.16,-126.85 584.33,-123.25 593.47,-120.01\"/>\n<polygon fill=\"white\" stroke=\"white\" points=\"594.67,-123.3 602.93,-116.67 592.33,-116.7 594.67,-123.3\"/>\n</g>\n<!-- 2085310508624+&#45;&gt;2085310508624 -->\n<g id=\"edge3\" class=\"edge\">\n<title>2085310508624+&#45;&gt;2085310508624</title>\n<path fill=\"none\" stroke=\"white\" d=\"M424.21,-148.5C431.88,-148.5 440.62,-148.5 449.51,-148.5\"/>\n<polygon fill=\"white\" stroke=\"white\" points=\"449.58,-152 459.58,-148.5 449.58,-145 449.58,-152\"/>\n</g>\n<!-- 2085334584912 -->\n<g id=\"node7\" class=\"node\">\n<title>2085334584912</title>\n<polygon fill=\"#2e2e2e\" stroke=\"white\" points=\"914,-78.5 914,-138.5 1012,-138.5 1012,-78.5 914,-78.5\"/>\n<text text-anchor=\"middle\" x=\"963\" y=\"-125.7\" font-family=\"monospace\" font-size=\"11.00\" fill=\"white\">o</text>\n<polyline fill=\"none\" stroke=\"white\" points=\"914,-118.5 1012,-118.5 \"/>\n<text text-anchor=\"middle\" x=\"963\" y=\"-105.7\" font-family=\"monospace\" font-size=\"11.00\" fill=\"white\">data: 0.6044</text>\n<polyline fill=\"none\" stroke=\"white\" points=\"914,-98.5 1012,-98.5 \"/>\n<text text-anchor=\"middle\" x=\"963\" y=\"-85.7\" font-family=\"monospace\" font-size=\"11.00\" fill=\"white\">grad: 0.0000</text>\n</g>\n<!-- 2085334584912tanh&#45;&gt;2085334584912 -->\n<g id=\"edge4\" class=\"edge\">\n<title>2085334584912tanh&#45;&gt;2085334584912</title>\n<path fill=\"none\" stroke=\"white\" d=\"M878.07,-108.5C885.82,-108.5 894.65,-108.5 903.6,-108.5\"/>\n<polygon fill=\"white\" stroke=\"white\" points=\"903.7,-112 913.7,-108.5 903.7,-105 903.7,-112\"/>\n</g>\n<!-- 2085310151312 -->\n<g id=\"node9\" class=\"node\">\n<title>2085310151312</title>\n<polygon fill=\"#2e2e2e\" stroke=\"white\" points=\"3,-237.5 3,-297.5 101,-297.5 101,-237.5 3,-237.5\"/>\n<text text-anchor=\"middle\" x=\"52\" y=\"-284.7\" font-family=\"monospace\" font-size=\"11.00\" fill=\"white\">x2</text>\n<polyline fill=\"none\" stroke=\"white\" points=\"3,-277.5 101,-277.5 \"/>\n<text text-anchor=\"middle\" x=\"52\" y=\"-264.7\" font-family=\"monospace\" font-size=\"11.00\" fill=\"white\">data: 0.0000</text>\n<polyline fill=\"none\" stroke=\"white\" points=\"3,-257.5 101,-257.5 \"/>\n<text text-anchor=\"middle\" x=\"52\" y=\"-244.7\" font-family=\"monospace\" font-size=\"11.00\" fill=\"white\">grad: 0.0000</text>\n</g>\n<!-- 2085310151312&#45;&gt;2085309610000* -->\n<g id=\"edge9\" class=\"edge\">\n<title>2085310151312&#45;&gt;2085309610000*</title>\n<path fill=\"none\" stroke=\"white\" d=\"M96.04,-237.41C110.54,-227.28 126.28,-216.27 139.16,-207.26\"/>\n<polygon fill=\"white\" stroke=\"white\" points=\"141.38,-209.98 147.57,-201.39 137.37,-204.25 141.38,-209.98\"/>\n</g>\n<!-- 2085310569680 -->\n<g id=\"node10\" class=\"node\">\n<title>2085310569680</title>\n<polygon fill=\"#2e2e2e\" stroke=\"white\" points=\"463,-39.5 463,-99.5 561,-99.5 561,-39.5 463,-39.5\"/>\n<text text-anchor=\"middle\" x=\"512\" y=\"-86.7\" font-family=\"monospace\" font-size=\"11.00\" fill=\"white\">b</text>\n<polyline fill=\"none\" stroke=\"white\" points=\"463,-79.5 561,-79.5 \"/>\n<text text-anchor=\"middle\" x=\"512\" y=\"-66.7\" font-family=\"monospace\" font-size=\"11.00\" fill=\"white\">data: 6.7000</text>\n<polyline fill=\"none\" stroke=\"white\" points=\"463,-59.5 561,-59.5 \"/>\n<text text-anchor=\"middle\" x=\"512\" y=\"-46.7\" font-family=\"monospace\" font-size=\"11.00\" fill=\"white\">grad: 0.0000</text>\n</g>\n<!-- 2085310569680&#45;&gt;2085310506512+ -->\n<g id=\"edge6\" class=\"edge\">\n<title>2085310569680&#45;&gt;2085310506512+</title>\n<path fill=\"none\" stroke=\"white\" d=\"M561.25,-86.15C572.05,-89.88 583.26,-93.75 593.25,-97.2\"/>\n<polygon fill=\"white\" stroke=\"white\" points=\"592.19,-100.53 602.78,-100.49 594.47,-93.92 592.19,-100.53\"/>\n</g>\n<!-- 2085309602128 -->\n<g id=\"node11\" class=\"node\">\n<title>2085309602128</title>\n<polygon fill=\"#2e2e2e\" stroke=\"white\" points=\"3,-79.5 3,-139.5 101,-139.5 101,-79.5 3,-79.5\"/>\n<text text-anchor=\"middle\" x=\"52\" y=\"-126.7\" font-family=\"monospace\" font-size=\"11.00\" fill=\"white\">x1</text>\n<polyline fill=\"none\" stroke=\"white\" points=\"3,-119.5 101,-119.5 \"/>\n<text text-anchor=\"middle\" x=\"52\" y=\"-106.7\" font-family=\"monospace\" font-size=\"11.00\" fill=\"white\">data: 2.0000</text>\n<polyline fill=\"none\" stroke=\"white\" points=\"3,-99.5 101,-99.5 \"/>\n<text text-anchor=\"middle\" x=\"52\" y=\"-86.7\" font-family=\"monospace\" font-size=\"11.00\" fill=\"white\">grad: 0.0000</text>\n</g>\n<!-- 2085310522768* -->\n<g id=\"node14\" class=\"node\">\n<title>2085310522768*</title>\n<ellipse fill=\"#2e2e2e\" stroke=\"white\" cx=\"167\" cy=\"-109.5\" rx=\"27\" ry=\"18\"/>\n<text text-anchor=\"middle\" x=\"167\" y=\"-106.7\" font-family=\"monospace\" font-size=\"11.00\" fill=\"white\">*</text>\n</g>\n<!-- 2085309602128&#45;&gt;2085310522768* -->\n<g id=\"edge12\" class=\"edge\">\n<title>2085309602128&#45;&gt;2085310522768*</title>\n<path fill=\"none\" stroke=\"white\" d=\"M101.25,-109.5C110.74,-109.5 120.54,-109.5 129.56,-109.5\"/>\n<polygon fill=\"white\" stroke=\"white\" points=\"129.72,-113 139.72,-109.5 129.72,-106 129.72,-113\"/>\n</g>\n<!-- 2085310528848 -->\n<g id=\"node12\" class=\"node\">\n<title>2085310528848</title>\n<polygon fill=\"#2e2e2e\" stroke=\"white\" points=\"3,-158.5 3,-218.5 101,-218.5 101,-158.5 3,-158.5\"/>\n<text text-anchor=\"middle\" x=\"52\" y=\"-205.7\" font-family=\"monospace\" font-size=\"11.00\" fill=\"white\">w2</text>\n<polyline fill=\"none\" stroke=\"white\" points=\"3,-198.5 101,-198.5 \"/>\n<text text-anchor=\"middle\" x=\"52\" y=\"-185.7\" font-family=\"monospace\" font-size=\"11.00\" fill=\"white\">data: 1.0000</text>\n<polyline fill=\"none\" stroke=\"white\" points=\"3,-178.5 101,-178.5 \"/>\n<text text-anchor=\"middle\" x=\"52\" y=\"-165.7\" font-family=\"monospace\" font-size=\"11.00\" fill=\"white\">grad: 0.0000</text>\n</g>\n<!-- 2085310528848&#45;&gt;2085309610000* -->\n<g id=\"edge8\" class=\"edge\">\n<title>2085310528848&#45;&gt;2085309610000*</title>\n<path fill=\"none\" stroke=\"white\" d=\"M101.25,-188.5C110.74,-188.5 120.54,-188.5 129.56,-188.5\"/>\n<polygon fill=\"white\" stroke=\"white\" points=\"129.72,-192 139.72,-188.5 129.72,-185 129.72,-192\"/>\n</g>\n<!-- 2085310522768 -->\n<g id=\"node13\" class=\"node\">\n<title>2085310522768</title>\n<polygon fill=\"#2e2e2e\" stroke=\"white\" points=\"230,-79.5 230,-139.5 334,-139.5 334,-79.5 230,-79.5\"/>\n<text text-anchor=\"middle\" x=\"282\" y=\"-126.7\" font-family=\"monospace\" font-size=\"11.00\" fill=\"white\">x1w1</text>\n<polyline fill=\"none\" stroke=\"white\" points=\"230,-119.5 334,-119.5 \"/>\n<text text-anchor=\"middle\" x=\"282\" y=\"-106.7\" font-family=\"monospace\" font-size=\"11.00\" fill=\"white\">data: &#45;6.0000</text>\n<polyline fill=\"none\" stroke=\"white\" points=\"230,-99.5 334,-99.5 \"/>\n<text text-anchor=\"middle\" x=\"282\" y=\"-86.7\" font-family=\"monospace\" font-size=\"11.00\" fill=\"white\">grad: 0.0000</text>\n</g>\n<!-- 2085310522768&#45;&gt;2085310508624+ -->\n<g id=\"edge10\" class=\"edge\">\n<title>2085310522768&#45;&gt;2085310508624+</title>\n<path fill=\"none\" stroke=\"white\" d=\"M334.21,-127.17C343.97,-130.54 353.94,-133.98 362.94,-137.09\"/>\n<polygon fill=\"white\" stroke=\"white\" points=\"362.04,-140.48 372.64,-140.44 364.33,-133.87 362.04,-140.48\"/>\n</g>\n<!-- 2085310522768*&#45;&gt;2085310522768 -->\n<g id=\"edge5\" class=\"edge\">\n<title>2085310522768*&#45;&gt;2085310522768</title>\n<path fill=\"none\" stroke=\"white\" d=\"M194.21,-109.5C201.88,-109.5 210.62,-109.5 219.51,-109.5\"/>\n<polygon fill=\"white\" stroke=\"white\" points=\"219.58,-113 229.58,-109.5 219.58,-106 219.58,-113\"/>\n</g>\n<!-- 2085310151120 -->\n<g id=\"node15\" class=\"node\">\n<title>2085310151120</title>\n<polygon fill=\"#2e2e2e\" stroke=\"white\" points=\"0,-0.5 0,-60.5 104,-60.5 104,-0.5 0,-0.5\"/>\n<text text-anchor=\"middle\" x=\"52\" y=\"-47.7\" font-family=\"monospace\" font-size=\"11.00\" fill=\"white\">w1</text>\n<polyline fill=\"none\" stroke=\"white\" points=\"0,-40.5 104,-40.5 \"/>\n<text text-anchor=\"middle\" x=\"52\" y=\"-27.7\" font-family=\"monospace\" font-size=\"11.00\" fill=\"white\">data: &#45;3.0000</text>\n<polyline fill=\"none\" stroke=\"white\" points=\"0,-20.5 104,-20.5 \"/>\n<text text-anchor=\"middle\" x=\"52\" y=\"-7.7\" font-family=\"monospace\" font-size=\"11.00\" fill=\"white\">grad: 0.0000</text>\n</g>\n<!-- 2085310151120&#45;&gt;2085310522768* -->\n<g id=\"edge7\" class=\"edge\">\n<title>2085310151120&#45;&gt;2085310522768*</title>\n<path fill=\"none\" stroke=\"white\" d=\"M96.04,-60.59C110.54,-70.72 126.28,-81.73 139.16,-90.74\"/>\n<polygon fill=\"white\" stroke=\"white\" points=\"137.37,-93.75 147.57,-96.61 141.38,-88.02 137.37,-93.75\"/>\n</g>\n</g>\n</svg>\n",
      "text/plain": [
       "<graphviz.graphs.Digraph at 0x1e586314f90>"
      ]
     },
     "execution_count": 91,
     "metadata": {},
     "output_type": "execute_result"
    }
   ],
   "execution_count": 91
  },
  {
   "metadata": {},
   "cell_type": "code",
   "outputs": [],
   "execution_count": null,
   "source": "",
   "id": "12c43d2695c87452"
  }
 ],
 "metadata": {
  "kernelspec": {
   "display_name": "Python 3",
   "language": "python",
   "name": "python3"
  },
  "language_info": {
   "codemirror_mode": {
    "name": "ipython",
    "version": 2
   },
   "file_extension": ".py",
   "mimetype": "text/x-python",
   "name": "python",
   "nbconvert_exporter": "python",
   "pygments_lexer": "ipython2",
   "version": "2.7.6"
  }
 },
 "nbformat": 4,
 "nbformat_minor": 5
}
